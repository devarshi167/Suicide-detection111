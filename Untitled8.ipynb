{
  "nbformat": 4,
  "nbformat_minor": 0,
  "metadata": {
    "colab": {
      "provenance": [],
      "authorship_tag": "ABX9TyPXSWXggnmCCz8txAw7fYE2",
      "include_colab_link": true
    },
    "kernelspec": {
      "name": "python3",
      "display_name": "Python 3"
    },
    "language_info": {
      "name": "python"
    }
  },
  "cells": [
    {
      "cell_type": "markdown",
      "metadata": {
        "id": "view-in-github",
        "colab_type": "text"
      },
      "source": [
        "<a href=\"https://colab.research.google.com/github/devarshi167/Suicide-detection111/blob/main/Untitled8.ipynb\" target=\"_parent\"><img src=\"https://colab.research.google.com/assets/colab-badge.svg\" alt=\"Open In Colab\"/></a>"
      ]
    },
    {
      "cell_type": "markdown",
      "metadata": {
        "id": "a2914681"
      },
      "source": [
        "# Suicide Detection - Modeling"
      ]
    },
    {
      "cell_type": "markdown",
      "metadata": {
        "id": "5e708ec4"
      },
      "source": [
        "# Step 1:  Imports"
      ]
    },
    {
      "cell_type": "code",
      "execution_count": null,
      "metadata": {
        "id": "cf4295c5"
      },
      "outputs": [],
      "source": [
        "import pandas as pd\n",
        "\n",
        "from sklearn.model_selection import train_test_split, cross_validate, GridSearchCV, learning_curve\n",
        "import numpy as np\n",
        "import matplotlib.pyplot as plt\n",
        "from sklearn.naive_bayes import MultinomialNB\n",
        "from sklearn.ensemble import RandomForestClassifier\n",
        "from sklearn.linear_model import LogisticRegression\n",
        "\n",
        "from sklearn import tree, metrics\n",
        "\n",
        "from sklearn.pipeline import Pipeline, FeatureUnion\n",
        "from spacy.lang.en.stop_words import STOP_WORDS\n",
        "\n",
        "from sklearn.feature_extraction.text import TfidfVectorizer\n",
        "from sklearn.feature_extraction.text import CountVectorizer\n",
        "\n",
        "import warnings\n",
        "warnings.filterwarnings(\"ignore\")"
      ]
    },
    {
      "cell_type": "markdown",
      "metadata": {
        "id": "e3cb716c"
      },
      "source": [
        "# Step 2:  Load the Data"
      ]
    },
    {
      "cell_type": "code",
      "execution_count": null,
      "metadata": {
        "id": "8b995b8c"
      },
      "outputs": [],
      "source": [
        "df = pd.read_csv('Suicide_Detection_Cleaned.csv')"
      ]
    },
    {
      "cell_type": "code",
      "execution_count": null,
      "metadata": {
        "id": "05664333",
        "outputId": "277270cd-d8dd-45eb-ba49-dc8d7b758ed7"
      },
      "outputs": [
        {
          "data": {
            "text/html": [
              "<div>\n",
              "<style scoped>\n",
              "    .dataframe tbody tr th:only-of-type {\n",
              "        vertical-align: middle;\n",
              "    }\n",
              "\n",
              "    .dataframe tbody tr th {\n",
              "        vertical-align: top;\n",
              "    }\n",
              "\n",
              "    .dataframe thead th {\n",
              "        text-align: right;\n",
              "    }\n",
              "</style>\n",
              "<table border=\"1\" class=\"dataframe\">\n",
              "  <thead>\n",
              "    <tr style=\"text-align: right;\">\n",
              "      <th></th>\n",
              "      <th>Unnamed: 0.2</th>\n",
              "      <th>Unnamed: 0.1</th>\n",
              "      <th>Unnamed: 0</th>\n",
              "      <th>text</th>\n",
              "      <th>class</th>\n",
              "      <th>word</th>\n",
              "      <th>clean_text</th>\n",
              "      <th>length</th>\n",
              "      <th>sentiment</th>\n",
              "      <th>flesch_kincaid</th>\n",
              "      <th>repetition</th>\n",
              "    </tr>\n",
              "  </thead>\n",
              "  <tbody>\n",
              "    <tr>\n",
              "      <th>0</th>\n",
              "      <td>0</td>\n",
              "      <td>0</td>\n",
              "      <td>2</td>\n",
              "      <td>ex wife threatening suiciderecently i left my ...</td>\n",
              "      <td>suicide</td>\n",
              "      <td>['ex', 'wife', 'threatening', 'suiciderecently...</td>\n",
              "      <td>ex wife threatening suiciderecently left wife ...</td>\n",
              "      <td>345</td>\n",
              "      <td>0.100000</td>\n",
              "      <td>24.4</td>\n",
              "      <td>0</td>\n",
              "    </tr>\n",
              "    <tr>\n",
              "      <th>1</th>\n",
              "      <td>1</td>\n",
              "      <td>1</td>\n",
              "      <td>3</td>\n",
              "      <td>am i weird i do not get affected by compliment...</td>\n",
              "      <td>non-suicide</td>\n",
              "      <td>['weird', 'affected', 'compliment', 'coming', ...</td>\n",
              "      <td>weird affected compliment coming know irl feel...</td>\n",
              "      <td>69</td>\n",
              "      <td>0.100000</td>\n",
              "      <td>8.4</td>\n",
              "      <td>0</td>\n",
              "    </tr>\n",
              "    <tr>\n",
              "      <th>2</th>\n",
              "      <td>2</td>\n",
              "      <td>2</td>\n",
              "      <td>4</td>\n",
              "      <td>finally  is almost over so i can never hear  h...</td>\n",
              "      <td>non-suicide</td>\n",
              "      <td>['finally', 'hear', 'bad', 'year', 'swear', 'f...</td>\n",
              "      <td>finally hear bad year swear fucking god annoying</td>\n",
              "      <td>48</td>\n",
              "      <td>-0.525000</td>\n",
              "      <td>6.4</td>\n",
              "      <td>0</td>\n",
              "    </tr>\n",
              "    <tr>\n",
              "      <th>3</th>\n",
              "      <td>3</td>\n",
              "      <td>3</td>\n",
              "      <td>8</td>\n",
              "      <td>i need helpjust help me im crying so hard</td>\n",
              "      <td>suicide</td>\n",
              "      <td>['need', 'helpjust', 'help', 'im', 'cry', 'hard']</td>\n",
              "      <td>need helpjust help im cry hard</td>\n",
              "      <td>30</td>\n",
              "      <td>-0.291667</td>\n",
              "      <td>-1.5</td>\n",
              "      <td>0</td>\n",
              "    </tr>\n",
              "    <tr>\n",
              "      <th>4</th>\n",
              "      <td>4</td>\n",
              "      <td>4</td>\n",
              "      <td>9</td>\n",
              "      <td>i am so losthello my name is adam  and i have ...</td>\n",
              "      <td>suicide</td>\n",
              "      <td>['losthello', 'adam', 'struggling', 'year', 'a...</td>\n",
              "      <td>losthello adam struggling year afraid past yea...</td>\n",
              "      <td>1275</td>\n",
              "      <td>-0.228461</td>\n",
              "      <td>73.9</td>\n",
              "      <td>2</td>\n",
              "    </tr>\n",
              "  </tbody>\n",
              "</table>\n",
              "</div>"
            ],
            "text/plain": [
              "   Unnamed: 0.2  Unnamed: 0.1  Unnamed: 0  \\\n",
              "0             0             0           2   \n",
              "1             1             1           3   \n",
              "2             2             2           4   \n",
              "3             3             3           8   \n",
              "4             4             4           9   \n",
              "\n",
              "                                                text        class  \\\n",
              "0  ex wife threatening suiciderecently i left my ...      suicide   \n",
              "1  am i weird i do not get affected by compliment...  non-suicide   \n",
              "2  finally  is almost over so i can never hear  h...  non-suicide   \n",
              "3          i need helpjust help me im crying so hard      suicide   \n",
              "4  i am so losthello my name is adam  and i have ...      suicide   \n",
              "\n",
              "                                                word  \\\n",
              "0  ['ex', 'wife', 'threatening', 'suiciderecently...   \n",
              "1  ['weird', 'affected', 'compliment', 'coming', ...   \n",
              "2  ['finally', 'hear', 'bad', 'year', 'swear', 'f...   \n",
              "3  ['need', 'helpjust', 'help', 'im', 'cry', 'hard']   \n",
              "4  ['losthello', 'adam', 'struggling', 'year', 'a...   \n",
              "\n",
              "                                          clean_text  length  sentiment  \\\n",
              "0  ex wife threatening suiciderecently left wife ...     345   0.100000   \n",
              "1  weird affected compliment coming know irl feel...      69   0.100000   \n",
              "2   finally hear bad year swear fucking god annoying      48  -0.525000   \n",
              "3                     need helpjust help im cry hard      30  -0.291667   \n",
              "4  losthello adam struggling year afraid past yea...    1275  -0.228461   \n",
              "\n",
              "   flesch_kincaid  repetition  \n",
              "0            24.4           0  \n",
              "1             8.4           0  \n",
              "2             6.4           0  \n",
              "3            -1.5           0  \n",
              "4            73.9           2  "
            ]
          },
          "execution_count": 3,
          "metadata": {},
          "output_type": "execute_result"
        }
      ],
      "source": [
        "df.head(5)"
      ]
    },
    {
      "cell_type": "code",
      "execution_count": null,
      "metadata": {
        "id": "43c0f537"
      },
      "outputs": [],
      "source": [
        "df = df.dropna()"
      ]
    },
    {
      "cell_type": "code",
      "execution_count": null,
      "metadata": {
        "scrolled": true,
        "id": "5d830114"
      },
      "outputs": [],
      "source": [
        "df['class'][df['class'] == 'suicide'] = 1\n",
        "df['class'][df['class'] == 'non-suicide'] = 0"
      ]
    },
    {
      "cell_type": "code",
      "execution_count": null,
      "metadata": {
        "id": "de416d23"
      },
      "outputs": [],
      "source": [
        "df['class'] = df['class'].astype(int)"
      ]
    },
    {
      "cell_type": "code",
      "execution_count": null,
      "metadata": {
        "id": "6e099278",
        "outputId": "fffcbcd4-93cd-40d4-f375-250d4de807c6"
      },
      "outputs": [
        {
          "name": "stdout",
          "output_type": "stream",
          "text": [
            "<class 'pandas.core.frame.DataFrame'>\n",
            "RangeIndex: 232046 entries, 0 to 232045\n",
            "Data columns (total 11 columns):\n",
            " #   Column          Non-Null Count   Dtype  \n",
            "---  ------          --------------   -----  \n",
            " 0   Unnamed: 0.2    232046 non-null  int64  \n",
            " 1   Unnamed: 0.1    232046 non-null  int64  \n",
            " 2   Unnamed: 0      232046 non-null  int64  \n",
            " 3   text            232046 non-null  object \n",
            " 4   class           232046 non-null  int32  \n",
            " 5   word            232046 non-null  object \n",
            " 6   clean_text      232046 non-null  object \n",
            " 7   length          232046 non-null  int64  \n",
            " 8   sentiment       232046 non-null  float64\n",
            " 9   flesch_kincaid  232046 non-null  float64\n",
            " 10  repetition      232046 non-null  int64  \n",
            "dtypes: float64(2), int32(1), int64(5), object(3)\n",
            "memory usage: 18.6+ MB\n"
          ]
        }
      ],
      "source": [
        "df.info()"
      ]
    },
    {
      "cell_type": "markdown",
      "metadata": {
        "id": "0608e71d"
      },
      "source": [
        "It looks like we have 232,052 rows of data and no columns are null.  With that we have no data to impute. "
      ]
    },
    {
      "cell_type": "markdown",
      "metadata": {
        "id": "41fb25dd"
      },
      "source": [
        "# Step 3: Look at correlations"
      ]
    },
    {
      "cell_type": "markdown",
      "metadata": {
        "id": "b6d10e87"
      },
      "source": [
        "In the previous step we created variables for reading level, length, repetition and sentiment.  Are they measuring the same thing?"
      ]
    },
    {
      "cell_type": "code",
      "execution_count": null,
      "metadata": {
        "id": "2ab62ea9",
        "outputId": "9e4f6dc0-dc21-4633-9506-41e31a18d16b"
      },
      "outputs": [
        {
          "data": {
            "text/html": [
              "<div>\n",
              "<style scoped>\n",
              "    .dataframe tbody tr th:only-of-type {\n",
              "        vertical-align: middle;\n",
              "    }\n",
              "\n",
              "    .dataframe tbody tr th {\n",
              "        vertical-align: top;\n",
              "    }\n",
              "\n",
              "    .dataframe thead th {\n",
              "        text-align: right;\n",
              "    }\n",
              "</style>\n",
              "<table border=\"1\" class=\"dataframe\">\n",
              "  <thead>\n",
              "    <tr style=\"text-align: right;\">\n",
              "      <th></th>\n",
              "      <th>length</th>\n",
              "      <th>sentiment</th>\n",
              "      <th>flesch_kincaid</th>\n",
              "      <th>repetition</th>\n",
              "      <th>class</th>\n",
              "    </tr>\n",
              "  </thead>\n",
              "  <tbody>\n",
              "    <tr>\n",
              "      <th>0</th>\n",
              "      <td>345</td>\n",
              "      <td>0.100000</td>\n",
              "      <td>24.4</td>\n",
              "      <td>0</td>\n",
              "      <td>1</td>\n",
              "    </tr>\n",
              "    <tr>\n",
              "      <th>1</th>\n",
              "      <td>69</td>\n",
              "      <td>0.100000</td>\n",
              "      <td>8.4</td>\n",
              "      <td>0</td>\n",
              "      <td>0</td>\n",
              "    </tr>\n",
              "    <tr>\n",
              "      <th>2</th>\n",
              "      <td>48</td>\n",
              "      <td>-0.525000</td>\n",
              "      <td>6.4</td>\n",
              "      <td>0</td>\n",
              "      <td>0</td>\n",
              "    </tr>\n",
              "    <tr>\n",
              "      <th>3</th>\n",
              "      <td>30</td>\n",
              "      <td>-0.291667</td>\n",
              "      <td>-1.5</td>\n",
              "      <td>0</td>\n",
              "      <td>1</td>\n",
              "    </tr>\n",
              "    <tr>\n",
              "      <th>4</th>\n",
              "      <td>1275</td>\n",
              "      <td>-0.228461</td>\n",
              "      <td>73.9</td>\n",
              "      <td>2</td>\n",
              "      <td>1</td>\n",
              "    </tr>\n",
              "  </tbody>\n",
              "</table>\n",
              "</div>"
            ],
            "text/plain": [
              "   length  sentiment  flesch_kincaid  repetition  class\n",
              "0     345   0.100000            24.4           0      1\n",
              "1      69   0.100000             8.4           0      0\n",
              "2      48  -0.525000             6.4           0      0\n",
              "3      30  -0.291667            -1.5           0      1\n",
              "4    1275  -0.228461            73.9           2      1"
            ]
          },
          "execution_count": 8,
          "metadata": {},
          "output_type": "execute_result"
        }
      ],
      "source": [
        "df1 = df[['length', 'sentiment', 'flesch_kincaid', 'repetition', 'class']]\n",
        "df1.head()"
      ]
    },
    {
      "cell_type": "code",
      "execution_count": null,
      "metadata": {
        "id": "b859dc5e",
        "outputId": "d561948c-c4c9-4237-d5f3-650f6a7e131d"
      },
      "outputs": [
        {
          "data": {
            "text/html": [
              "<div>\n",
              "<style scoped>\n",
              "    .dataframe tbody tr th:only-of-type {\n",
              "        vertical-align: middle;\n",
              "    }\n",
              "\n",
              "    .dataframe tbody tr th {\n",
              "        vertical-align: top;\n",
              "    }\n",
              "\n",
              "    .dataframe thead th {\n",
              "        text-align: right;\n",
              "    }\n",
              "</style>\n",
              "<table border=\"1\" class=\"dataframe\">\n",
              "  <thead>\n",
              "    <tr style=\"text-align: right;\">\n",
              "      <th></th>\n",
              "      <th>length</th>\n",
              "      <th>sentiment</th>\n",
              "      <th>flesch_kincaid</th>\n",
              "      <th>repetition</th>\n",
              "      <th>class</th>\n",
              "    </tr>\n",
              "  </thead>\n",
              "  <tbody>\n",
              "    <tr>\n",
              "      <th>length</th>\n",
              "      <td>1.000000</td>\n",
              "      <td>-0.002027</td>\n",
              "      <td>0.871037</td>\n",
              "      <td>0.046787</td>\n",
              "      <td>0.095320</td>\n",
              "    </tr>\n",
              "    <tr>\n",
              "      <th>sentiment</th>\n",
              "      <td>-0.002027</td>\n",
              "      <td>1.000000</td>\n",
              "      <td>-0.001019</td>\n",
              "      <td>0.001360</td>\n",
              "      <td>-0.098662</td>\n",
              "    </tr>\n",
              "    <tr>\n",
              "      <th>flesch_kincaid</th>\n",
              "      <td>0.871037</td>\n",
              "      <td>-0.001019</td>\n",
              "      <td>1.000000</td>\n",
              "      <td>0.011104</td>\n",
              "      <td>0.019465</td>\n",
              "    </tr>\n",
              "    <tr>\n",
              "      <th>repetition</th>\n",
              "      <td>0.046787</td>\n",
              "      <td>0.001360</td>\n",
              "      <td>0.011104</td>\n",
              "      <td>1.000000</td>\n",
              "      <td>-0.011901</td>\n",
              "    </tr>\n",
              "    <tr>\n",
              "      <th>class</th>\n",
              "      <td>0.095320</td>\n",
              "      <td>-0.098662</td>\n",
              "      <td>0.019465</td>\n",
              "      <td>-0.011901</td>\n",
              "      <td>1.000000</td>\n",
              "    </tr>\n",
              "  </tbody>\n",
              "</table>\n",
              "</div>"
            ],
            "text/plain": [
              "                  length  sentiment  flesch_kincaid  repetition     class\n",
              "length          1.000000  -0.002027        0.871037    0.046787  0.095320\n",
              "sentiment      -0.002027   1.000000       -0.001019    0.001360 -0.098662\n",
              "flesch_kincaid  0.871037  -0.001019        1.000000    0.011104  0.019465\n",
              "repetition      0.046787   0.001360        0.011104    1.000000 -0.011901\n",
              "class           0.095320  -0.098662        0.019465   -0.011901  1.000000"
            ]
          },
          "execution_count": 9,
          "metadata": {},
          "output_type": "execute_result"
        }
      ],
      "source": [
        "df1.corr()"
      ]
    },
    {
      "cell_type": "markdown",
      "metadata": {
        "id": "4eb2846b"
      },
      "source": [
        "\n",
        "We can see that reading level and length of post are highly correlated.  However since the correlation is less than 0.95, I think we can keep both variables.\n"
      ]
    },
    {
      "cell_type": "markdown",
      "metadata": {
        "id": "78d8fc79"
      },
      "source": [
        "# Step 4: Modeling"
      ]
    },
    {
      "cell_type": "markdown",
      "metadata": {
        "id": "cb563bb6"
      },
      "source": [
        "# Step 4a: Naive Bayes with Count Vectorizer - Text Only"
      ]
    },
    {
      "cell_type": "code",
      "execution_count": null,
      "metadata": {
        "id": "a24ce348"
      },
      "outputs": [],
      "source": [
        "vectorizer = CountVectorizer(min_df=3, ngram_range = (1,2), stop_words = STOP_WORDS)\n",
        "X = vectorizer.fit_transform(df['clean_text'])\n",
        "X = X.tocsc() \n",
        "y = df['class']"
      ]
    },
    {
      "cell_type": "code",
      "execution_count": null,
      "metadata": {
        "id": "44f23f45"
      },
      "outputs": [],
      "source": [
        "X_train1, X_test1, y_train1, y_test1 = train_test_split(X, y, test_size=0.25, random_state=12)"
      ]
    },
    {
      "cell_type": "code",
      "execution_count": null,
      "metadata": {
        "id": "804e0df4",
        "outputId": "2c18588a-4c22-4cfc-bf9f-666531de43c8"
      },
      "outputs": [
        {
          "data": {
            "text/plain": [
              "GridSearchCV(cv=5, estimator=MultinomialNB(),\n",
              "             param_grid={'alpha': [0.025, 0.05, 0.1, 0.2, 0.4, 0.5, 0.75, 1, 2,\n",
              "                                   5, 8]},\n",
              "             scoring='roc_auc')"
            ]
          },
          "execution_count": 12,
          "metadata": {},
          "output_type": "execute_result"
        }
      ],
      "source": [
        "alphas = [0.025, 0.05, 0.1, 0.2, 0.4, 0.5, 0.75, 1, 2, 5, 8]\n",
        "param_grid = {'alpha':alphas}\n",
        "nbcv = MultinomialNB()\n",
        "nbcv_cv= GridSearchCV(nbcv,param_grid,cv=5, scoring=\"roc_auc\")\n",
        "nbcv_cv.fit(X_train1, y_train1)"
      ]
    },
    {
      "cell_type": "code",
      "execution_count": null,
      "metadata": {
        "id": "8c548ac4",
        "outputId": "615d0700-0ab7-435a-ee48-1ba0a2b7e69c"
      },
      "outputs": [
        {
          "name": "stdout",
          "output_type": "stream",
          "text": [
            "Best Score:0.9695572253983273\n",
            "Best Parameters: {'alpha': 0.4}\n"
          ]
        }
      ],
      "source": [
        "print(\"Best Score:\" + str(nbcv_cv.best_score_))\n",
        "print(\"Best Parameters: \" + str(nbcv_cv.best_params_))"
      ]
    },
    {
      "cell_type": "code",
      "execution_count": null,
      "metadata": {
        "scrolled": true,
        "id": "c513534e",
        "outputId": "0e9ab5b8-3bda-4f96-9643-5b6077834835"
      },
      "outputs": [
        {
          "data": {
            "text/plain": [
              "MultinomialNB(alpha=0.4)"
            ]
          },
          "execution_count": 14,
          "metadata": {},
          "output_type": "execute_result"
        }
      ],
      "source": [
        "nbcv = MultinomialNB(alpha = 0.4)\n",
        "nbcv.fit(X_train1, y_train1)"
      ]
    },
    {
      "cell_type": "code",
      "execution_count": null,
      "metadata": {
        "id": "34d286c0"
      },
      "outputs": [],
      "source": [
        "y_train_pred1 = nbcv.predict(X_train1)\n",
        "y_pred1 = nbcv.predict(X_test1)"
      ]
    },
    {
      "cell_type": "code",
      "execution_count": null,
      "metadata": {
        "id": "988ac373",
        "outputId": "ce0cf884-a164-4ac2-be5e-5ef53610b393"
      },
      "outputs": [
        {
          "name": "stdout",
          "output_type": "stream",
          "text": [
            "Accuracy: 0.9200510239260843\n",
            "Balanced accuracy: 0.9202172364343595\n",
            "Precision score 0.8930646155843313\n",
            "Recall score 0.9534666158483767\n",
            "F1 score 0.9222777088849415\n",
            "ROC_AUC Score 0.9705139129308187\n"
          ]
        }
      ],
      "source": [
        "from sklearn import tree, metrics\n",
        "accuracy_nbcv = metrics.accuracy_score(y_test1,y_pred1)\n",
        "balanced_accuracy_nbcv = metrics.balanced_accuracy_score(y_test1,y_pred1)\n",
        "precision_nbcv = metrics.precision_score(y_test1,y_pred1, pos_label = 1)\n",
        "recall_nbcv = metrics.recall_score(y_test1,y_pred1, pos_label = 1)\n",
        "f1_nbcv = metrics.f1_score(y_test1, y_pred1, pos_label = 1)\n",
        "roc_auc_nbcv = metrics.roc_auc_score(y_test1, nbcv.predict_proba(X_test1)[:,1])\n",
        "print(\"Accuracy:\", accuracy_nbcv)\n",
        "print(\"Balanced accuracy:\", balanced_accuracy_nbcv)\n",
        "print('Precision score' , precision_nbcv)\n",
        "print('Recall score' , recall_nbcv)\n",
        "print('F1 score' , f1_nbcv)\n",
        "print('ROC_AUC Score' , roc_auc_nbcv)"
      ]
    },
    {
      "cell_type": "code",
      "execution_count": null,
      "metadata": {
        "id": "7ef12b7d",
        "outputId": "0fe93158-5853-4477-e88a-b49e9b6f3b33"
      },
      "outputs": [
        {
          "name": "stdout",
          "output_type": "stream",
          "text": [
            "True Suicide: 27518\n",
            "False Suicide: 3295\n",
            "True Non-Suicide: 25856\n",
            "False Non-Suicide: 1343\n"
          ]
        }
      ],
      "source": [
        "from sklearn.metrics import confusion_matrix\n",
        "tn_nbcv, fp_nbcv, fn_nbcv, tp_nbcv = confusion_matrix(y_test1, y_pred1).ravel()\n",
        "print(f'True Suicide: {tp_nbcv}')\n",
        "print(f'False Suicide: {fp_nbcv}')\n",
        "print(f'True Non-Suicide: {tn_nbcv}')\n",
        "print(f'False Non-Suicide: {fn_nbcv}')"
      ]
    },
    {
      "cell_type": "code",
      "execution_count": null,
      "metadata": {
        "id": "eefbf7b3",
        "outputId": "ef005cd6-9a17-42a1-d797-98fae95e7fe7"
      },
      "outputs": [
        {
          "data": {
            "text/html": [
              "<div>\n",
              "<style scoped>\n",
              "    .dataframe tbody tr th:only-of-type {\n",
              "        vertical-align: middle;\n",
              "    }\n",
              "\n",
              "    .dataframe tbody tr th {\n",
              "        vertical-align: top;\n",
              "    }\n",
              "\n",
              "    .dataframe thead th {\n",
              "        text-align: right;\n",
              "    }\n",
              "</style>\n",
              "<table border=\"1\" class=\"dataframe\">\n",
              "  <thead>\n",
              "    <tr style=\"text-align: right;\">\n",
              "      <th></th>\n",
              "      <th>Predicted Non-Suicide</th>\n",
              "      <th>Predicted Suicide</th>\n",
              "    </tr>\n",
              "  </thead>\n",
              "  <tbody>\n",
              "    <tr>\n",
              "      <th>Actual Non-Suicide</th>\n",
              "      <td>25856</td>\n",
              "      <td>3295</td>\n",
              "    </tr>\n",
              "    <tr>\n",
              "      <th>Actual Suicide</th>\n",
              "      <td>1343</td>\n",
              "      <td>27518</td>\n",
              "    </tr>\n",
              "  </tbody>\n",
              "</table>\n",
              "</div>"
            ],
            "text/plain": [
              "                    Predicted Non-Suicide  Predicted Suicide\n",
              "Actual Non-Suicide                  25856               3295\n",
              "Actual Suicide                       1343              27518"
            ]
          },
          "execution_count": 18,
          "metadata": {},
          "output_type": "execute_result"
        }
      ],
      "source": [
        "pd.DataFrame(confusion_matrix(y_test1, y_pred1), columns=['Predicted Non-Suicide', \"Predicted Suicide\"], index=['Actual Non-Suicide', 'Actual Suicide'])"
      ]
    },
    {
      "cell_type": "code",
      "execution_count": null,
      "metadata": {
        "id": "171ae73f",
        "outputId": "3fe5e7f5-50c2-4a2a-a7b9-7f4356286a28"
      },
      "outputs": [
        {
          "data": {
            "image/png": "[encoded data removed]",
            "text/plain": [
              "<Figure size 576x432 with 1 Axes>"
            ]
          },
          "metadata": {
            "needs_background": "light"
          },
          "output_type": "display_data"
        }
      ],
      "source": [
        "y_pred_proba1 = nbcv.predict_proba(X_test1)[::,1]\n",
        "fpr1, tpr1, _ = metrics.roc_curve(y_test1,  y_pred_proba1)\n",
        "plt.rcParams.update({'figure.figsize': (8, 6.0)})\n",
        "#create ROC curve\n",
        "plt.plot(fpr1,tpr1)\n",
        "plt.plot([0, 1], [0, 1],'r--')\n",
        "plt.title(\"ROC_AUC CURVE Naive Bayes with Count Vectorizer\")\n",
        "plt.ylabel('True Positive Rate')\n",
        "plt.xlabel('False Positive Rate')\n",
        "plt.tight_layout()\n",
        "plt.savefig('ROC_AUC Naive Bayes with Count Vectorizer.png')"
      ]
    },
    {
      "cell_type": "markdown",
      "metadata": {
        "id": "fa029149"
      },
      "source": [
        "# Step 4b: Naive Bayes with Count Vectorizer - All Features"
      ]
    },
    {
      "cell_type": "code",
      "execution_count": null,
      "metadata": {
        "id": "34416696"
      },
      "outputs": [],
      "source": [
        "from sklearn.preprocessing import StandardScaler, MinMaxScaler, RobustScaler, MaxAbsScaler\n",
        "scaler = MinMaxScaler()\n",
        "scaler.fit(df1)\n",
        "df_scaled = scaler.transform(df1)\n",
        "scaled_features_df = pd.DataFrame(df_scaled, index=df1.index, columns=df1.columns)"
      ]
    },
    {
      "cell_type": "code",
      "execution_count": null,
      "metadata": {
        "id": "5bc70f18",
        "outputId": "a39d4f6c-7cf2-4d80-ed66-b5f03e83fcab"
      },
      "outputs": [
        {
          "data": {
            "text/html": [
              "<div>\n",
              "<style scoped>\n",
              "    .dataframe tbody tr th:only-of-type {\n",
              "        vertical-align: middle;\n",
              "    }\n",
              "\n",
              "    .dataframe tbody tr th {\n",
              "        vertical-align: top;\n",
              "    }\n",
              "\n",
              "    .dataframe thead th {\n",
              "        text-align: right;\n",
              "    }\n",
              "</style>\n",
              "<table border=\"1\" class=\"dataframe\">\n",
              "  <thead>\n",
              "    <tr style=\"text-align: right;\">\n",
              "      <th></th>\n",
              "      <th>length</th>\n",
              "      <th>sentiment</th>\n",
              "      <th>flesch_kincaid</th>\n",
              "      <th>repetition</th>\n",
              "      <th>class</th>\n",
              "    </tr>\n",
              "  </thead>\n",
              "  <tbody>\n",
              "    <tr>\n",
              "      <th>0</th>\n",
              "      <td>0.000574</td>\n",
              "      <td>0.550000</td>\n",
              "      <td>0.000241</td>\n",
              "      <td>0.000000</td>\n",
              "      <td>1.0</td>\n",
              "    </tr>\n",
              "    <tr>\n",
              "      <th>1</th>\n",
              "      <td>0.000113</td>\n",
              "      <td>0.550000</td>\n",
              "      <td>0.000145</td>\n",
              "      <td>0.000000</td>\n",
              "      <td>0.0</td>\n",
              "    </tr>\n",
              "    <tr>\n",
              "      <th>2</th>\n",
              "      <td>0.000078</td>\n",
              "      <td>0.237500</td>\n",
              "      <td>0.000133</td>\n",
              "      <td>0.000000</td>\n",
              "      <td>0.0</td>\n",
              "    </tr>\n",
              "    <tr>\n",
              "      <th>3</th>\n",
              "      <td>0.000048</td>\n",
              "      <td>0.354167</td>\n",
              "      <td>0.000085</td>\n",
              "      <td>0.000000</td>\n",
              "      <td>1.0</td>\n",
              "    </tr>\n",
              "    <tr>\n",
              "      <th>4</th>\n",
              "      <td>0.002125</td>\n",
              "      <td>0.385769</td>\n",
              "      <td>0.000538</td>\n",
              "      <td>0.000257</td>\n",
              "      <td>1.0</td>\n",
              "    </tr>\n",
              "  </tbody>\n",
              "</table>\n",
              "</div>"
            ],
            "text/plain": [
              "     length  sentiment  flesch_kincaid  repetition  class\n",
              "0  0.000574   0.550000        0.000241    0.000000    1.0\n",
              "1  0.000113   0.550000        0.000145    0.000000    0.0\n",
              "2  0.000078   0.237500        0.000133    0.000000    0.0\n",
              "3  0.000048   0.354167        0.000085    0.000000    1.0\n",
              "4  0.002125   0.385769        0.000538    0.000257    1.0"
            ]
          },
          "execution_count": 21,
          "metadata": {},
          "output_type": "execute_result"
        }
      ],
      "source": [
        "scaled_features_df.head()"
      ]
    },
    {
      "cell_type": "code",
      "execution_count": null,
      "metadata": {
        "id": "cf1745af",
        "outputId": "3e9ff91d-fb21-4781-8d85-ae595ef821c0"
      },
      "outputs": [
        {
          "data": {
            "text/plain": [
              "0.0"
            ]
          },
          "execution_count": 22,
          "metadata": {},
          "output_type": "execute_result"
        }
      ],
      "source": [
        "scaled_features_df['length'].min()"
      ]
    },
    {
      "cell_type": "code",
      "execution_count": null,
      "metadata": {
        "id": "3f1bd393"
      },
      "outputs": [],
      "source": [
        "from scipy.sparse import hstack\n",
        "vectorizer = CountVectorizer(min_df=3, ngram_range = (1,2), stop_words = STOP_WORDS)\n",
        "text_matrix = vectorizer.fit_transform(df['clean_text'])\n",
        "text_matrix = text_matrix.tocsc() \n",
        "length = scaled_features_df['length'].values[:, None]\n",
        "sentiment = scaled_features_df['sentiment'].values[:, None]\n",
        "reading_level = scaled_features_df['flesch_kincaid'][:, None]\n",
        "repetition = scaled_features_df['repetition'][:, None]\n",
        "first = hstack((text_matrix, length))\n",
        "second = hstack((first, sentiment))\n",
        "third = hstack((second, reading_level))\n",
        "X = hstack((third, sentiment))\n",
        "\n",
        "y = df['class']"
      ]
    },
    {
      "cell_type": "code",
      "execution_count": null,
      "metadata": {
        "id": "31277304"
      },
      "outputs": [],
      "source": [
        "X_train2, X_test2, y_train2, y_test2 = train_test_split(X, y, test_size=0.25, random_state=12)"
      ]
    },
    {
      "cell_type": "code",
      "execution_count": null,
      "metadata": {
        "id": "03683569",
        "outputId": "a79e2747-77ce-4e87-bd59-b883dc1b2a59"
      },
      "outputs": [
        {
          "data": {
            "text/plain": [
              "GridSearchCV(cv=5, estimator=MultinomialNB(),\n",
              "             param_grid={'alpha': [0.025, 0.05, 0.1, 0.2, 0.4, 0.5, 0.75, 1, 2,\n",
              "                                   5, 8]},\n",
              "             scoring='roc_auc')"
            ]
          },
          "execution_count": 25,
          "metadata": {},
          "output_type": "execute_result"
        }
      ],
      "source": [
        "alphas = [0.025, 0.05, 0.1, 0.2, 0.4, 0.5, 0.75, 1, 2, 5, 8]\n",
        "param_grid = {'alpha':alphas}\n",
        "nbcv = MultinomialNB()\n",
        "nbcv_cv= GridSearchCV(nbcv,param_grid,cv=5, scoring=\"roc_auc\")\n",
        "nbcv_cv.fit(X_train2, y_train2)"
      ]
    },
    {
      "cell_type": "code",
      "execution_count": null,
      "metadata": {
        "id": "16cd97f3",
        "outputId": "94084a9d-80f1-4d60-b5b9-346766036b00"
      },
      "outputs": [
        {
          "name": "stdout",
          "output_type": "stream",
          "text": [
            "Best Score:0.9697314018759137\n",
            "Best Parameters: {'alpha': 0.4}\n"
          ]
        }
      ],
      "source": [
        "print(\"Best Score:\" + str(nbcv_cv.best_score_))\n",
        "print(\"Best Parameters: \" + str(nbcv_cv.best_params_))"
      ]
    },
    {
      "cell_type": "code",
      "execution_count": null,
      "metadata": {
        "id": "0c25a895",
        "outputId": "71f0be19-ba71-42eb-facd-65fc623a3c4e"
      },
      "outputs": [
        {
          "data": {
            "text/plain": [
              "MultinomialNB(alpha=0.4)"
            ]
          },
          "execution_count": 27,
          "metadata": {},
          "output_type": "execute_result"
        }
      ],
      "source": [
        "nbcvi = MultinomialNB(alpha = 0.4)\n",
        "nbcvi.fit(X_train2, y_train2)"
      ]
    },
    {
      "cell_type": "code",
      "execution_count": null,
      "metadata": {
        "id": "94f0f9f8"
      },
      "outputs": [],
      "source": [
        "y_train_pred2 = nbcvi.predict(X_train2)\n",
        "y_pred2 = nbcvi.predict(X_test2)"
      ]
    },
    {
      "cell_type": "code",
      "execution_count": null,
      "metadata": {
        "id": "a8cd2c98",
        "outputId": "1a749aae-a52f-414e-8efa-8d5e7a5f0da6"
      },
      "outputs": [
        {
          "name": "stdout",
          "output_type": "stream",
          "text": [
            "Accuracy: 0.9228952630490244\n",
            "Balanced accuracy: 0.9230080329609196\n",
            "Precision score 0.9038818229994701\n",
            "Recall score 0.9455666816811614\n",
            "F1 score 0.9242544832607996\n",
            "ROC_AUC Score 0.9707384748401949\n"
          ]
        }
      ],
      "source": [
        "accuracy_nbcvi = metrics.accuracy_score(y_test2,y_pred2)\n",
        "balanced_accuracy_nbcvi = metrics.balanced_accuracy_score(y_test2,y_pred2)\n",
        "precision_nbcvi = metrics.precision_score(y_test2,y_pred2, pos_label = 1)\n",
        "recall_nbcvi = metrics.recall_score(y_test2,y_pred2, pos_label = 1)\n",
        "f1_nbcvi = metrics.f1_score(y_test2, y_pred2, pos_label = 1)\n",
        "roc_auc_nbcvi = metrics.roc_auc_score(y_test2, nbcvi.predict_proba(X_test2)[:,1])\n",
        "print(\"Accuracy:\", accuracy_nbcvi)\n",
        "print(\"Balanced accuracy:\", balanced_accuracy_nbcvi)\n",
        "print('Precision score' , precision_nbcvi)\n",
        "print('Recall score' , recall_nbcvi)\n",
        "print('F1 score' , f1_nbcvi)\n",
        "print('ROC_AUC Score' , roc_auc_nbcvi)"
      ]
    },
    {
      "cell_type": "code",
      "execution_count": null,
      "metadata": {
        "id": "bbb40d86",
        "outputId": "a6a42dbf-6f1c-4033-91a3-d0af6ed5b7c4"
      },
      "outputs": [
        {
          "name": "stdout",
          "output_type": "stream",
          "text": [
            "True Suicide: 27290\n",
            "False Suicide: 2902\n",
            "True Non-Suicide: 26249\n",
            "False Non-Suicide: 1571\n"
          ]
        }
      ],
      "source": [
        "from sklearn.metrics import confusion_matrix\n",
        "tn_nbcvi, fp_nbcvi, fn_nbcvi, tp_nbcvi = confusion_matrix(y_test2, y_pred2).ravel()\n",
        "print(f'True Suicide: {tp_nbcvi}')\n",
        "print(f'False Suicide: {fp_nbcvi}')\n",
        "print(f'True Non-Suicide: {tn_nbcvi}')\n",
        "print(f'False Non-Suicide: {fn_nbcvi}')"
      ]
    },
    {
      "cell_type": "code",
      "execution_count": null,
      "metadata": {
        "id": "2f0ba6ee",
        "outputId": "be50c69f-3a11-48d2-bd81-2cfc1bc8df69"
      },
      "outputs": [
        {
          "data": {
            "text/html": [
              "<div>\n",
              "<style scoped>\n",
              "    .dataframe tbody tr th:only-of-type {\n",
              "        vertical-align: middle;\n",
              "    }\n",
              "\n",
              "    .dataframe tbody tr th {\n",
              "        vertical-align: top;\n",
              "    }\n",
              "\n",
              "    .dataframe thead th {\n",
              "        text-align: right;\n",
              "    }\n",
              "</style>\n",
              "<table border=\"1\" class=\"dataframe\">\n",
              "  <thead>\n",
              "    <tr style=\"text-align: right;\">\n",
              "      <th></th>\n",
              "      <th>Predicted Non-Suicide</th>\n",
              "      <th>Predicted Suicide</th>\n",
              "    </tr>\n",
              "  </thead>\n",
              "  <tbody>\n",
              "    <tr>\n",
              "      <th>Actual Non-Suicide</th>\n",
              "      <td>26249</td>\n",
              "      <td>2902</td>\n",
              "    </tr>\n",
              "    <tr>\n",
              "      <th>Actual Suicide</th>\n",
              "      <td>1571</td>\n",
              "      <td>27290</td>\n",
              "    </tr>\n",
              "  </tbody>\n",
              "</table>\n",
              "</div>"
            ],
            "text/plain": [
              "                    Predicted Non-Suicide  Predicted Suicide\n",
              "Actual Non-Suicide                  26249               2902\n",
              "Actual Suicide                       1571              27290"
            ]
          },
          "execution_count": 31,
          "metadata": {},
          "output_type": "execute_result"
        }
      ],
      "source": [
        "pd.DataFrame(confusion_matrix(y_test2, y_pred2), columns=['Predicted Non-Suicide', \"Predicted Suicide\"], index=['Actual Non-Suicide', 'Actual Suicide'])"
      ]
    },
    {
      "cell_type": "code",
      "execution_count": null,
      "metadata": {
        "id": "d0589156",
        "outputId": "ffab5a20-a740-44e5-f74c-e018f0b85c6d"
      },
      "outputs": [
        {
          "data": {
            "image/png": "[encoded data removed]",
            "text/plain": [
              "<Figure size 576x432 with 1 Axes>"
            ]
          },
          "metadata": {
            "needs_background": "light"
          },
          "output_type": "display_data"
        }
      ],
      "source": [
        "y_pred_proba2 = nbcvi.predict_proba(X_test2)[::,1]\n",
        "fpr2, tpr2, _ = metrics.roc_curve(y_test2,  y_pred_proba2)\n",
        "plt.rcParams.update({'figure.figsize': (8, 6.0)})\n",
        "#create ROC curve\n",
        "plt.plot(fpr2,tpr2)\n",
        "plt.plot([0, 1], [0, 1],'r--')\n",
        "plt.title(\"ROC_AUC CURVE Naive Bayes with Count Vectorizer All Features\")\n",
        "plt.ylabel('True Positive Rate')\n",
        "plt.xlabel('False Positive Rate')\n",
        "plt.tight_layout()\n",
        "plt.savefig('ROC_AUC Naive Bayes with Count Vectorizer All features.png')"
      ]
    },
    {
      "cell_type": "markdown",
      "metadata": {
        "id": "e0d206dc"
      },
      "source": [
        "# Step 4c: Nave Bayes with TF-IDF - Text Only"
      ]
    },
    {
      "cell_type": "code",
      "execution_count": null,
      "metadata": {
        "id": "c0b8172f"
      },
      "outputs": [],
      "source": [
        "from sklearn.feature_extraction.text import TfidfVectorizer\n",
        "vectorizor_tfid = TfidfVectorizer(min_df=3, ngram_range = (1,2), stop_words = STOP_WORDS)\n",
        "X_tfid1 = vectorizor_tfid.fit_transform(df['text'])\n",
        "X_tfid1 = X_tfid1.tocsc() \n",
        "y_tfid1 = df['class']"
      ]
    },
    {
      "cell_type": "code",
      "execution_count": null,
      "metadata": {
        "id": "7ef9127b"
      },
      "outputs": [],
      "source": [
        "X_train3, X_test3, y_train3, y_test3 = train_test_split(X_tfid1, y_tfid1, test_size=0.25, random_state=12)"
      ]
    },
    {
      "cell_type": "code",
      "execution_count": null,
      "metadata": {
        "id": "df7f84f1",
        "outputId": "91850a55-023f-47c0-c82d-33bac80c6ed9"
      },
      "outputs": [
        {
          "data": {
            "text/plain": [
              "GridSearchCV(cv=5, estimator=MultinomialNB(),\n",
              "             param_grid={'alpha': [0.025, 0.05, 0.1, 0.2, 0.4, 0.5, 0.75, 1, 2,\n",
              "                                   5, 8]},\n",
              "             scoring='roc_auc')"
            ]
          },
          "execution_count": 35,
          "metadata": {},
          "output_type": "execute_result"
        }
      ],
      "source": [
        "alphas = [0.025, 0.05, 0.1, 0.2, 0.4, 0.5, 0.75, 1, 2, 5, 8]\n",
        "param_grid = {'alpha':alphas}\n",
        "nb_tfidf = MultinomialNB()\n",
        "nb_tfidf_cv= GridSearchCV(nb_tfidf,param_grid,cv=5, scoring=\"roc_auc\")\n",
        "nb_tfidf_cv.fit(X_train3, y_train3)"
      ]
    },
    {
      "cell_type": "code",
      "execution_count": null,
      "metadata": {
        "id": "c573f43a",
        "outputId": "b4e6ef4f-f18f-4ba8-dedc-a95c80605df5"
      },
      "outputs": [
        {
          "name": "stdout",
          "output_type": "stream",
          "text": [
            "Best Score:0.9789481135548254\n",
            "Best Parameters: {'alpha': 0.1}\n"
          ]
        }
      ],
      "source": [
        "print(\"Best Score:\" + str(nb_tfidf_cv.best_score_))\n",
        "print(\"Best Parameters: \" + str(nb_tfidf_cv.best_params_))"
      ]
    },
    {
      "cell_type": "code",
      "execution_count": null,
      "metadata": {
        "id": "a937f194",
        "outputId": "55f7a2b0-2b92-4162-ad67-d6702dd689cd"
      },
      "outputs": [
        {
          "data": {
            "text/plain": [
              "MultinomialNB(alpha=0.1)"
            ]
          },
          "execution_count": 37,
          "metadata": {},
          "output_type": "execute_result"
        }
      ],
      "source": [
        "\n",
        "nb_tfidf = MultinomialNB(alpha = 0.1)\n",
        "nb_tfidf.fit(X_train3, y_train3)"
      ]
    },
    {
      "cell_type": "code",
      "execution_count": null,
      "metadata": {
        "id": "0c0fcf92"
      },
      "outputs": [],
      "source": [
        "y_train_pred3 = nb_tfidf.predict(X_train3)\n",
        "y_pred3 = nb_tfidf.predict(X_test3)"
      ]
    },
    {
      "cell_type": "code",
      "execution_count": null,
      "metadata": {
        "id": "a8753017",
        "outputId": "89d5531d-ecc0-41bb-9e01-01683deb880b"
      },
      "outputs": [
        {
          "name": "stdout",
          "output_type": "stream",
          "text": [
            "Accuracy: 0.921688616148383\n",
            "Balanced accuracy: 0.9218868399079605\n",
            "Precision score 0.8899114930733709\n",
            "Recall score 0.9615397941859256\n",
            "F1 score 0.9243400782746273\n",
            "ROC_AUC Score 0.9795971878050163\n"
          ]
        }
      ],
      "source": [
        "from sklearn import tree, metrics\n",
        "accuracy_nb_tfidf = metrics.accuracy_score(y_test3,y_pred3)\n",
        "balanced_accuracy_nb_tfidf = metrics.balanced_accuracy_score(y_test3,y_pred3)\n",
        "precision_nb_tfidf = metrics.precision_score(y_test3,y_pred3, pos_label = 1)\n",
        "recall_nb_tfidf = metrics.recall_score(y_test3,y_pred3, pos_label = 1)\n",
        "f1_nb_tfidf = metrics.f1_score(y_test3, y_pred3, pos_label = 1)\n",
        "roc_auc_nb_tfidf = metrics.roc_auc_score(y_test3, nb_tfidf.predict_proba(X_test3)[:,1])\n",
        "print(\"Accuracy:\", accuracy_nb_tfidf)\n",
        "print(\"Balanced accuracy:\", balanced_accuracy_nb_tfidf)\n",
        "print('Precision score' , precision_nb_tfidf)\n",
        "print('Recall score' , recall_nb_tfidf)\n",
        "print('F1 score' , f1_nb_tfidf)\n",
        "print('ROC_AUC Score' , roc_auc_nb_tfidf)\n",
        "\n"
      ]
    },
    {
      "cell_type": "code",
      "execution_count": null,
      "metadata": {
        "id": "d2276b90",
        "outputId": "7b8577f3-e008-4d95-9973-486a5e5d4f37"
      },
      "outputs": [
        {
          "name": "stdout",
          "output_type": "stream",
          "text": [
            "True Suicide: 27751\n",
            "False Suicide: 3433\n",
            "True Non-Suicide: 25718\n",
            "False Non-Suicide: 1110\n"
          ]
        }
      ],
      "source": [
        "from sklearn.metrics import confusion_matrix\n",
        "tn_nb_tfidf, fp_nb_tfidf, fn_nb_tfidf, tp_nb_tfidf = confusion_matrix(y_test3, y_pred3).ravel()\n",
        "print(f'True Suicide: {tp_nb_tfidf}')\n",
        "print(f'False Suicide: {fp_nb_tfidf}')\n",
        "print(f'True Non-Suicide: {tn_nb_tfidf}')\n",
        "print(f'False Non-Suicide: {fn_nb_tfidf}')"
      ]
    },
    {
      "cell_type": "code",
      "execution_count": null,
      "metadata": {
        "id": "0ad3d922",
        "outputId": "5eb03db3-b40f-4ca4-b0ea-f8f7a3430350"
      },
      "outputs": [
        {
          "data": {
            "text/html": [
              "<div>\n",
              "<style scoped>\n",
              "    .dataframe tbody tr th:only-of-type {\n",
              "        vertical-align: middle;\n",
              "    }\n",
              "\n",
              "    .dataframe tbody tr th {\n",
              "        vertical-align: top;\n",
              "    }\n",
              "\n",
              "    .dataframe thead th {\n",
              "        text-align: right;\n",
              "    }\n",
              "</style>\n",
              "<table border=\"1\" class=\"dataframe\">\n",
              "  <thead>\n",
              "    <tr style=\"text-align: right;\">\n",
              "      <th></th>\n",
              "      <th>Predicted Non-Suicide</th>\n",
              "      <th>Predicted Suicide</th>\n",
              "    </tr>\n",
              "  </thead>\n",
              "  <tbody>\n",
              "    <tr>\n",
              "      <th>Actual Non-Suicide</th>\n",
              "      <td>25718</td>\n",
              "      <td>3433</td>\n",
              "    </tr>\n",
              "    <tr>\n",
              "      <th>Actual Suicide</th>\n",
              "      <td>1110</td>\n",
              "      <td>27751</td>\n",
              "    </tr>\n",
              "  </tbody>\n",
              "</table>\n",
              "</div>"
            ],
            "text/plain": [
              "                    Predicted Non-Suicide  Predicted Suicide\n",
              "Actual Non-Suicide                  25718               3433\n",
              "Actual Suicide                       1110              27751"
            ]
          },
          "execution_count": 41,
          "metadata": {},
          "output_type": "execute_result"
        }
      ],
      "source": [
        "pd.DataFrame(confusion_matrix(y_test3, y_pred3), columns=['Predicted Non-Suicide', \"Predicted Suicide\"], index=['Actual Non-Suicide', 'Actual Suicide'])"
      ]
    },
    {
      "cell_type": "code",
      "execution_count": null,
      "metadata": {
        "id": "f8012c02",
        "outputId": "7e2b1341-e650-4a99-8f89-feaa382b4dac"
      },
      "outputs": [
        {
          "data": {
            "image/png": "[encoded data removed]",
            "text/plain": [
              "<Figure size 576x432 with 1 Axes>"
            ]
          },
          "metadata": {
            "needs_background": "light"
          },
          "output_type": "display_data"
        }
      ],
      "source": [
        "y_pred_proba3 = nb_tfidf.predict_proba(X_test3)[::,1]\n",
        "fpr3, tpr3, _ = metrics.roc_curve(y_test3,  y_pred_proba3)\n",
        "plt.rcParams.update({'figure.figsize': (8, 6.0)})\n",
        "#create ROC curve\n",
        "plt.plot(fpr3,tpr3)\n",
        "plt.plot([0, 1], [0, 1],'r--')\n",
        "plt.title(\"ROC_AUC CURVE Naive Bayes with TF-IDF Vectorizer - Text Only\")\n",
        "plt.ylabel('True Positive Rate')\n",
        "plt.xlabel('False Positive Rate')\n",
        "plt.tight_layout()\n",
        "plt.savefig('ROC_AUC Curve Naive Bayes with TF-IDF Vectoizer_Text_Only.png')"
      ]
    },
    {
      "cell_type": "markdown",
      "metadata": {
        "id": "5a1d493b"
      },
      "source": [
        "# Step 4d:  Naive Bayes - TF-IDF - All Features"
      ]
    },
    {
      "cell_type": "code",
      "execution_count": null,
      "metadata": {
        "id": "15ecb9bb"
      },
      "outputs": [],
      "source": [
        "from sklearn.feature_extraction.text import TfidfVectorizer\n",
        "vectorizor_tfid = TfidfVectorizer(min_df=3, ngram_range = (1,2), stop_words = STOP_WORDS)\n",
        "text_matrix1 = vectorizor_tfid.fit_transform(df['text'])\n",
        "text_matrix1 = text_matrix1.tocsc() \n",
        "length = scaled_features_df['length'].values[:, None]\n",
        "sentiment = scaled_features_df['sentiment'].values[:, None]\n",
        "reading_level = scaled_features_df['flesch_kincaid'][:, None]\n",
        "repetition = scaled_features_df['repetition'][:, None]\n",
        "first = hstack((text_matrix1, length))\n",
        "second = hstack((first, sentiment))\n",
        "third = hstack((second, reading_level))\n",
        "X_tfid11 = hstack((third, sentiment))\n",
        "\n",
        "y_tfid11 = df['class']"
      ]
    },
    {
      "cell_type": "code",
      "execution_count": null,
      "metadata": {
        "id": "58612fca"
      },
      "outputs": [],
      "source": [
        "X_train4, X_test4, y_train4, y_test4 = train_test_split(X_tfid11, y_tfid11, test_size=0.25, random_state=12)"
      ]
    },
    {
      "cell_type": "code",
      "execution_count": null,
      "metadata": {
        "id": "7a8e4a9d",
        "outputId": "1e30da99-5f18-471b-a389-d335a4f2ec47"
      },
      "outputs": [
        {
          "data": {
            "text/plain": [
              "GridSearchCV(cv=5, estimator=MultinomialNB(),\n",
              "             param_grid={'alpha': [0.025, 0.05, 0.1, 0.2, 0.4, 0.5, 0.75, 1, 2,\n",
              "                                   5, 8]},\n",
              "             scoring='roc_auc')"
            ]
          },
          "execution_count": 45,
          "metadata": {},
          "output_type": "execute_result"
        }
      ],
      "source": [
        "alphas = [0.025, 0.05, 0.1, 0.2, 0.4, 0.5, 0.75, 1, 2, 5, 8]\n",
        "param_grid = {'alpha':alphas}\n",
        "nb_tfidfi = MultinomialNB()\n",
        "nb_tfidfi_cv= GridSearchCV(nb_tfidfi,param_grid,cv=5, scoring=\"roc_auc\")\n",
        "nb_tfidfi_cv.fit(X_train4, y_train4)"
      ]
    },
    {
      "cell_type": "code",
      "execution_count": null,
      "metadata": {
        "id": "f495ded0",
        "outputId": "c4406c0e-ab69-4854-d01b-fafa658b0fd8"
      },
      "outputs": [
        {
          "name": "stdout",
          "output_type": "stream",
          "text": [
            "Best Score:0.9789481135548254\n",
            "Best Parameters: {'alpha': 0.1}\n"
          ]
        }
      ],
      "source": [
        "print(\"Best Score:\" + str(nb_tfidf_cv.best_score_))\n",
        "print(\"Best Parameters: \" + str(nb_tfidf_cv.best_params_))"
      ]
    },
    {
      "cell_type": "code",
      "execution_count": null,
      "metadata": {
        "id": "3abf1478",
        "outputId": "f68395eb-1096-45d6-e57b-3077e3804f79"
      },
      "outputs": [
        {
          "data": {
            "text/plain": [
              "MultinomialNB(alpha=0.1)"
            ]
          },
          "execution_count": 47,
          "metadata": {},
          "output_type": "execute_result"
        }
      ],
      "source": [
        "nb_tfidfi = MultinomialNB(alpha = 0.1)\n",
        "nb_tfidfi.fit(X_train4, y_train4)"
      ]
    },
    {
      "cell_type": "code",
      "execution_count": null,
      "metadata": {
        "id": "c98ca412"
      },
      "outputs": [],
      "source": [
        "y_train_pred4 = nb_tfidfi.predict(X_train4)\n",
        "y_pred4 = nb_tfidfi.predict(X_test4)"
      ]
    },
    {
      "cell_type": "code",
      "execution_count": null,
      "metadata": {
        "id": "45ec6559",
        "outputId": "8de71834-27c3-482e-d55b-cdc7953597f7"
      },
      "outputs": [
        {
          "name": "stdout",
          "output_type": "stream",
          "text": [
            "Accuracy: 0.9251189409087774\n",
            "Balanced accuracy: 0.9252728710976807\n",
            "Precision score 0.8997032834458247\n",
            "Recall score 0.9560652784033817\n",
            "F1 score 0.9270283890475389\n",
            "ROC_AUC Score 0.979631190041514\n"
          ]
        }
      ],
      "source": [
        "accuracy_nb_tfidfi = metrics.accuracy_score(y_test4,y_pred4)\n",
        "balanced_accuracy_nb_tfidfi = metrics.balanced_accuracy_score(y_test4,y_pred4)\n",
        "precision_nb_tfidfi = metrics.precision_score(y_test4,y_pred4, pos_label = 1)\n",
        "recall_nb_tfidfi = metrics.recall_score(y_test4,y_pred4, pos_label = 1)\n",
        "f1_nb_tfidfi = metrics.f1_score(y_test4, y_pred4, pos_label = 1)\n",
        "roc_auc_nb_tfidfi = metrics.roc_auc_score(y_test4, nb_tfidfi.predict_proba(X_test4)[:,1])\n",
        "print(\"Accuracy:\", accuracy_nb_tfidfi)\n",
        "print(\"Balanced accuracy:\", balanced_accuracy_nb_tfidfi)\n",
        "print('Precision score' , precision_nb_tfidfi)\n",
        "print('Recall score' , recall_nb_tfidfi)\n",
        "print('F1 score' , f1_nb_tfidfi)\n",
        "print('ROC_AUC Score' , roc_auc_nb_tfidfi)"
      ]
    },
    {
      "cell_type": "code",
      "execution_count": null,
      "metadata": {
        "id": "d712cccf",
        "outputId": "0329d293-a45a-48a7-ac2d-2e8435e27cfd"
      },
      "outputs": [
        {
          "name": "stdout",
          "output_type": "stream",
          "text": [
            "True Suicide: 27593\n",
            "False Suicide: 3076\n",
            "True Non-Suicide: 26075\n",
            "False Non-Suicide: 1268\n"
          ]
        }
      ],
      "source": [
        "from sklearn.metrics import confusion_matrix\n",
        "tn_nb_tfidfi, fp_nb_tfidfi, fn_nb_tfidfi, tp_nb_tfidfi = confusion_matrix(y_test4, y_pred4).ravel()\n",
        "print(f'True Suicide: {tp_nb_tfidfi}')\n",
        "print(f'False Suicide: {fp_nb_tfidfi}')\n",
        "print(f'True Non-Suicide: {tn_nb_tfidfi}')\n",
        "print(f'False Non-Suicide: {fn_nb_tfidfi}')"
      ]
    },
    {
      "cell_type": "code",
      "execution_count": null,
      "metadata": {
        "id": "9dd2db13",
        "outputId": "0946e722-a450-4e3b-8b6a-610fe40541ef"
      },
      "outputs": [
        {
          "data": {
            "text/html": [
              "<div>\n",
              "<style scoped>\n",
              "    .dataframe tbody tr th:only-of-type {\n",
              "        vertical-align: middle;\n",
              "    }\n",
              "\n",
              "    .dataframe tbody tr th {\n",
              "        vertical-align: top;\n",
              "    }\n",
              "\n",
              "    .dataframe thead th {\n",
              "        text-align: right;\n",
              "    }\n",
              "</style>\n",
              "<table border=\"1\" class=\"dataframe\">\n",
              "  <thead>\n",
              "    <tr style=\"text-align: right;\">\n",
              "      <th></th>\n",
              "      <th>Predicted Non-Suicide</th>\n",
              "      <th>Predicted Suicide</th>\n",
              "    </tr>\n",
              "  </thead>\n",
              "  <tbody>\n",
              "    <tr>\n",
              "      <th>Actual Non-Suicide</th>\n",
              "      <td>26075</td>\n",
              "      <td>3076</td>\n",
              "    </tr>\n",
              "    <tr>\n",
              "      <th>Actual Suicide</th>\n",
              "      <td>1268</td>\n",
              "      <td>27593</td>\n",
              "    </tr>\n",
              "  </tbody>\n",
              "</table>\n",
              "</div>"
            ],
            "text/plain": [
              "                    Predicted Non-Suicide  Predicted Suicide\n",
              "Actual Non-Suicide                  26075               3076\n",
              "Actual Suicide                       1268              27593"
            ]
          },
          "execution_count": 51,
          "metadata": {},
          "output_type": "execute_result"
        }
      ],
      "source": [
        "pd.DataFrame(confusion_matrix(y_test4, y_pred4), columns=['Predicted Non-Suicide', \"Predicted Suicide\"], index=['Actual Non-Suicide', 'Actual Suicide'])"
      ]
    },
    {
      "cell_type": "code",
      "execution_count": null,
      "metadata": {
        "id": "a8ecf968",
        "outputId": "0cbd51c1-1da0-4070-b056-f73067e91ae7"
      },
      "outputs": [
        {
          "data": {
            "image/png": "[encoded data removed]",
            "text/plain": [
              "<Figure size 576x432 with 1 Axes>"
            ]
          },
          "metadata": {
            "needs_background": "light"
          },
          "output_type": "display_data"
        }
      ],
      "source": [
        "y_pred_proba4 = nb_tfidfi.predict_proba(X_test4)[::,1]\n",
        "fpr4, tpr4, _ = metrics.roc_curve(y_test4,  y_pred_proba4)\n",
        "plt.rcParams.update({'figure.figsize': (8, 6.0)})\n",
        "#create ROC curve\n",
        "plt.plot(fpr4,tpr4)\n",
        "plt.plot([0, 1], [0, 1],'r--')\n",
        "plt.title(\"ROC_AUC CURVE Naive Bayes with TF-IDF Vectorizer - All Features\")\n",
        "plt.ylabel('True Positive Rate')\n",
        "plt.xlabel('False Positive Rate')\n",
        "plt.tight_layout()\n",
        "plt.savefig('ROC_AUC Curve Naive Bayes with TF-IDF Vectorizer_All_Features.png')"
      ]
    },
    {
      "cell_type": "code",
      "execution_count": null,
      "metadata": {
        "id": "3276fb57",
        "outputId": "91906451-b711-46b2-e57b-81101ac37436"
      },
      "outputs": [
        {
          "name": "stdout",
          "output_type": "stream",
          "text": [
            "+----------------------+-------------------------+-----------------------------+---------------------+------------------------+\n",
            "| Model: Naive Bayes   | Count Vect. Text Only   | Count Vect.  All Features   | TF-IDF  Text Only   | TF-IDF  All Features   |\n",
            "|----------------------+-------------------------+-----------------------------+---------------------+------------------------|\n",
            "| Accuracy             | 0.92                    | 0.923                       | 0.922               | 0.925                  |\n",
            "| Precision            | 0.893                   | 0.904                       | 0.89                | 0.9                    |\n",
            "| Recall               | 0.953                   | 0.946                       | 0.962               | 0.956                  |\n",
            "| ROC-AUC Score        | 0.971                   | 0.971                       | 0.98                | 0.98                   |\n",
            "|                      |                         |                             |                     |                        |\n",
            "| True Suicide         | 27518                   | 27290                       | 27751               | 27593                  |\n",
            "| False Suicide        | 3295                    | 2902                        | 3433                | 3076                   |\n",
            "| True Non-Suicide     | 25856                   | 26249                       | 25718               | 26075                  |\n",
            "| False Non-Suicide    | 1343                    | 1571                        | 1110                | 1268                   |\n",
            "|                      |                         |                             |                     |                        |\n",
            "| Optimal: Alpha       | 0.4                     | 0.4                         | 0.1                 | 0.1                    |\n",
            "+----------------------+-------------------------+-----------------------------+---------------------+------------------------+\n"
          ]
        }
      ],
      "source": [
        "from tabulate import tabulate\n",
        "d = [ [\"Accuracy\", round(accuracy_nbcv, 3), round(accuracy_nbcvi, 3), round(accuracy_nb_tfidf, 3), round(accuracy_nb_tfidfi, 3)], \n",
        "     [\"Precision\", round(precision_nbcv, 3), round(precision_nbcvi, 3), round(precision_nb_tfidf, 3), round(precision_nb_tfidfi, 3)],\n",
        "     [\"Recall\", round(recall_nbcv, 3), round(recall_nbcvi, 3), round(recall_nb_tfidf, 3), round(recall_nb_tfidfi, 3)],\n",
        "     [\"ROC-AUC Score\", round(roc_auc_nbcv, 3), round(roc_auc_nbcvi, 3), round(roc_auc_nb_tfidf, 3), round(roc_auc_nb_tfidfi, 3)],\n",
        "     [\" \", \" \", \" \", \" \"],\n",
        "     [\"True Suicide\", tp_nbcv, tp_nbcvi, tp_nb_tfidf, tp_nb_tfidfi] , \n",
        "     [\"False Suicide\", fp_nbcv, fp_nbcvi, fp_nb_tfidf, fp_nb_tfidfi], \n",
        "     [\"True Non-Suicide\", tn_nbcv, tn_nbcvi, tn_nb_tfidf, tn_nb_tfidfi],\n",
        "     [\"False Non-Suicide\", fn_nbcv, fn_nbcvi, fn_nb_tfidf, fn_nb_tfidfi],\n",
        "     [\" \", \" \", \" \", \" \"],\n",
        "     [\"Optimal: Alpha\", \"0.4\", \"0.4\", \"0.1\", \"0.1\"]]\n",
        "\n",
        "print(tabulate(d, headers=[\"Model: Naive Bayes\", \"Count Vect. Text Only\", \"Count Vect.  All Features\", \"TF-IDF  Text Only\", \"TF-IDF  All Features\"], tablefmt='psql', showindex=False, numalign=\"left\"))"
      ]
    },
    {
      "cell_type": "markdown",
      "metadata": {
        "id": "eb9ec198"
      },
      "source": [
        "# Step 4e:  Random Forest with Count Vectorizor - Text Only"
      ]
    },
    {
      "cell_type": "code",
      "execution_count": null,
      "metadata": {
        "id": "2aae9ef4"
      },
      "outputs": [],
      "source": [
        "from sklearn.ensemble import RandomForestClassifier"
      ]
    },
    {
      "cell_type": "code",
      "execution_count": null,
      "metadata": {
        "id": "493efe05"
      },
      "outputs": [],
      "source": [
        "vectorizer = CountVectorizer(min_df=3, ngram_range = (1,2), stop_words = STOP_WORDS)\n",
        "X = vectorizer.fit_transform(df['clean_text'].head(1000))\n",
        "X = X.tocsc() \n",
        "y = df['class'].head(1000)"
      ]
    },
    {
      "cell_type": "code",
      "execution_count": null,
      "metadata": {
        "id": "8f5beab5"
      },
      "outputs": [],
      "source": [
        "X_train5, X_test5, y_train5, y_test5 = train_test_split(X, y, test_size=0.25, random_state=12)"
      ]
    },
    {
      "cell_type": "code",
      "execution_count": null,
      "metadata": {
        "id": "e471cbb7",
        "outputId": "9a80cf87-2dc2-4d72-cd0b-e0c82c63ec5f"
      },
      "outputs": [
        {
          "data": {
            "text/plain": [
              "[31, 94, 281, 841, 2511]"
            ]
          },
          "execution_count": 57,
          "metadata": {},
          "output_type": "execute_result"
        }
      ],
      "source": [
        "n_est = [int(n) for n in np.logspace(start=1.5, stop=3.4, num=5)]\n",
        "n_est"
      ]
    },
    {
      "cell_type": "code",
      "execution_count": null,
      "metadata": {
        "id": "c79b2b5a",
        "outputId": "bf8bb706-ab49-49cb-a2c1-77cb16c15f90"
      },
      "outputs": [
        {
          "data": {
            "text/plain": [
              "GridSearchCV(cv=5, estimator=RandomForestClassifier(random_state=1519),\n",
              "             param_grid={'max_depth': [50, 100, 150, 200, 250, 300],\n",
              "                         'n_estimators': [31, 94, 281, 841, 2511]},\n",
              "             scoring='roc_auc')"
            ]
          },
          "execution_count": 58,
          "metadata": {},
          "output_type": "execute_result"
        }
      ],
      "source": [
        "\n",
        "n_est = [int(n) for n in np.logspace(start=1.5, stop=3.4, num=5)]\n",
        "depth = [int(x) for x in np.linspace(50, 300, num = 6)]\n",
        "param_grid = {'n_estimators': n_est, 'max_depth' : depth}\n",
        "rf1 = RandomForestClassifier(random_state = 1519)\n",
        "rf_cv = GridSearchCV(rf1, param_grid, cv = 5, scoring=\"roc_auc\")\n",
        "rf_cv.fit(X_train5, y_train5)\n"
      ]
    },
    {
      "cell_type": "code",
      "execution_count": null,
      "metadata": {
        "id": "1c47ec26",
        "outputId": "fcc7b805-6959-4eee-b96c-1dcaf732599f"
      },
      "outputs": [
        {
          "name": "stdout",
          "output_type": "stream",
          "text": [
            "Best Score:0.9153093883357043\n",
            "Best Parameters: {'max_depth': 150, 'n_estimators': 841}\n"
          ]
        }
      ],
      "source": [
        "print(\"Best Score:\" + str(rf_cv.best_score_))\n",
        "print(\"Best Parameters: \" + str(rf_cv.best_params_))"
      ]
    },
    {
      "cell_type": "code",
      "execution_count": null,
      "metadata": {
        "id": "3c9411ce"
      },
      "outputs": [],
      "source": [
        "vectorizer = CountVectorizer(min_df=3, ngram_range = (1,2), stop_words = STOP_WORDS)\n",
        "X = vectorizer.fit_transform(df['clean_text'])\n",
        "X = X.tocsc() \n",
        "y = df['class']"
      ]
    },
    {
      "cell_type": "code",
      "execution_count": null,
      "metadata": {
        "id": "97d72362"
      },
      "outputs": [],
      "source": [
        "X_train5, X_test5, y_train5, y_test5 = train_test_split(X, y, test_size=0.25, random_state=12)"
      ]
    },
    {
      "cell_type": "code",
      "execution_count": null,
      "metadata": {
        "id": "590f3f3b",
        "outputId": "e0a02661-7853-4623-8b6a-4bdf11db2bea"
      },
      "outputs": [
        {
          "data": {
            "text/plain": [
              "RandomForestClassifier(max_depth=150, n_estimators=841)"
            ]
          },
          "execution_count": 62,
          "metadata": {},
          "output_type": "execute_result"
        }
      ],
      "source": [
        "rfcv = RandomForestClassifier(n_estimators = 841 , max_depth = 150)\n",
        "rfcv.fit(X_train5, y_train5)"
      ]
    },
    {
      "cell_type": "code",
      "execution_count": null,
      "metadata": {
        "id": "89f5e3c1"
      },
      "outputs": [],
      "source": [
        "y_train_pred_rfcv = rfcv.predict(X_train5)\n",
        "y_pred5 = rfcv.predict(X_test5)"
      ]
    },
    {
      "cell_type": "code",
      "execution_count": null,
      "metadata": {
        "id": "dcfa817d",
        "outputId": "d7e37393-1e63-4503-d600-e8addf2cd709"
      },
      "outputs": [
        {
          "name": "stdout",
          "output_type": "stream",
          "text": [
            "Accuracy: 0.881472798731297\n",
            "Balanced accuracy: 0.8812993857390845\n",
            "Precision score 0.9089015362868728\n",
            "Recall score 0.8466096115865701\n",
            "F1 score 0.8766504018369691\n",
            "ROC_AUC Score 0.9515841973841013\n"
          ]
        }
      ],
      "source": [
        "from sklearn import tree, metrics\n",
        "accuracy_rfcv = metrics.accuracy_score(y_test5,y_pred5)\n",
        "balanced_accuracy_rfcv = metrics.balanced_accuracy_score(y_test5,y_pred5)\n",
        "precision_rfcv = metrics.precision_score(y_test5,y_pred5, pos_label = 1)\n",
        "recall_rfcv = metrics.recall_score(y_test5,y_pred5, pos_label = 1)\n",
        "f1_rfcv = metrics.f1_score(y_test5, y_pred5, pos_label = 1)\n",
        "roc_auc_rfcv = metrics.roc_auc_score(y_test5, rfcv.predict_proba(X_test5)[:,1])\n",
        "print(\"Accuracy:\", accuracy_rfcv)\n",
        "print(\"Balanced accuracy:\", balanced_accuracy_rfcv)\n",
        "print('Precision score' , precision_rfcv)\n",
        "print('Recall score' , recall_rfcv)\n",
        "print('F1 score' , f1_rfcv)\n",
        "print('ROC_AUC Score' , roc_auc_rfcv)\n"
      ]
    },
    {
      "cell_type": "code",
      "execution_count": null,
      "metadata": {
        "id": "0c7d9ead",
        "outputId": "a628b367-e576-4f2a-f4bb-d27c2b15e9de"
      },
      "outputs": [
        {
          "name": "stdout",
          "output_type": "stream",
          "text": [
            "True Suicide: 24434\n",
            "False Suicide: 2449\n",
            "True Non-Suicide: 26702\n",
            "False Non-Suicide: 4427\n"
          ]
        }
      ],
      "source": [
        "from sklearn.metrics import confusion_matrix\n",
        "tn_rfcv, fp_rfcv, fn_rfcv, tp_rfcv = confusion_matrix(y_test5, y_pred5).ravel()\n",
        "print(f'True Suicide: {tp_rfcv}')\n",
        "print(f'False Suicide: {fp_rfcv}')\n",
        "print(f'True Non-Suicide: {tn_rfcv}')\n",
        "print(f'False Non-Suicide: {fn_rfcv}')"
      ]
    },
    {
      "cell_type": "code",
      "execution_count": null,
      "metadata": {
        "id": "eeeb1941",
        "outputId": "96ab73fb-59f7-4487-cd62-c87fc2c12434"
      },
      "outputs": [
        {
          "data": {
            "text/html": [
              "<div>\n",
              "<style scoped>\n",
              "    .dataframe tbody tr th:only-of-type {\n",
              "        vertical-align: middle;\n",
              "    }\n",
              "\n",
              "    .dataframe tbody tr th {\n",
              "        vertical-align: top;\n",
              "    }\n",
              "\n",
              "    .dataframe thead th {\n",
              "        text-align: right;\n",
              "    }\n",
              "</style>\n",
              "<table border=\"1\" class=\"dataframe\">\n",
              "  <thead>\n",
              "    <tr style=\"text-align: right;\">\n",
              "      <th></th>\n",
              "      <th>Predicted Non-Suicide</th>\n",
              "      <th>Predicted Suicide</th>\n",
              "    </tr>\n",
              "  </thead>\n",
              "  <tbody>\n",
              "    <tr>\n",
              "      <th>Actual Non-Suicide</th>\n",
              "      <td>26702</td>\n",
              "      <td>2449</td>\n",
              "    </tr>\n",
              "    <tr>\n",
              "      <th>Actual Suicide</th>\n",
              "      <td>4427</td>\n",
              "      <td>24434</td>\n",
              "    </tr>\n",
              "  </tbody>\n",
              "</table>\n",
              "</div>"
            ],
            "text/plain": [
              "                    Predicted Non-Suicide  Predicted Suicide\n",
              "Actual Non-Suicide                  26702               2449\n",
              "Actual Suicide                       4427              24434"
            ]
          },
          "execution_count": 66,
          "metadata": {},
          "output_type": "execute_result"
        }
      ],
      "source": [
        "pd.DataFrame(confusion_matrix(y_test5, y_pred5), columns=['Predicted Non-Suicide', \"Predicted Suicide\"], index=['Actual Non-Suicide', 'Actual Suicide'])"
      ]
    },
    {
      "cell_type": "code",
      "execution_count": null,
      "metadata": {
        "id": "ae23da07",
        "outputId": "1ce20b1a-61e2-481b-f3dd-37848494b9a5"
      },
      "outputs": [
        {
          "data": {
            "image/png": "[encoded data removed]",
            "text/plain": [
              "<Figure size 576x432 with 1 Axes>"
            ]
          },
          "metadata": {
            "needs_background": "light"
          },
          "output_type": "display_data"
        }
      ],
      "source": [
        "y_pred_proba5 = rfcv.predict_proba(X_test5)[::,1]\n",
        "fpr5, tpr5, _ = metrics.roc_curve(y_test5,  y_pred_proba5)\n",
        "plt.rcParams.update({'figure.figsize': (8, 6.0)})\n",
        "#create ROC curve\n",
        "plt.plot(fpr5,tpr5)\n",
        "plt.plot([0, 1], [0, 1],'r--')\n",
        "\n",
        "plt.title(\"ROC_AUC CURVE Random Forest with Count Vectorizer - Text Only\")\n",
        "plt.ylabel('True Positive Rate')\n",
        "plt.xlabel('False Positive Rate')\n",
        "plt.tight_layout()\n",
        "plt.savefig('ROC_AUC Curve Random Forest with Count Vectorizer TextOnly.png')"
      ]
    },
    {
      "cell_type": "markdown",
      "metadata": {
        "id": "e25101fe"
      },
      "source": [
        "# Step 4f:  Random Forest with Count Vectorizer - All Features"
      ]
    },
    {
      "cell_type": "code",
      "execution_count": null,
      "metadata": {
        "id": "47bbd4f7"
      },
      "outputs": [],
      "source": [
        "from scipy.sparse import hstack\n",
        "vectorizer = CountVectorizer(min_df=3, ngram_range = (1,2), stop_words = STOP_WORDS)\n",
        "text_matrix = vectorizer.fit_transform(df['clean_text'])\n",
        "text_matrix = text_matrix.tocsc() \n",
        "length = scaled_features_df['length'].values[:, None]\n",
        "sentiment = scaled_features_df['sentiment'].values[:, None]\n",
        "reading_level = scaled_features_df['flesch_kincaid'][:, None]\n",
        "repetition = scaled_features_df['repetition'][:, None]\n",
        "first = hstack((text_matrix, length))\n",
        "second = hstack((first, sentiment))\n",
        "third = hstack((second, reading_level))\n",
        "X = hstack((third, sentiment))\n",
        "\n",
        "y = df['class']"
      ]
    },
    {
      "cell_type": "code",
      "execution_count": null,
      "metadata": {
        "id": "227717da"
      },
      "outputs": [],
      "source": [
        "X_train6, X_test6, y_train6, y_test6 = train_test_split(X, y, test_size=0.25, random_state=12)"
      ]
    },
    {
      "cell_type": "code",
      "execution_count": null,
      "metadata": {
        "id": "9b9666cc"
      },
      "outputs": [],
      "source": [
        "from scipy.sparse import hstack\n",
        "vectorizer = CountVectorizer(min_df=3, ngram_range = (1,2), stop_words = STOP_WORDS)\n",
        "text_matrix = vectorizer.fit_transform(df['clean_text'].head(1000))\n",
        "text_matrix = text_matrix.tocsc() \n",
        "length = scaled_features_df['length'].head(1000).values[:, None]\n",
        "sentiment = scaled_features_df['sentiment'].head(1000).values[:, None]\n",
        "reading_level = scaled_features_df['flesch_kincaid'].head(1000)[:, None]\n",
        "repetition = scaled_features_df['repetition'].head(1000)[:, None]\n",
        "first = hstack((text_matrix, length))\n",
        "second = hstack((first, sentiment))\n",
        "third = hstack((second, reading_level))\n",
        "X_param = hstack((third, sentiment))\n",
        "\n",
        "y_param = df['class'].head(1000)"
      ]
    },
    {
      "cell_type": "code",
      "execution_count": null,
      "metadata": {
        "id": "dc01e95f"
      },
      "outputs": [],
      "source": [
        "X_train_param, X_test_param, y_train_param, y_test_param = train_test_split(X_param, y_param, test_size=0.25, random_state=12)"
      ]
    },
    {
      "cell_type": "code",
      "execution_count": null,
      "metadata": {
        "id": "55c5bc36",
        "outputId": "4f4450e4-0209-445a-f2a1-b7327635e528"
      },
      "outputs": [
        {
          "data": {
            "text/plain": [
              "[316, 1333, 5623, 23713, 100000]"
            ]
          },
          "execution_count": 78,
          "metadata": {},
          "output_type": "execute_result"
        }
      ],
      "source": [
        "n_est = [int(n) for n in np.logspace(start=2.5, stop=5, num=5)]\n",
        "n_est"
      ]
    },
    {
      "cell_type": "code",
      "execution_count": null,
      "metadata": {
        "id": "1f965326",
        "outputId": "55b3ef9a-937e-45f0-c830-0be593603557"
      },
      "outputs": [
        {
          "data": {
            "text/plain": [
              "GridSearchCV(cv=5, estimator=RandomForestClassifier(random_state=1519),\n",
              "             param_grid={'max_depth': [10, 32, 55, 77, 100],\n",
              "                         'n_estimators': [31, 177, 1000, 5623, 31622]},\n",
              "             scoring='roc_auc')"
            ]
          },
          "execution_count": 81,
          "metadata": {},
          "output_type": "execute_result"
        }
      ],
      "source": [
        "\n",
        "n_est = [int(n) for n in np.logspace(start=1.5, stop=4.5, num=5)]\n",
        "depth = [int(x) for x in np.linspace(10, 100, num = 5)]\n",
        "param_grid = {'n_estimators': n_est, 'max_depth' : depth}\n",
        "rf1 = RandomForestClassifier(random_state = 1519)\n",
        "rf_cv = GridSearchCV(rf1, param_grid, cv = 5, scoring=\"roc_auc\")\n",
        "rf_cv.fit(X_train_param, y_train_param)\n"
      ]
    },
    {
      "cell_type": "code",
      "execution_count": null,
      "metadata": {
        "id": "7da298cf",
        "outputId": "79d67b90-a8f2-485e-b3f1-41438d86e63e"
      },
      "outputs": [
        {
          "name": "stdout",
          "output_type": "stream",
          "text": [
            "Best Score:0.9064366998577524\n",
            "Best Parameters: {'max_depth': 55, 'n_estimators': 177}\n"
          ]
        }
      ],
      "source": [
        "print(\"Best Score:\" + str(rf_cv.best_score_))\n",
        "print(\"Best Parameters: \" + str(rf_cv.best_params_))"
      ]
    },
    {
      "cell_type": "code",
      "execution_count": null,
      "metadata": {
        "id": "f7e4562a",
        "outputId": "29997336-d77e-4873-ae6c-43ae46760545"
      },
      "outputs": [
        {
          "data": {
            "text/plain": [
              "RandomForestClassifier(max_depth=55, n_estimators=177)"
            ]
          },
          "execution_count": 85,
          "metadata": {},
          "output_type": "execute_result"
        }
      ],
      "source": [
        "rfcvi = RandomForestClassifier(n_estimators = 177 , max_depth = 55)\n",
        "rfcvi.fit(X_train6, y_train6)"
      ]
    },
    {
      "cell_type": "code",
      "execution_count": null,
      "metadata": {
        "id": "368c7a7e"
      },
      "outputs": [],
      "source": [
        "y_train_pred_rfcvi = rfcvi.predict(X_train6)\n",
        "y_pred6 = rfcvi.predict(X_test6)"
      ]
    },
    {
      "cell_type": "code",
      "execution_count": null,
      "metadata": {
        "id": "e2253275",
        "outputId": "2b4f50d1-ee7f-41cb-aca7-7c3625dea926"
      },
      "outputs": [
        {
          "name": "stdout",
          "output_type": "stream",
          "text": [
            "Accuracy: 0.8412052678756119\n",
            "Balanced accuracy: 0.8408936605507369\n",
            "Precision score 0.8884583448657625\n",
            "Recall score 0.7785593014795053\n",
            "F1 score 0.8298862461220269\n",
            "ROC_AUC Score 0.9257114199558252\n"
          ]
        }
      ],
      "source": [
        "from sklearn import tree, metrics\n",
        "accuracy_rfcvi = metrics.accuracy_score(y_test6,y_pred6)\n",
        "balanced_accuracy_rfcvi = metrics.balanced_accuracy_score(y_test6,y_pred6)\n",
        "precision_rfcvi = metrics.precision_score(y_test6,y_pred6, pos_label = 1)\n",
        "recall_rfcvi = metrics.recall_score(y_test6,y_pred6, pos_label = 1)\n",
        "f1_rfcvi = metrics.f1_score(y_test6, y_pred6, pos_label = 1)\n",
        "roc_auc_rfcvi = metrics.roc_auc_score(y_test6, rfcvi.predict_proba(X_test6)[:,1])\n",
        "print(\"Accuracy:\", accuracy_rfcvi)\n",
        "print(\"Balanced accuracy:\", balanced_accuracy_rfcvi)\n",
        "print('Precision score' , precision_rfcvi)\n",
        "print('Recall score' , recall_rfcvi)\n",
        "print('F1 score' , f1_rfcvi)\n",
        "print('ROC_AUC Score' , roc_auc_rfcvi)\n"
      ]
    },
    {
      "cell_type": "code",
      "execution_count": null,
      "metadata": {
        "id": "91d4b90b",
        "outputId": "8ab92ab6-3910-4dc1-fdb9-d936df217014"
      },
      "outputs": [
        {
          "name": "stdout",
          "output_type": "stream",
          "text": [
            "True Suicide: 22470\n",
            "False Suicide: 2821\n",
            "True Non-Suicide: 26330\n",
            "False Non-Suicide: 6391\n"
          ]
        }
      ],
      "source": [
        "from sklearn.metrics import confusion_matrix\n",
        "tn_rfcvi, fp_rfcvi, fn_rfcvi, tp_rfcvi = confusion_matrix(y_test6, y_pred6).ravel()\n",
        "print(f'True Suicide: {tp_rfcvi}')\n",
        "print(f'False Suicide: {fp_rfcvi}')\n",
        "print(f'True Non-Suicide: {tn_rfcvi}')\n",
        "print(f'False Non-Suicide: {fn_rfcvi}')"
      ]
    },
    {
      "cell_type": "code",
      "execution_count": null,
      "metadata": {
        "id": "ad656952",
        "outputId": "b82ceb0c-69bf-4af7-a547-c3a45c26571f"
      },
      "outputs": [
        {
          "data": {
            "text/html": [
              "<div>\n",
              "<style scoped>\n",
              "    .dataframe tbody tr th:only-of-type {\n",
              "        vertical-align: middle;\n",
              "    }\n",
              "\n",
              "    .dataframe tbody tr th {\n",
              "        vertical-align: top;\n",
              "    }\n",
              "\n",
              "    .dataframe thead th {\n",
              "        text-align: right;\n",
              "    }\n",
              "</style>\n",
              "<table border=\"1\" class=\"dataframe\">\n",
              "  <thead>\n",
              "    <tr style=\"text-align: right;\">\n",
              "      <th></th>\n",
              "      <th>Predicted Non-Suicide</th>\n",
              "      <th>Predicted Suicide</th>\n",
              "    </tr>\n",
              "  </thead>\n",
              "  <tbody>\n",
              "    <tr>\n",
              "      <th>Actual Non-Suicide</th>\n",
              "      <td>26330</td>\n",
              "      <td>2821</td>\n",
              "    </tr>\n",
              "    <tr>\n",
              "      <th>Actual Suicide</th>\n",
              "      <td>6391</td>\n",
              "      <td>22470</td>\n",
              "    </tr>\n",
              "  </tbody>\n",
              "</table>\n",
              "</div>"
            ],
            "text/plain": [
              "                    Predicted Non-Suicide  Predicted Suicide\n",
              "Actual Non-Suicide                  26330               2821\n",
              "Actual Suicide                       6391              22470"
            ]
          },
          "execution_count": 89,
          "metadata": {},
          "output_type": "execute_result"
        }
      ],
      "source": [
        "pd.DataFrame(confusion_matrix(y_test6, y_pred6), columns=['Predicted Non-Suicide', \"Predicted Suicide\"], index=['Actual Non-Suicide', 'Actual Suicide'])"
      ]
    },
    {
      "cell_type": "code",
      "execution_count": null,
      "metadata": {
        "id": "32a606e4",
        "outputId": "b36b3266-c2a7-47a2-f418-41452de04047"
      },
      "outputs": [
        {
          "data": {
            "image/png": "[encoded data removed]",
            "text/plain": [
              "<Figure size 576x432 with 1 Axes>"
            ]
          },
          "metadata": {
            "needs_background": "light"
          },
          "output_type": "display_data"
        }
      ],
      "source": [
        "y_pred_proba6 = rfcvi.predict_proba(X_test6)[::,1]\n",
        "fpr6, tpr6, _ = metrics.roc_curve(y_test6,  y_pred_proba6)\n",
        "plt.rcParams.update({'figure.figsize': (8, 6.0)})\n",
        "#create ROC curve\n",
        "plt.plot(fpr6,tpr6)\n",
        "plt.plot([0, 1], [0, 1],'r--')\n",
        "plt.title(\"ROC_AUC CURVE Random Forest with Count Vectorizer - All Features\")\n",
        "plt.ylabel('True Positive Rate')\n",
        "plt.xlabel('False Positive Rate')\n",
        "plt.tight_layout()\n",
        "plt.savefig('ROC_AUC Curve Random Forest with Count Vectorizer All Features.png')"
      ]
    },
    {
      "cell_type": "code",
      "execution_count": null,
      "metadata": {
        "id": "209d76f1"
      },
      "outputs": [],
      "source": []
    },
    {
      "cell_type": "markdown",
      "metadata": {
        "id": "528477c1"
      },
      "source": [
        "# Step 4g:  Random Forest with TF-IDF - Text Only"
      ]
    },
    {
      "cell_type": "code",
      "execution_count": null,
      "metadata": {
        "id": "f7c456b7"
      },
      "outputs": [],
      "source": [
        "from sklearn.feature_extraction.text import TfidfVectorizer\n",
        "vectorizor_tfid = TfidfVectorizer(min_df=3, ngram_range = (1,2), stop_words = STOP_WORDS)\n",
        "X_tfid1 = vectorizor_tfid.fit_transform(df['text'])\n",
        "X_tfid1 = X_tfid1.tocsc() \n",
        "y_tfid1 = df['class']"
      ]
    },
    {
      "cell_type": "code",
      "execution_count": null,
      "metadata": {
        "id": "1963e581"
      },
      "outputs": [],
      "source": [
        "X_train7, X_test7, y_train7, y_test7 = train_test_split(X_tfid1, y_tfid1, test_size=0.25, random_state=12)"
      ]
    },
    {
      "cell_type": "code",
      "execution_count": null,
      "metadata": {
        "id": "e2809cc6"
      },
      "outputs": [],
      "source": [
        "from sklearn.feature_extraction.text import TfidfVectorizer\n",
        "vectorizor_tfid = TfidfVectorizer(min_df=3, ngram_range = (1,2), stop_words = STOP_WORDS)\n",
        "X_params = vectorizor_tfid.fit_transform(df['text'].head(1000))\n",
        "X_params = X_params.tocsc() \n",
        "y_params = df['class'].head(1000)"
      ]
    },
    {
      "cell_type": "code",
      "execution_count": null,
      "metadata": {
        "id": "14e59f0a"
      },
      "outputs": [],
      "source": [
        "X_train_params7, X_test_params7, y_train_params7, y_test_params7 = train_test_split(X_params, y_params, test_size=0.25, random_state=12)"
      ]
    },
    {
      "cell_type": "code",
      "execution_count": null,
      "metadata": {
        "id": "054c7ec1",
        "outputId": "3f016498-d062-4d28-aaab-d727708eded3"
      },
      "outputs": [
        {
          "data": {
            "text/plain": [
              "[100, 316, 1000, 3162, 10000]"
            ]
          },
          "execution_count": 95,
          "metadata": {},
          "output_type": "execute_result"
        }
      ],
      "source": [
        "n_est = [int(n) for n in np.logspace(start=2, stop=4, num=5)]\n",
        "n_est"
      ]
    },
    {
      "cell_type": "code",
      "execution_count": null,
      "metadata": {
        "id": "7497b5b1",
        "outputId": "01f1dbed-1161-4898-a5c9-8796db50e243"
      },
      "outputs": [
        {
          "data": {
            "text/plain": [
              "GridSearchCV(cv=5, estimator=RandomForestClassifier(random_state=1519),\n",
              "             param_grid={'max_depth': [80, 135, 190, 245, 300],\n",
              "                         'n_estimators': [100, 316, 1000, 3162, 10000]},\n",
              "             scoring='roc_auc')"
            ]
          },
          "execution_count": 96,
          "metadata": {},
          "output_type": "execute_result"
        }
      ],
      "source": [
        "\n",
        "n_est = [int(n) for n in np.logspace(start=2, stop=4, num=5)]\n",
        "depth = [int(x) for x in np.linspace(80, 300, num = 5)]\n",
        "param_grid = {'n_estimators': n_est, 'max_depth' : depth}\n",
        "rf1 = RandomForestClassifier(random_state = 1519)\n",
        "rf_cv = GridSearchCV(rf1, param_grid, cv = 5, scoring=\"roc_auc\")\n",
        "rf_cv.fit(X_train_params7, y_train_params7)\n"
      ]
    },
    {
      "cell_type": "code",
      "execution_count": null,
      "metadata": {
        "id": "1774c169",
        "outputId": "760423fc-1a3a-44b4-8e15-7d15d1980760"
      },
      "outputs": [
        {
          "name": "stdout",
          "output_type": "stream",
          "text": [
            "Best Score:0.9197901849217638\n",
            "Best Parameters: {'max_depth': 135, 'n_estimators': 3162}\n"
          ]
        }
      ],
      "source": [
        "print(\"Best Score:\" + str(rf_cv.best_score_))\n",
        "print(\"Best Parameters: \" + str(rf_cv.best_params_))"
      ]
    },
    {
      "cell_type": "code",
      "execution_count": null,
      "metadata": {
        "id": "1a48733c",
        "outputId": "1c85754e-1985-43d4-ad6c-c9d36bf85631"
      },
      "outputs": [
        {
          "data": {
            "text/plain": [
              "RandomForestClassifier(max_depth=135, n_estimators=3162)"
            ]
          },
          "execution_count": 99,
          "metadata": {},
          "output_type": "execute_result"
        }
      ],
      "source": [
        "rf_tfidf = RandomForestClassifier(max_depth = 135 , n_estimators = 3162)\n",
        "rf_tfidf.fit(X_train7, y_train7)\n"
      ]
    },
    {
      "cell_type": "code",
      "execution_count": null,
      "metadata": {
        "id": "103bb89c"
      },
      "outputs": [],
      "source": [
        "y_train_pred7 = rf_tfidf.predict(X_train7)\n",
        "y_pred7 = rf_tfidf.predict(X_test7)"
      ]
    },
    {
      "cell_type": "code",
      "execution_count": null,
      "metadata": {
        "id": "9bf23193",
        "outputId": "e9dab97d-738c-4850-d301-47e91188a8e0"
      },
      "outputs": [
        {
          "name": "stdout",
          "output_type": "stream",
          "text": [
            "Accuracy: 0.8775425773977797\n",
            "Balanced accuracy: 0.8773657915994332\n",
            "Precision score 0.9052337493015459\n",
            "Recall score 0.8420013166556946\n",
            "F1 score 0.8724733421893512\n",
            "ROC_AUC Score 0.9494228885514768\n"
          ]
        }
      ],
      "source": [
        "from sklearn import tree, metrics\n",
        "\n",
        "accuracy_rf_tfidf = metrics.accuracy_score(y_test7,y_pred7)\n",
        "balanced_accuracy_rf_tfidf = metrics.balanced_accuracy_score(y_test7,y_pred7)\n",
        "precision_rf_tfidf = metrics.precision_score(y_test7,y_pred7, pos_label = 1)\n",
        "recall_rf_tfidf = metrics.recall_score(y_test7,y_pred7, pos_label = 1)\n",
        "f1_rf_tfidf = metrics.f1_score(y_test7, y_pred7, pos_label = 1)\n",
        "roc_auc_rf_tfidf = metrics.roc_auc_score(y_test7, rf_tfidf.predict_proba(X_test7)[:,1])\n",
        "print(\"Accuracy:\", accuracy_rf_tfidf)\n",
        "print(\"Balanced accuracy:\", balanced_accuracy_rf_tfidf)\n",
        "print('Precision score' , precision_rf_tfidf)\n",
        "print('Recall score' , recall_rf_tfidf)\n",
        "print('F1 score' , f1_rf_tfidf)\n",
        "print('ROC_AUC Score' , roc_auc_rf_tfidf)\n",
        "\n"
      ]
    },
    {
      "cell_type": "code",
      "execution_count": null,
      "metadata": {
        "id": "2b432992",
        "outputId": "16fdb870-6db8-409a-f5d0-9549ae0d6c54"
      },
      "outputs": [
        {
          "name": "stdout",
          "output_type": "stream",
          "text": [
            "True Suicide: 24301\n",
            "False Suicide: 2544\n",
            "True Non-Suicide: 26607\n",
            "False Non-Suicide: 4560\n"
          ]
        }
      ],
      "source": [
        "from sklearn.metrics import confusion_matrix\n",
        "tn_rf_tfid, fp_rf_tfid, fn_rf_tfid, tp_rf_tfid = confusion_matrix(y_test7, y_pred7).ravel()\n",
        "print(f'True Suicide: {tp_rf_tfid}')\n",
        "print(f'False Suicide: {fp_rf_tfid}')\n",
        "print(f'True Non-Suicide: {tn_rf_tfid}')\n",
        "print(f'False Non-Suicide: {fn_rf_tfid}')"
      ]
    },
    {
      "cell_type": "code",
      "execution_count": null,
      "metadata": {
        "id": "46815406",
        "outputId": "ff0a61bc-d943-4024-ae3a-0024b0dccec8"
      },
      "outputs": [
        {
          "data": {
            "text/html": [
              "<div>\n",
              "<style scoped>\n",
              "    .dataframe tbody tr th:only-of-type {\n",
              "        vertical-align: middle;\n",
              "    }\n",
              "\n",
              "    .dataframe tbody tr th {\n",
              "        vertical-align: top;\n",
              "    }\n",
              "\n",
              "    .dataframe thead th {\n",
              "        text-align: right;\n",
              "    }\n",
              "</style>\n",
              "<table border=\"1\" class=\"dataframe\">\n",
              "  <thead>\n",
              "    <tr style=\"text-align: right;\">\n",
              "      <th></th>\n",
              "      <th>Predicted Non-Suicide</th>\n",
              "      <th>Predicted Suicide</th>\n",
              "    </tr>\n",
              "  </thead>\n",
              "  <tbody>\n",
              "    <tr>\n",
              "      <th>Actual Non-Suicide</th>\n",
              "      <td>26607</td>\n",
              "      <td>2544</td>\n",
              "    </tr>\n",
              "    <tr>\n",
              "      <th>Actual Suicide</th>\n",
              "      <td>4560</td>\n",
              "      <td>24301</td>\n",
              "    </tr>\n",
              "  </tbody>\n",
              "</table>\n",
              "</div>"
            ],
            "text/plain": [
              "                    Predicted Non-Suicide  Predicted Suicide\n",
              "Actual Non-Suicide                  26607               2544\n",
              "Actual Suicide                       4560              24301"
            ]
          },
          "execution_count": 103,
          "metadata": {},
          "output_type": "execute_result"
        }
      ],
      "source": [
        "pd.DataFrame(confusion_matrix(y_test7, y_pred7), columns=['Predicted Non-Suicide', \"Predicted Suicide\"], index=['Actual Non-Suicide', 'Actual Suicide'])"
      ]
    },
    {
      "cell_type": "code",
      "execution_count": null,
      "metadata": {
        "id": "0275c94b",
        "outputId": "94a40dd2-38de-4409-e20e-1beabc67a08a"
      },
      "outputs": [
        {
          "data": {
            "image/png": "[encoded data removed]",
            "text/plain": [
              "<Figure size 576x432 with 1 Axes>"
            ]
          },
          "metadata": {
            "needs_background": "light"
          },
          "output_type": "display_data"
        }
      ],
      "source": [
        "y_pred_proba7 = rf_tfidf.predict_proba(X_test7)[::,1]\n",
        "fpr7, tpr7, _ = metrics.roc_curve(y_test7,  y_pred_proba7)\n",
        "plt.rcParams.update({'figure.figsize': (8, 6.0)})\n",
        "#create ROC curve\n",
        "plt.plot(fpr7,tpr7)\n",
        "plt.plot([0, 1], [0, 1],'r--')\n",
        "plt.title(\"ROC_AUC CURVE Random Forest with TF-IDF Vectorizer - Text Only\")\n",
        "plt.ylabel('True Positive Rate')\n",
        "plt.xlabel('False Positive Rate')\n",
        "plt.tight_layout()\n",
        "plt.savefig('ROC_AUC Curve Random Forest with TF-IDF_text_only.png')"
      ]
    },
    {
      "cell_type": "markdown",
      "metadata": {
        "id": "72cc602e"
      },
      "source": [
        "# Step 4h:  Random Forest with TF-IDF - All Features"
      ]
    },
    {
      "cell_type": "code",
      "execution_count": null,
      "metadata": {
        "id": "f3fd3aae"
      },
      "outputs": [],
      "source": [
        "from sklearn.feature_extraction.text import TfidfVectorizer\n",
        "vectorizor_tfid = TfidfVectorizer(min_df=3, ngram_range = (1,2), stop_words = STOP_WORDS)\n",
        "text_matrix8 = vectorizor_tfid.fit_transform(df['text'])\n",
        "text_matrix8 = text_matrix8.tocsc() \n",
        "length = scaled_features_df['length'].values[:, None]\n",
        "sentiment = scaled_features_df['sentiment'].values[:, None]\n",
        "reading_level = scaled_features_df['flesch_kincaid'][:, None]\n",
        "repetition = scaled_features_df['repetition'][:, None]\n",
        "first = hstack((text_matrix8, length))\n",
        "second = hstack((first, sentiment))\n",
        "third = hstack((second, reading_level))\n",
        "X_tfid8 = hstack((third, sentiment))\n",
        "\n",
        "y_tfid8 = df['class']"
      ]
    },
    {
      "cell_type": "code",
      "execution_count": null,
      "metadata": {
        "id": "fefb4d3f"
      },
      "outputs": [],
      "source": [
        "X_train8, X_test8, y_train8, y_test8 = train_test_split(X_tfid8, y_tfid8, test_size=0.25, random_state=12)"
      ]
    },
    {
      "cell_type": "code",
      "execution_count": null,
      "metadata": {
        "id": "931081fd"
      },
      "outputs": [],
      "source": [
        "from sklearn.feature_extraction.text import TfidfVectorizer\n",
        "vectorizor_tfid = TfidfVectorizer(min_df=3, ngram_range = (1,2), stop_words = STOP_WORDS)\n",
        "text_matrix8 = vectorizor_tfid.fit_transform(df['text'].head(1000))\n",
        "text_matrix8 = text_matrix8.tocsc() \n",
        "length = scaled_features_df['length'].head(1000).values[:, None]\n",
        "sentiment = scaled_features_df['sentiment'].head(1000).values[:, None]\n",
        "reading_level = scaled_features_df['flesch_kincaid'].head(1000)[:, None]\n",
        "repetition = scaled_features_df['repetition'].head(1000)[:, None]\n",
        "first = hstack((text_matrix8, length))\n",
        "second = hstack((first, sentiment))\n",
        "third = hstack((second, reading_level))\n",
        "X_param8 = hstack((third, sentiment))\n",
        "\n",
        "y_param8 = df['class'].head(1000)\n"
      ]
    },
    {
      "cell_type": "code",
      "execution_count": null,
      "metadata": {
        "id": "c4cdfdb2"
      },
      "outputs": [],
      "source": [
        "X_train_param8, X_test_param8, y_train_param8, y_test_param8 = train_test_split(X_param8, y_param8, test_size=0.25, random_state=12)"
      ]
    },
    {
      "cell_type": "code",
      "execution_count": null,
      "metadata": {
        "id": "758f918c",
        "outputId": "1e3c948e-3c2f-4f87-913e-7dde48c16333"
      },
      "outputs": [
        {
          "data": {
            "text/plain": [
              "[39, 199, 1000, 5011, 25118]"
            ]
          },
          "execution_count": 109,
          "metadata": {},
          "output_type": "execute_result"
        }
      ],
      "source": [
        "n_est = [int(n) for n in np.logspace(start=1.6, stop=4.4, num=5)]\n",
        "n_est"
      ]
    },
    {
      "cell_type": "code",
      "execution_count": null,
      "metadata": {
        "id": "22500ef9",
        "outputId": "402558c3-f11f-430f-d29d-41881ee984d9"
      },
      "outputs": [
        {
          "data": {
            "text/plain": [
              "GridSearchCV(cv=5, estimator=RandomForestClassifier(random_state=1519),\n",
              "             param_grid={'max_depth': [60, 108, 156, 204, 252, 300],\n",
              "                         'n_estimators': [39, 199, 1000, 5011, 25118]},\n",
              "             scoring='roc_auc')"
            ]
          },
          "execution_count": 110,
          "metadata": {},
          "output_type": "execute_result"
        }
      ],
      "source": [
        "\n",
        "n_est = [int(n) for n in np.logspace(start=1.6, stop=4.4, num=5)]\n",
        "depth = [int(x) for x in np.linspace(60, 300, num = 6)]\n",
        "param_grid = {'n_estimators': n_est, 'max_depth' : depth}\n",
        "rf1 = RandomForestClassifier(random_state = 1519)\n",
        "rf_cv = GridSearchCV(rf1, param_grid, cv = 5, scoring=\"roc_auc\")\n",
        "rf_cv.fit(X_train_param8, y_train_param8)\n"
      ]
    },
    {
      "cell_type": "code",
      "execution_count": null,
      "metadata": {
        "id": "706681f9",
        "outputId": "206a4eaa-980f-415c-adb7-aa6364a8d7d6"
      },
      "outputs": [
        {
          "name": "stdout",
          "output_type": "stream",
          "text": [
            "Best Score:0.9084815078236131\n",
            "Best Parameters: {'max_depth': 108, 'n_estimators': 5011}\n"
          ]
        }
      ],
      "source": [
        "\n",
        "print(\"Best Score:\" + str(rf_cv.best_score_))\n",
        "print(\"Best Parameters: \" + str(rf_cv.best_params_))\n"
      ]
    },
    {
      "cell_type": "code",
      "execution_count": null,
      "metadata": {
        "id": "8a64094e",
        "outputId": "d73bc166-4bd9-4180-b816-23381ffeb182"
      },
      "outputs": [
        {
          "data": {
            "text/plain": [
              "RandomForestClassifier(max_depth=108, n_estimators=5011)"
            ]
          },
          "execution_count": 112,
          "metadata": {},
          "output_type": "execute_result"
        }
      ],
      "source": [
        "rf_tfidfi = RandomForestClassifier(max_depth = 108, n_estimators = 5011)\n",
        "rf_tfidfi.fit(X_train8, y_train8)"
      ]
    },
    {
      "cell_type": "code",
      "execution_count": null,
      "metadata": {
        "id": "2c8c65d0"
      },
      "outputs": [],
      "source": [
        "y_train_pred8 = rf_tfidfi.predict(X_train8)\n",
        "y_pred8 = rf_tfidfi.predict(X_test8)"
      ]
    },
    {
      "cell_type": "code",
      "execution_count": null,
      "metadata": {
        "id": "4a315107",
        "outputId": "0df03c42-cbe7-4cf3-84d4-01888cedfc20"
      },
      "outputs": [
        {
          "name": "stdout",
          "output_type": "stream",
          "text": [
            "Accuracy: 0.8646831689995174\n",
            "Balanced accuracy: 0.8644822779854859\n",
            "Precision score 0.895404418683428\n",
            "Recall score 0.8242957624475936\n",
            "F1 score 0.8583799386613746\n",
            "ROC_AUC Score 0.9423375621301668\n"
          ]
        }
      ],
      "source": [
        "\n",
        "accuracy_rf_tfidfi = metrics.accuracy_score(y_test8,y_pred8)\n",
        "balanced_accuracy_rf_tfidfi = metrics.balanced_accuracy_score(y_test8,y_pred8)\n",
        "precision_rf_tfidfi = metrics.precision_score(y_test8,y_pred8, pos_label = 1)\n",
        "recall_rf_tfidfi = metrics.recall_score(y_test8,y_pred8, pos_label = 1)\n",
        "f1_rf_tfidfi = metrics.f1_score(y_test8, y_pred8, pos_label = 1)\n",
        "roc_auc_rf_tfidfi = metrics.roc_auc_score(y_test8, rf_tfidfi.predict_proba(X_test8)[:,1])\n",
        "print(\"Accuracy:\", accuracy_rf_tfidfi)\n",
        "print(\"Balanced accuracy:\", balanced_accuracy_rf_tfidfi)\n",
        "print('Precision score' , precision_rf_tfidfi)\n",
        "print('Recall score' , recall_rf_tfidfi)\n",
        "print('F1 score' , f1_rf_tfidfi)\n",
        "print('ROC_AUC Score' , roc_auc_rf_tfidfi)\n"
      ]
    },
    {
      "cell_type": "code",
      "execution_count": null,
      "metadata": {
        "id": "690555d7",
        "outputId": "01b11b56-2768-4b97-e29e-014b5d75db04"
      },
      "outputs": [
        {
          "name": "stdout",
          "output_type": "stream",
          "text": [
            "True Suicide: 23790\n",
            "False Suicide: 2779\n",
            "True Non-Suicide: 26372\n",
            "False Non-Suicide: 5071\n"
          ]
        }
      ],
      "source": [
        "from sklearn.metrics import confusion_matrix\n",
        "tn_rf_tfidi, fp_rf_tfidi, fn_rf_tfidi, tp_rf_tfidi = confusion_matrix(y_test8, y_pred8).ravel()\n",
        "print(f'True Suicide: {tp_rf_tfidi}')\n",
        "print(f'False Suicide: {fp_rf_tfidi}')\n",
        "print(f'True Non-Suicide: {tn_rf_tfidi}')\n",
        "print(f'False Non-Suicide: {fn_rf_tfidi}')"
      ]
    },
    {
      "cell_type": "code",
      "execution_count": null,
      "metadata": {
        "id": "ff2ced81",
        "outputId": "cfd0b688-4d14-417f-b47c-763052c3dc2a"
      },
      "outputs": [
        {
          "data": {
            "text/html": [
              "<div>\n",
              "<style scoped>\n",
              "    .dataframe tbody tr th:only-of-type {\n",
              "        vertical-align: middle;\n",
              "    }\n",
              "\n",
              "    .dataframe tbody tr th {\n",
              "        vertical-align: top;\n",
              "    }\n",
              "\n",
              "    .dataframe thead th {\n",
              "        text-align: right;\n",
              "    }\n",
              "</style>\n",
              "<table border=\"1\" class=\"dataframe\">\n",
              "  <thead>\n",
              "    <tr style=\"text-align: right;\">\n",
              "      <th></th>\n",
              "      <th>Predicted Non-Suicide</th>\n",
              "      <th>Predicted Suicide</th>\n",
              "    </tr>\n",
              "  </thead>\n",
              "  <tbody>\n",
              "    <tr>\n",
              "      <th>Actual Non-Suicide</th>\n",
              "      <td>26372</td>\n",
              "      <td>2779</td>\n",
              "    </tr>\n",
              "    <tr>\n",
              "      <th>Actual Suicide</th>\n",
              "      <td>5071</td>\n",
              "      <td>23790</td>\n",
              "    </tr>\n",
              "  </tbody>\n",
              "</table>\n",
              "</div>"
            ],
            "text/plain": [
              "                    Predicted Non-Suicide  Predicted Suicide\n",
              "Actual Non-Suicide                  26372               2779\n",
              "Actual Suicide                       5071              23790"
            ]
          },
          "execution_count": 116,
          "metadata": {},
          "output_type": "execute_result"
        }
      ],
      "source": [
        "pd.DataFrame(confusion_matrix(y_test8, y_pred8), columns=['Predicted Non-Suicide', \"Predicted Suicide\"], index=['Actual Non-Suicide', 'Actual Suicide'])"
      ]
    },
    {
      "cell_type": "code",
      "execution_count": null,
      "metadata": {
        "id": "2ce134fc",
        "outputId": "947d9066-9d7c-4398-d358-845203d977bc"
      },
      "outputs": [
        {
          "data": {
            "image/png": "[encoded data removed]",
            "text/plain": [
              "<Figure size 576x432 with 1 Axes>"
            ]
          },
          "metadata": {
            "needs_background": "light"
          },
          "output_type": "display_data"
        }
      ],
      "source": [
        "y_pred_proba8 = rf_tfidfi.predict_proba(X_test8)[::,1]\n",
        "fpr8, tpr8, _ = metrics.roc_curve(y_test8,  y_pred_proba8)\n",
        "plt.rcParams.update({'figure.figsize': (8, 6.0)})\n",
        "#create ROC curve\n",
        "plt.plot(fpr8,tpr8)\n",
        "plt.plot([0, 1], [0, 1],'r--')\n",
        "plt.title(\"ROC_AUC CURVE Random Forest with TF-IDF Vectorizer All Features\")\n",
        "plt.ylabel('True Positive Rate')\n",
        "plt.xlabel('False Positive Rate')\n",
        "plt.tight_layout()\n",
        "plt.savefig('ROC_AUC Curve Random Forest with TF-IDF.ALL_Features.png')"
      ]
    },
    {
      "cell_type": "code",
      "execution_count": null,
      "metadata": {
        "id": "9b60396f",
        "outputId": "579f7926-f8c9-4a65-b6ae-979e6a2ba7da"
      },
      "outputs": [
        {
          "name": "stdout",
          "output_type": "stream",
          "text": [
            "+------------------------+-------------------------+----------------------------+--------------------+-----------------------+\n",
            "| Model: Random Forest   | Count Vect. Text Only   | Count Vect. All Features   | TF-IDF Text Only   | TF-IDF All Features   |\n",
            "|------------------------+-------------------------+----------------------------+--------------------+-----------------------|\n",
            "| Accuracy               | 0.881                   | 0.841                      | 0.878              | 0.865                 |\n",
            "| Precision              | 0.909                   | 0.888                      | 0.905              | 0.895                 |\n",
            "| Recall                 | 0.847                   | 0.779                      | 0.842              | 0.824                 |\n",
            "| ROC-AUC Score          | 0.952                   | 0.926                      | 0.949              | 0.942                 |\n",
            "|                        |                         |                            |                    |                       |\n",
            "| True Suicide           | 24434                   | 22470                      | 24301              | 23790                 |\n",
            "| False Suicide          | 2449                    | 2821                       | 2544               | 2779                  |\n",
            "| True Non-Suicide       | 26702                   | 26330                      | 26607              | 26372                 |\n",
            "| False Non-Suicide      | 4427                    | 6391                       | 4560               | 5071                  |\n",
            "|                        |                         |                            |                    |                       |\n",
            "| Optimal: Max Depth     | 150                     | 55                         | 135                | 108                   |\n",
            "| Optimal: n_estimators  | 841                     | 177                        | 3162               | 5011                  |\n",
            "+------------------------+-------------------------+----------------------------+--------------------+-----------------------+\n"
          ]
        }
      ],
      "source": [
        "d = [ [\"Accuracy\", round(accuracy_rfcv, 3), round(accuracy_rfcvi, 3), round(accuracy_rf_tfidf, 3), round(accuracy_rf_tfidfi, 3)], \n",
        "     [\"Precision\", round(precision_rfcv, 3), round(precision_rfcvi, 3), round(precision_rf_tfidf, 3), round(precision_rf_tfidfi, 3)],\n",
        "     [\"Recall\", round(recall_rfcv, 3), round(recall_rfcvi, 3), round(recall_rf_tfidf, 3), round(recall_rf_tfidfi, 3)],\n",
        "     [\"ROC-AUC Score\", round(roc_auc_rfcv, 3), round(roc_auc_rfcvi, 3), round(roc_auc_rf_tfidf, 3), round(roc_auc_rf_tfidfi, 3)],\n",
        "     [\" \", \" \", \" \", \" \"],\n",
        "     [\"True Suicide\", tp_rfcv, tp_rfcvi, tp_rf_tfid, tp_rf_tfidi] , \n",
        "     [\"False Suicide\", fp_rfcv, fp_rfcvi, fp_rf_tfid, fp_rf_tfidi], \n",
        "     [\"True Non-Suicide\", tn_rfcv, tn_rfcvi, tn_rf_tfid, tn_rf_tfidi],\n",
        "     [\"False Non-Suicide\", fn_rfcv, fn_rfcvi, fn_rf_tfid, fn_rf_tfidi],\n",
        "     [\" \", \" \", \" \", \" \"],\n",
        "     [\"Optimal: Max Depth\", \"150\", \"55\", \"135\", \"108\"],\n",
        "    [\"Optimal: n_estimators\", \"841\", \"177\", \"3162\", \"5011\"]]\n",
        "\n",
        "print(tabulate(d, headers=[\"Model: Random Forest\", \"Count Vect. Text Only\", \"Count Vect. All Features\", \"TF-IDF Text Only\", \"TF-IDF All Features\"], tablefmt='psql', showindex=False, numalign=\"left\"))"
      ]
    },
    {
      "cell_type": "markdown",
      "metadata": {
        "id": "34bb8c5f"
      },
      "source": [
        "# Step 4i:  Logistic Regression with Count Vectorizer - Text Only"
      ]
    },
    {
      "cell_type": "code",
      "execution_count": null,
      "metadata": {
        "id": "0ea0582a"
      },
      "outputs": [],
      "source": [
        "vectorizer = CountVectorizer(min_df=3, ngram_range = (1,2), stop_words = STOP_WORDS)\n",
        "X = vectorizer.fit_transform(df['clean_text'])\n",
        "X = X.tocsc() \n",
        "y = df['class']"
      ]
    },
    {
      "cell_type": "code",
      "execution_count": null,
      "metadata": {
        "id": "6c50986e"
      },
      "outputs": [],
      "source": [
        "X_train9, X_test9, y_train9, y_test9 = train_test_split(X, y, test_size=0.25, random_state=12)"
      ]
    },
    {
      "cell_type": "code",
      "execution_count": null,
      "metadata": {
        "id": "7d919c19",
        "outputId": "eff83519-c61b-42a5-9df3-12e6fe6cf60a"
      },
      "outputs": [
        {
          "data": {
            "text/plain": [
              "LogisticRegression()"
            ]
          },
          "execution_count": 121,
          "metadata": {},
          "output_type": "execute_result"
        }
      ],
      "source": [
        "from sklearn.linear_model import LogisticRegression\n",
        "lr = LogisticRegression()\n",
        "lr.fit(X_train9, y_train9)"
      ]
    },
    {
      "cell_type": "code",
      "execution_count": null,
      "metadata": {
        "id": "f869cfc6",
        "outputId": "7d28253b-f1d2-4a37-e566-d0b255f3602e"
      },
      "outputs": [
        {
          "data": {
            "text/plain": [
              "GridSearchCV(cv=5, estimator=LogisticRegression(random_state=0),\n",
              "             param_grid={'C': [100, 10, 1.0, 0.1, 0.01]}, scoring='roc_auc')"
            ]
          },
          "execution_count": 122,
          "metadata": {},
          "output_type": "execute_result"
        }
      ],
      "source": [
        "#penalty = ['none', 'l1', 'l2', 'elasticnet']\n",
        "c_values = [100, 10, 1.0, 0.1, 0.01]\n",
        "param_grid = {'C' : c_values}\n",
        "lr = LogisticRegression(random_state = 0)\n",
        "lr_cv = GridSearchCV(lr, param_grid, cv = 5, scoring=\"roc_auc\")\n",
        "lr_cv.fit(X_train9, y_train9)"
      ]
    },
    {
      "cell_type": "code",
      "execution_count": null,
      "metadata": {
        "id": "55ebe8eb",
        "outputId": "43fc5e31-e973-440d-f78d-fbca8b2ae188"
      },
      "outputs": [
        {
          "name": "stdout",
          "output_type": "stream",
          "text": [
            "Best Score:0.9766600467883721\n",
            "Best Parameters: {'C': 0.1}\n"
          ]
        }
      ],
      "source": [
        "print(\"Best Score:\" + str(lr_cv.best_score_))\n",
        "print(\"Best Parameters: \" + str(lr_cv.best_params_))"
      ]
    },
    {
      "cell_type": "code",
      "execution_count": null,
      "metadata": {
        "id": "35a82a1f",
        "outputId": "83c1f474-b9ba-493c-906c-3d811cbfb980"
      },
      "outputs": [
        {
          "data": {
            "text/plain": [
              "LogisticRegression(C=0.1)"
            ]
          },
          "execution_count": 124,
          "metadata": {},
          "output_type": "execute_result"
        }
      ],
      "source": [
        "lr = LogisticRegression(C = 0.1)\n",
        "lr.fit(X_train9, y_train9)"
      ]
    },
    {
      "cell_type": "code",
      "execution_count": null,
      "metadata": {
        "id": "0bbdd4ce"
      },
      "outputs": [],
      "source": [
        "y_train_pred = lr.predict(X_train9)\n",
        "y_pred9 = lr.predict(X_test9)"
      ]
    },
    {
      "cell_type": "code",
      "execution_count": null,
      "metadata": {
        "id": "b56fe089",
        "outputId": "df43d802-248c-4850-fe52-11158b4e894d"
      },
      "outputs": [
        {
          "name": "stdout",
          "output_type": "stream",
          "text": [
            "Accuracy: 0.9306350410259946\n",
            "Balanced accuracy: 0.9304968089274861\n",
            "Precision score 0.9552736737911061\n",
            "Recall score 0.9028446692768788\n",
            "F1 score 0.9283194983789945\n",
            "ROC_AUC Score 0.9783181791841935\n"
          ]
        }
      ],
      "source": [
        "from sklearn import tree, metrics\n",
        "\n",
        "accuracy_lrcv = metrics.accuracy_score(y_test9,y_pred9)\n",
        "balanced_accuracy_lrcv = metrics.balanced_accuracy_score(y_test9,y_pred9)\n",
        "precision_lrcv = metrics.precision_score(y_test9,y_pred9, pos_label = 1)\n",
        "recall_lrcv = metrics.recall_score(y_test9,y_pred9, pos_label = 1)\n",
        "f1_lrcv = metrics.f1_score(y_test9, y_pred9, pos_label = 1)\n",
        "roc_auc_lrcv = metrics.roc_auc_score(y_test9, lr.predict_proba(X_test9)[:,1])\n",
        "print(\"Accuracy:\", accuracy_lrcv)\n",
        "print(\"Balanced accuracy:\", balanced_accuracy_lrcv)\n",
        "print('Precision score' , precision_lrcv)\n",
        "print('Recall score' , recall_lrcv)\n",
        "print('F1 score' , f1_lrcv)\n",
        "print('ROC_AUC Score' , roc_auc_lrcv)\n"
      ]
    },
    {
      "cell_type": "code",
      "execution_count": null,
      "metadata": {
        "id": "a0a146b6",
        "outputId": "c63f3160-cbae-4bf0-e785-48cd06b3aa0a"
      },
      "outputs": [
        {
          "name": "stdout",
          "output_type": "stream",
          "text": [
            "True Suicide: 26057\n",
            "False Suicide: 1220\n",
            "True Non-Suicide: 27931\n",
            "False Non-Suicide: 2804\n"
          ]
        }
      ],
      "source": [
        "from sklearn.metrics import confusion_matrix\n",
        "tn_lrcv, fp_lrcv, fn_lrcv, tp_lrcv = confusion_matrix(y_test9, y_pred9).ravel()\n",
        "print(f'True Suicide: {tp_lrcv}')\n",
        "print(f'False Suicide: {fp_lrcv}')\n",
        "print(f'True Non-Suicide: {tn_lrcv}')\n",
        "print(f'False Non-Suicide: {fn_lrcv}')"
      ]
    },
    {
      "cell_type": "code",
      "execution_count": null,
      "metadata": {
        "id": "3e0d37c3",
        "outputId": "f1d39ce1-3624-4e8d-fbb3-04da6a3f0801"
      },
      "outputs": [
        {
          "data": {
            "text/html": [
              "<div>\n",
              "<style scoped>\n",
              "    .dataframe tbody tr th:only-of-type {\n",
              "        vertical-align: middle;\n",
              "    }\n",
              "\n",
              "    .dataframe tbody tr th {\n",
              "        vertical-align: top;\n",
              "    }\n",
              "\n",
              "    .dataframe thead th {\n",
              "        text-align: right;\n",
              "    }\n",
              "</style>\n",
              "<table border=\"1\" class=\"dataframe\">\n",
              "  <thead>\n",
              "    <tr style=\"text-align: right;\">\n",
              "      <th></th>\n",
              "      <th>Predicted Non-Suicide</th>\n",
              "      <th>Predicted Suicide</th>\n",
              "    </tr>\n",
              "  </thead>\n",
              "  <tbody>\n",
              "    <tr>\n",
              "      <th>Actual Non-Suicide</th>\n",
              "      <td>27931</td>\n",
              "      <td>1220</td>\n",
              "    </tr>\n",
              "    <tr>\n",
              "      <th>Actual Suicide</th>\n",
              "      <td>2804</td>\n",
              "      <td>26057</td>\n",
              "    </tr>\n",
              "  </tbody>\n",
              "</table>\n",
              "</div>"
            ],
            "text/plain": [
              "                    Predicted Non-Suicide  Predicted Suicide\n",
              "Actual Non-Suicide                  27931               1220\n",
              "Actual Suicide                       2804              26057"
            ]
          },
          "execution_count": 128,
          "metadata": {},
          "output_type": "execute_result"
        }
      ],
      "source": [
        "pd.DataFrame(confusion_matrix(y_test9, y_pred9), columns=['Predicted Non-Suicide', \"Predicted Suicide\"], index=['Actual Non-Suicide', 'Actual Suicide'])"
      ]
    },
    {
      "cell_type": "code",
      "execution_count": null,
      "metadata": {
        "id": "ef1f15a3",
        "outputId": "3b6a7afd-8a9b-4ac1-e17f-aef9e928c49c"
      },
      "outputs": [
        {
          "data": {
            "image/png": "[encoded data removed]",
            "text/plain": [
              "<Figure size 576x432 with 1 Axes>"
            ]
          },
          "metadata": {
            "needs_background": "light"
          },
          "output_type": "display_data"
        }
      ],
      "source": [
        "y_pred_proba9 = lr.predict_proba(X_test9)[::,1]\n",
        "fpr9, tpr9, _ = metrics.roc_curve(y_test9,  y_pred_proba9)\n",
        "plt.rcParams.update({'figure.figsize': (8, 6.0)})\n",
        "#create ROC curve\n",
        "plt.plot(fpr9,tpr9)\n",
        "plt.plot([0, 1], [0, 1],'r--')\n",
        "plt.title(\"ROC_AUC CURVE Logistic Regression with Count Vectorizer - Text Only\")\n",
        "plt.ylabel('True Positive Rate')\n",
        "plt.xlabel('False Positive Rate')\n",
        "plt.tight_layout()\n",
        "plt.savefig('ROC_AUC CURVE Logistic Regression with Count Vectorizer_TextOnly.png')"
      ]
    },
    {
      "cell_type": "markdown",
      "metadata": {
        "id": "714301c0"
      },
      "source": [
        "# Step 4j:  Logistic Regression with Count Vectorizer - All Features"
      ]
    },
    {
      "cell_type": "code",
      "execution_count": null,
      "metadata": {
        "id": "bb4340b5"
      },
      "outputs": [],
      "source": [
        "from scipy.sparse import hstack\n",
        "vectorizer = CountVectorizer(min_df=3, ngram_range = (1,2), stop_words = STOP_WORDS)\n",
        "text_matrix = vectorizer.fit_transform(df['clean_text'])\n",
        "text_matrix = text_matrix.tocsc() \n",
        "length = scaled_features_df['length'].values[:, None]\n",
        "sentiment = scaled_features_df['sentiment'].values[:, None]\n",
        "reading_level = scaled_features_df['flesch_kincaid'][:, None]\n",
        "repetition = scaled_features_df['repetition'][:, None]\n",
        "first = hstack((text_matrix, length))\n",
        "second = hstack((first, sentiment))\n",
        "third = hstack((second, reading_level))\n",
        "X = hstack((third, sentiment))\n",
        "\n",
        "y = df['class']"
      ]
    },
    {
      "cell_type": "code",
      "execution_count": null,
      "metadata": {
        "id": "e98d0aeb"
      },
      "outputs": [],
      "source": [
        "X_train10, X_test10, y_train10, y_test10 = train_test_split(X, y, test_size=0.25, random_state=12)"
      ]
    },
    {
      "cell_type": "code",
      "execution_count": null,
      "metadata": {
        "id": "1ea446b3",
        "outputId": "25fecffd-3b60-4cc9-8a23-f0233a4fa48e"
      },
      "outputs": [
        {
          "data": {
            "text/plain": [
              "GridSearchCV(cv=5, estimator=LogisticRegression(random_state=0),\n",
              "             param_grid={'C': [100, 10, 1.0, 0.1, 0.01]}, scoring='roc_auc')"
            ]
          },
          "execution_count": 132,
          "metadata": {},
          "output_type": "execute_result"
        }
      ],
      "source": [
        "#penalty = ['none', 'l1', 'l2', 'elasticnet']\n",
        "c_values = [100, 10, 1.0, 0.1, 0.01]\n",
        "param_grid = {'C' : c_values}\n",
        "lr = LogisticRegression(random_state = 0)\n",
        "lr_cv = GridSearchCV(lr, param_grid, cv = 5, scoring=\"roc_auc\")\n",
        "lr_cv.fit(X_train10, y_train10)"
      ]
    },
    {
      "cell_type": "code",
      "execution_count": null,
      "metadata": {
        "id": "cb72ebe8",
        "outputId": "bb77b8d7-5b9f-48d3-bc5a-6a537f118e46"
      },
      "outputs": [
        {
          "name": "stdout",
          "output_type": "stream",
          "text": [
            "Best Score:0.9766439058305523\n",
            "Best Parameters: {'C': 0.1}\n"
          ]
        }
      ],
      "source": [
        "print(\"Best Score:\" + str(lr_cv.best_score_))\n",
        "print(\"Best Parameters: \" + str(lr_cv.best_params_))"
      ]
    },
    {
      "cell_type": "code",
      "execution_count": null,
      "metadata": {
        "id": "7cbb28b3",
        "outputId": "8076d6fd-7edf-42ab-a15e-08057798e76a"
      },
      "outputs": [
        {
          "data": {
            "text/plain": [
              "LogisticRegression(C=0.1)"
            ]
          },
          "execution_count": 134,
          "metadata": {},
          "output_type": "execute_result"
        }
      ],
      "source": [
        "lrcvi = LogisticRegression(C = 0.1)\n",
        "lrcvi.fit(X_train10, y_train10)"
      ]
    },
    {
      "cell_type": "code",
      "execution_count": null,
      "metadata": {
        "id": "0a2920e2"
      },
      "outputs": [],
      "source": [
        "y_train_pred10 = lrcvi.predict(X_train10)\n",
        "y_pred10 = lrcvi.predict(X_test10)"
      ]
    },
    {
      "cell_type": "code",
      "execution_count": null,
      "metadata": {
        "id": "0ca02904",
        "outputId": "aed7c7e2-0db3-462b-c711-95bf7d71f8cb"
      },
      "outputs": [
        {
          "name": "stdout",
          "output_type": "stream",
          "text": [
            "Accuracy: 0.9309280838447218\n",
            "Balanced accuracy: 0.9307904622831609\n",
            "Precision score 0.9554684063920247\n",
            "Recall score 0.9032604552856797\n",
            "F1 score 0.9286312227268679\n",
            "ROC_AUC Score 0.9782932857720885\n"
          ]
        }
      ],
      "source": [
        "accuracy_lrcvi = metrics.accuracy_score(y_test10,y_pred10)\n",
        "balanced_accuracy_lrcvi = metrics.balanced_accuracy_score(y_test10,y_pred10)\n",
        "precision_lrcvi = metrics.precision_score(y_test10,y_pred10, pos_label = 1)\n",
        "recall_lrcvi = metrics.recall_score(y_test10,y_pred10, pos_label = 1)\n",
        "f1_lrcvi = metrics.f1_score(y_test10, y_pred10, pos_label = 1)\n",
        "roc_auc_lrcvi = metrics.roc_auc_score(y_test10, lrcvi.predict_proba(X_test10)[:,1])\n",
        "print(\"Accuracy:\", accuracy_lrcvi)\n",
        "print(\"Balanced accuracy:\", balanced_accuracy_lrcvi)\n",
        "print('Precision score' , precision_lrcvi)\n",
        "print('Recall score' , recall_lrcvi)\n",
        "print('F1 score' , f1_lrcvi)\n",
        "print('ROC_AUC Score' , roc_auc_lrcvi)\n"
      ]
    },
    {
      "cell_type": "code",
      "execution_count": null,
      "metadata": {
        "id": "2a8348da",
        "outputId": "6efdc6b7-b8f4-4a3a-ba41-15dfc60a89e9"
      },
      "outputs": [
        {
          "name": "stdout",
          "output_type": "stream",
          "text": [
            "True Suicide: 26069\n",
            "False Suicide: 1215\n",
            "True Non-Suicide: 27936\n",
            "False Non-Suicide: 2792\n"
          ]
        }
      ],
      "source": [
        "from sklearn.metrics import confusion_matrix\n",
        "tn_lrcvi, fp_lrcvi, fn_lrcvi, tp_lrcvi = confusion_matrix(y_test10, y_pred10).ravel()\n",
        "print(f'True Suicide: {tp_lrcvi}')\n",
        "print(f'False Suicide: {fp_lrcvi}')\n",
        "print(f'True Non-Suicide: {tn_lrcvi}')\n",
        "print(f'False Non-Suicide: {fn_lrcvi}')"
      ]
    },
    {
      "cell_type": "code",
      "execution_count": null,
      "metadata": {
        "id": "03e8edc9",
        "outputId": "82c685f7-80a8-4abd-9db8-5bfc6bf5e93a"
      },
      "outputs": [
        {
          "data": {
            "text/html": [
              "<div>\n",
              "<style scoped>\n",
              "    .dataframe tbody tr th:only-of-type {\n",
              "        vertical-align: middle;\n",
              "    }\n",
              "\n",
              "    .dataframe tbody tr th {\n",
              "        vertical-align: top;\n",
              "    }\n",
              "\n",
              "    .dataframe thead th {\n",
              "        text-align: right;\n",
              "    }\n",
              "</style>\n",
              "<table border=\"1\" class=\"dataframe\">\n",
              "  <thead>\n",
              "    <tr style=\"text-align: right;\">\n",
              "      <th></th>\n",
              "      <th>Predicted Non-Suicide</th>\n",
              "      <th>Predicted Suicide</th>\n",
              "    </tr>\n",
              "  </thead>\n",
              "  <tbody>\n",
              "    <tr>\n",
              "      <th>Actual Non-Suicide</th>\n",
              "      <td>27936</td>\n",
              "      <td>1215</td>\n",
              "    </tr>\n",
              "    <tr>\n",
              "      <th>Actual Suicide</th>\n",
              "      <td>2792</td>\n",
              "      <td>26069</td>\n",
              "    </tr>\n",
              "  </tbody>\n",
              "</table>\n",
              "</div>"
            ],
            "text/plain": [
              "                    Predicted Non-Suicide  Predicted Suicide\n",
              "Actual Non-Suicide                  27936               1215\n",
              "Actual Suicide                       2792              26069"
            ]
          },
          "execution_count": 138,
          "metadata": {},
          "output_type": "execute_result"
        }
      ],
      "source": [
        "pd.DataFrame(confusion_matrix(y_test10, y_pred10), columns=['Predicted Non-Suicide', \"Predicted Suicide\"], index=['Actual Non-Suicide', 'Actual Suicide'])"
      ]
    },
    {
      "cell_type": "code",
      "execution_count": null,
      "metadata": {
        "id": "3bc5af9a",
        "outputId": "ab779d6d-da32-4b13-9f98-63f0d8500858"
      },
      "outputs": [
        {
          "data": {
            "image/png": "[encoded data removed]",
            "text/plain": [
              "<Figure size 576x432 with 1 Axes>"
            ]
          },
          "metadata": {
            "needs_background": "light"
          },
          "output_type": "display_data"
        }
      ],
      "source": [
        "y_pred_proba10 = lrcvi.predict_proba(X_test10)[::,1]\n",
        "fpr10, tpr10, _ = metrics.roc_curve(y_test10,  y_pred_proba10)\n",
        "plt.rcParams.update({'figure.figsize': (8, 6.0)})\n",
        "#create ROC curve\n",
        "plt.plot(fpr10,tpr10)\n",
        "plt.plot([0, 1], [0, 1],'r--')\n",
        "plt.title(\"ROC_AUC CURVE Logistic Regression with Count Vectorizer - All Features\")\n",
        "plt.ylabel('True Positive Rate')\n",
        "plt.xlabel('False Positive Rate')\n",
        "plt.tight_layout()\n",
        "plt.savefig('ROC_AUC CURVE Logistic Regression with Count Vectorizer All Features.png')"
      ]
    },
    {
      "cell_type": "markdown",
      "metadata": {
        "id": "348e6d94"
      },
      "source": [
        "# Step 4k:  Logistic Regression with TF-IDF - Text Only"
      ]
    },
    {
      "cell_type": "code",
      "execution_count": null,
      "metadata": {
        "id": "a29d45f4"
      },
      "outputs": [],
      "source": [
        "vectorizor_tfid = TfidfVectorizer(min_df=3, ngram_range = (1,2), stop_words = STOP_WORDS)\n",
        "X = vectorizor_tfid.fit_transform(df['text'])\n",
        "X_tfid11 = X.tocsc() \n",
        "\n",
        "y_tfid11 = df['class']"
      ]
    },
    {
      "cell_type": "code",
      "execution_count": null,
      "metadata": {
        "id": "1d24cd89"
      },
      "outputs": [],
      "source": [
        "X_train11, X_test11, y_train11, y_test11 = train_test_split(X_tfid11, y_tfid11, test_size=0.25, random_state=12)"
      ]
    },
    {
      "cell_type": "code",
      "execution_count": null,
      "metadata": {
        "id": "bd04d3ac",
        "outputId": "24beafd8-9907-49c6-aa20-12be3727dc6c"
      },
      "outputs": [
        {
          "data": {
            "text/plain": [
              "GridSearchCV(cv=5, estimator=LogisticRegression(random_state=0),\n",
              "             param_grid={'C': [100, 10, 1.0, 0.1, 0.01]}, scoring='roc_auc')"
            ]
          },
          "execution_count": 142,
          "metadata": {},
          "output_type": "execute_result"
        }
      ],
      "source": [
        "#penalty = ['none', 'l1', 'l2', 'elasticnet']\n",
        "c_values = [100, 10, 1.0, 0.1, 0.01]\n",
        "param_grid = {'C' : c_values}\n",
        "lr_tfid = LogisticRegression(random_state = 0)\n",
        "lr_tfid_cv = GridSearchCV(lr_tfid, param_grid, cv = 5, scoring=\"roc_auc\")\n",
        "lr_tfid_cv.fit(X_train11, y_train11)"
      ]
    },
    {
      "cell_type": "code",
      "execution_count": null,
      "metadata": {
        "id": "472310ce",
        "outputId": "7012fd16-1342-41a7-e39c-96c1cfbc90a0"
      },
      "outputs": [
        {
          "name": "stdout",
          "output_type": "stream",
          "text": [
            "Best Score:0.9824977354936836\n",
            "Best Parameters: {'C': 10}\n"
          ]
        }
      ],
      "source": [
        "print(\"Best Score:\" + str(lr_tfid_cv.best_score_))\n",
        "print(\"Best Parameters: \" + str(lr_tfid_cv.best_params_))"
      ]
    },
    {
      "cell_type": "code",
      "execution_count": null,
      "metadata": {
        "id": "fc61ef89",
        "outputId": "aa878647-403b-42e0-c1e2-a7299df51494"
      },
      "outputs": [
        {
          "data": {
            "text/plain": [
              "LogisticRegression(C=10)"
            ]
          },
          "execution_count": 144,
          "metadata": {},
          "output_type": "execute_result"
        }
      ],
      "source": [
        "lr_tfid = LogisticRegression(C = 10)\n",
        "lr_tfid.fit(X_test11, y_test11)"
      ]
    },
    {
      "cell_type": "code",
      "execution_count": null,
      "metadata": {
        "id": "07a83434"
      },
      "outputs": [],
      "source": [
        "y_train_pred11 = lr_tfid.predict(X_train11)\n",
        "y_pred11 = lr_tfid.predict(X_test11)"
      ]
    },
    {
      "cell_type": "code",
      "execution_count": null,
      "metadata": {
        "id": "037dd0d9",
        "outputId": "943ed0e9-1c5c-4224-9652-21ef349a8f10"
      },
      "outputs": [
        {
          "name": "stdout",
          "output_type": "stream",
          "text": [
            "Accuracy: 0.9956733089705578\n",
            "Balanced accuracy: 0.9956762169139486\n",
            "Precision score 0.9950512181616833\n",
            "Recall score 0.9962579259207928\n",
            "F1 score 0.9956542064165382\n",
            "ROC_AUC Score 0.9994178506174219\n"
          ]
        }
      ],
      "source": [
        "accuracy_lr_tfidf = metrics.accuracy_score(y_test11,y_pred11)\n",
        "balanced_accuracy_lr_tfidf = metrics.balanced_accuracy_score(y_test11,y_pred11)\n",
        "precision_lr_tfidf = metrics.precision_score(y_test11,y_pred11, pos_label = 1)\n",
        "recall_lr_tfidf = metrics.recall_score(y_test11,y_pred11, pos_label = 1)\n",
        "f1_lr_tfidf = metrics.f1_score(y_test11, y_pred11, pos_label = 1)\n",
        "roc_auc_lr_tfidf = metrics.roc_auc_score(y_test11, lr_tfid.predict_proba(X_test11)[:,1])\n",
        "print(\"Accuracy:\", accuracy_lr_tfidf)\n",
        "print(\"Balanced accuracy:\", balanced_accuracy_lr_tfidf)\n",
        "print('Precision score' , precision_lr_tfidf)\n",
        "print('Recall score' , recall_lr_tfidf)\n",
        "print('F1 score' , f1_lr_tfidf)\n",
        "print('ROC_AUC Score' , roc_auc_lr_tfidf)\n",
        "\n"
      ]
    },
    {
      "cell_type": "code",
      "execution_count": null,
      "metadata": {
        "id": "cae01620",
        "outputId": "de8c0400-045a-4a31-9166-cb3f09c450d9"
      },
      "outputs": [
        {
          "name": "stdout",
          "output_type": "stream",
          "text": [
            "True Suicide: 28753\n",
            "False Suicide: 143\n",
            "True Non-Suicide: 29008\n",
            "False Non-Suicide: 108\n"
          ]
        }
      ],
      "source": [
        "from sklearn.metrics import confusion_matrix\n",
        "tn_lr_tfid, fp_lr_tfid, fn_lr_tfid, tp_lr_tfid = confusion_matrix(y_test11, y_pred11).ravel()\n",
        "print(f'True Suicide: {tp_lr_tfid}')\n",
        "print(f'False Suicide: {fp_lr_tfid}')\n",
        "print(f'True Non-Suicide: {tn_lr_tfid}')\n",
        "print(f'False Non-Suicide: {fn_lr_tfid}')"
      ]
    },
    {
      "cell_type": "code",
      "execution_count": null,
      "metadata": {
        "id": "3179a477",
        "outputId": "01201e24-a242-4e3f-db34-393bcc7e2f23"
      },
      "outputs": [
        {
          "data": {
            "text/html": [
              "<div>\n",
              "<style scoped>\n",
              "    .dataframe tbody tr th:only-of-type {\n",
              "        vertical-align: middle;\n",
              "    }\n",
              "\n",
              "    .dataframe tbody tr th {\n",
              "        vertical-align: top;\n",
              "    }\n",
              "\n",
              "    .dataframe thead th {\n",
              "        text-align: right;\n",
              "    }\n",
              "</style>\n",
              "<table border=\"1\" class=\"dataframe\">\n",
              "  <thead>\n",
              "    <tr style=\"text-align: right;\">\n",
              "      <th></th>\n",
              "      <th>Predicted Non-Suicide</th>\n",
              "      <th>Predicted Suicide</th>\n",
              "    </tr>\n",
              "  </thead>\n",
              "  <tbody>\n",
              "    <tr>\n",
              "      <th>Actual Non-Suicide</th>\n",
              "      <td>29008</td>\n",
              "      <td>143</td>\n",
              "    </tr>\n",
              "    <tr>\n",
              "      <th>Actual Suicide</th>\n",
              "      <td>108</td>\n",
              "      <td>28753</td>\n",
              "    </tr>\n",
              "  </tbody>\n",
              "</table>\n",
              "</div>"
            ],
            "text/plain": [
              "                    Predicted Non-Suicide  Predicted Suicide\n",
              "Actual Non-Suicide                  29008                143\n",
              "Actual Suicide                        108              28753"
            ]
          },
          "execution_count": 148,
          "metadata": {},
          "output_type": "execute_result"
        }
      ],
      "source": [
        "pd.DataFrame(confusion_matrix(y_test11, y_pred11), columns=['Predicted Non-Suicide', \"Predicted Suicide\"], index=['Actual Non-Suicide', 'Actual Suicide'])"
      ]
    },
    {
      "cell_type": "code",
      "execution_count": null,
      "metadata": {
        "id": "40820e75",
        "outputId": "d51d380a-d3d5-4ccb-e497-e29ab8b60967"
      },
      "outputs": [
        {
          "data": {
            "image/png": "[encoded data removed]",
            "text/plain": [
              "<Figure size 576x432 with 1 Axes>"
            ]
          },
          "metadata": {
            "needs_background": "light"
          },
          "output_type": "display_data"
        }
      ],
      "source": [
        "y_pred_proba11 = lr_tfid.predict_proba(X_test11)[::,1]\n",
        "fpr11, tpr11, _ = metrics.roc_curve(y_test11,  y_pred_proba11)\n",
        "plt.rcParams.update({'figure.figsize': (8, 6.0)})\n",
        "#create ROC curve\n",
        "plt.plot(fpr11,tpr11)\n",
        "plt.plot([0, 1], [0, 1],'r--')\n",
        "plt.title(\"ROC_AUC CURVE Logistic Regression with TF-IDF Vectorizer - Text Only\")\n",
        "plt.ylabel('True Positive Rate')\n",
        "plt.xlabel('False Positive Rate')\n",
        "plt.tight_layout()\n",
        "plt.savefig('ROC_AUC CURVE Logistic Regression with TF-IDF Vectorizer_Text_Only.png')"
      ]
    },
    {
      "cell_type": "markdown",
      "metadata": {
        "id": "d779f5f9"
      },
      "source": [
        "# Step 4l:  Logistic Regression with TF-IDF - All Features"
      ]
    },
    {
      "cell_type": "code",
      "execution_count": null,
      "metadata": {
        "id": "1f44d8ea"
      },
      "outputs": [],
      "source": [
        "from sklearn.feature_extraction.text import TfidfVectorizer\n",
        "vectorizor_tfid = TfidfVectorizer(min_df=3, ngram_range = (1,2), stop_words = STOP_WORDS)\n",
        "text_matrix12 = vectorizor_tfid.fit_transform(df['text'])\n",
        "text_matrix12 = text_matrix12.tocsc() \n",
        "length = scaled_features_df['length'].values[:, None]\n",
        "sentiment = scaled_features_df['sentiment'].values[:, None]\n",
        "reading_level = scaled_features_df['flesch_kincaid'][:, None]\n",
        "repetition = scaled_features_df['repetition'][:, None]\n",
        "first = hstack((text_matrix12, length))\n",
        "second = hstack((first, sentiment))\n",
        "third = hstack((second, reading_level))\n",
        "X_tfid12 = hstack((third, sentiment))\n",
        "\n",
        "y_tfid12 = df['class']"
      ]
    },
    {
      "cell_type": "code",
      "execution_count": null,
      "metadata": {
        "id": "8aefa886"
      },
      "outputs": [],
      "source": [
        "from sklearn.model_selection import cross_val_score\n"
      ]
    },
    {
      "cell_type": "code",
      "execution_count": null,
      "metadata": {
        "id": "959e51a3"
      },
      "outputs": [],
      "source": [
        "X_train12, X_test12, y_train12, y_test12 = train_test_split(X_tfid12, y_tfid12, test_size=0.25, random_state=12)"
      ]
    },
    {
      "cell_type": "code",
      "execution_count": null,
      "metadata": {
        "id": "2cc6654d",
        "outputId": "5cb9a562-7b63-450e-cd88-c7015ada4506"
      },
      "outputs": [
        {
          "data": {
            "text/plain": [
              "GridSearchCV(cv=5, estimator=LogisticRegression(random_state=0),\n",
              "             param_grid={'C': [100, 10, 1.0, 0.1, 0.01]}, scoring='roc_auc')"
            ]
          },
          "execution_count": 153,
          "metadata": {},
          "output_type": "execute_result"
        }
      ],
      "source": [
        "#penalty = ['none', 'l1', 'l2', 'elasticnet']\n",
        "c_values = [100, 10, 1.0, 0.1, 0.01]\n",
        "param_grid = {'C' : c_values}\n",
        "lr_tfid = LogisticRegression(random_state = 0)\n",
        "lr_tfid_cvi = GridSearchCV(lr_tfid, param_grid, cv = 5, scoring=\"roc_auc\")\n",
        "lr_tfid_cvi.fit(X_train12, y_train12)"
      ]
    },
    {
      "cell_type": "code",
      "execution_count": null,
      "metadata": {
        "id": "49327245",
        "outputId": "4b941578-8d1c-4699-b2a9-e254a43fdc9d"
      },
      "outputs": [
        {
          "name": "stdout",
          "output_type": "stream",
          "text": [
            "Best Score:0.9824753134864045\n",
            "Best Parameters: {'C': 10}\n"
          ]
        }
      ],
      "source": [
        "print(\"Best Score:\" + str(lr_tfid_cvi.best_score_))\n",
        "print(\"Best Parameters: \" + str(lr_tfid_cvi.best_params_))"
      ]
    },
    {
      "cell_type": "code",
      "execution_count": null,
      "metadata": {
        "id": "53213664",
        "outputId": "143df045-1165-4121-c6f8-d9834fccb48a"
      },
      "outputs": [
        {
          "data": {
            "text/plain": [
              "LogisticRegression(C=10)"
            ]
          },
          "execution_count": 155,
          "metadata": {},
          "output_type": "execute_result"
        }
      ],
      "source": [
        "lr_tfidi = LogisticRegression(C = 10)\n",
        "lr_tfidi.fit(X_test12, y_test12)"
      ]
    },
    {
      "cell_type": "code",
      "execution_count": null,
      "metadata": {
        "id": "a92a3fd0"
      },
      "outputs": [],
      "source": [
        "y_train_pred12 = lr_tfidi.predict(X_train12)\n",
        "y_pred12 = lr_tfidi.predict(X_test12)"
      ]
    },
    {
      "cell_type": "code",
      "execution_count": null,
      "metadata": {
        "id": "1b64398c",
        "outputId": "e75b6e10-06c2-440d-808b-c4742fc445d7"
      },
      "outputs": [
        {
          "name": "stdout",
          "output_type": "stream",
          "text": [
            "Accuracy: 0.9955354064676274\n",
            "Balanced accuracy: 0.9955384833115741\n",
            "Precision score 0.9948785383071492\n",
            "Recall score 0.9961539794185925\n",
            "F1 score 0.9955158503436694\n",
            "ROC_AUC Score 0.9993342576754618\n"
          ]
        }
      ],
      "source": [
        "accuracy_lr_tfidfi = metrics.accuracy_score(y_test12,y_pred12)\n",
        "balanced_accuracy_lr_tfidfi = metrics.balanced_accuracy_score(y_test12,y_pred12)\n",
        "precision_lr_tfidfi = metrics.precision_score(y_test12,y_pred12, pos_label = 1)\n",
        "recall_lr_tfidfi = metrics.recall_score(y_test12,y_pred12, pos_label = 1)\n",
        "f1_lr_tfidfi = metrics.f1_score(y_test12, y_pred12, pos_label = 1)\n",
        "roc_auc_lr_tfidfi = metrics.roc_auc_score(y_test12, lr_tfidi.predict_proba(X_test12)[:,1])\n",
        "print(\"Accuracy:\", accuracy_lr_tfidfi)\n",
        "print(\"Balanced accuracy:\", balanced_accuracy_lr_tfidfi)\n",
        "print('Precision score' , precision_lr_tfidfi)\n",
        "print('Recall score' , recall_lr_tfidfi)\n",
        "print('F1 score' , f1_lr_tfidfi)\n",
        "print('ROC_AUC Score' , roc_auc_lr_tfidfi)\n"
      ]
    },
    {
      "cell_type": "code",
      "execution_count": null,
      "metadata": {
        "id": "403962f2",
        "outputId": "050efb42-2a0e-4b94-c9e5-31452d9f1feb"
      },
      "outputs": [
        {
          "name": "stdout",
          "output_type": "stream",
          "text": [
            "True Suicide: 28750\n",
            "False Suicide: 148\n",
            "True Non-Suicide: 29003\n",
            "False Non-Suicide: 111\n"
          ]
        }
      ],
      "source": [
        "from sklearn.metrics import confusion_matrix\n",
        "tn_lr_tfidi, fp_lr_tfidi, fn_lr_tfidi, tp_lr_tfidi = confusion_matrix(y_test12, y_pred12).ravel()\n",
        "print(f'True Suicide: {tp_lr_tfidi}')\n",
        "print(f'False Suicide: {fp_lr_tfidi}')\n",
        "print(f'True Non-Suicide: {tn_lr_tfidi}')\n",
        "print(f'False Non-Suicide: {fn_lr_tfidi}')"
      ]
    },
    {
      "cell_type": "code",
      "execution_count": null,
      "metadata": {
        "id": "e2afdde0",
        "outputId": "521fc624-1657-4ed1-a4f4-346acd318978"
      },
      "outputs": [
        {
          "data": {
            "text/html": [
              "<div>\n",
              "<style scoped>\n",
              "    .dataframe tbody tr th:only-of-type {\n",
              "        vertical-align: middle;\n",
              "    }\n",
              "\n",
              "    .dataframe tbody tr th {\n",
              "        vertical-align: top;\n",
              "    }\n",
              "\n",
              "    .dataframe thead th {\n",
              "        text-align: right;\n",
              "    }\n",
              "</style>\n",
              "<table border=\"1\" class=\"dataframe\">\n",
              "  <thead>\n",
              "    <tr style=\"text-align: right;\">\n",
              "      <th></th>\n",
              "      <th>Predicted Non-Suicide</th>\n",
              "      <th>Predicted Suicide</th>\n",
              "    </tr>\n",
              "  </thead>\n",
              "  <tbody>\n",
              "    <tr>\n",
              "      <th>Actual Non-Suicide</th>\n",
              "      <td>29003</td>\n",
              "      <td>148</td>\n",
              "    </tr>\n",
              "    <tr>\n",
              "      <th>Actual Suicide</th>\n",
              "      <td>111</td>\n",
              "      <td>28750</td>\n",
              "    </tr>\n",
              "  </tbody>\n",
              "</table>\n",
              "</div>"
            ],
            "text/plain": [
              "                    Predicted Non-Suicide  Predicted Suicide\n",
              "Actual Non-Suicide                  29003                148\n",
              "Actual Suicide                        111              28750"
            ]
          },
          "execution_count": 159,
          "metadata": {},
          "output_type": "execute_result"
        }
      ],
      "source": [
        "pd.DataFrame(confusion_matrix(y_test12, y_pred12), columns=['Predicted Non-Suicide', \"Predicted Suicide\"], index=['Actual Non-Suicide', 'Actual Suicide'])"
      ]
    },
    {
      "cell_type": "code",
      "execution_count": null,
      "metadata": {
        "id": "fc88d849",
        "outputId": "bdd5aa89-1ebc-4b21-995c-c9b2496ff33a"
      },
      "outputs": [
        {
          "data": {
            "image/png": "[encoded data removed]",
            "text/plain": [
              "<Figure size 576x432 with 1 Axes>"
            ]
          },
          "metadata": {
            "needs_background": "light"
          },
          "output_type": "display_data"
        }
      ],
      "source": [
        "y_pred_proba12 = lr_tfidi.predict_proba(X_test12)[::,1]\n",
        "fpr12, tpr12, _ = metrics.roc_curve(y_test12,  y_pred_proba12)\n",
        "plt.rcParams.update({'figure.figsize': (8, 6.0)})\n",
        "#create ROC curve\n",
        "plt.plot(fpr12,tpr12)\n",
        "plt.plot([0, 1], [0, 1],'r--')\n",
        "plt.title(\"ROC_AUC CURVE Logistic Regression with TF-IDF Vectorizer - All Features\")\n",
        "plt.ylabel('True Positive Rate')\n",
        "plt.xlabel('False Positive Rate')\n",
        "plt.tight_layout()\n",
        "plt.savefig('ROC_AUC CURVE Logistic Regression with TF-IDF Vectorizer_All_Features.png')"
      ]
    },
    {
      "cell_type": "code",
      "execution_count": null,
      "metadata": {
        "id": "057d9ea1",
        "outputId": "01ae675d-7c02-4211-9730-f171747795a7"
      },
      "outputs": [
        {
          "name": "stdout",
          "output_type": "stream",
          "text": [
            "+-----------------------+-------------------------+----------------------------+--------------------+-----------------------+\n",
            "| Logistic Regression   | Count Vect. Text Only   | Count Vect. All Features   | TF-IDF Text Only   | TF-IDF All Features   |\n",
            "|-----------------------+-------------------------+----------------------------+--------------------+-----------------------|\n",
            "| Accuracy              | 0.931                   | 0.931                      | 0.996              | 0.996                 |\n",
            "| Precision             | 0.955                   | 0.955                      | 0.995              | 0.995                 |\n",
            "| Recall                | 0.903                   | 0.903                      | 0.996              | 0.996                 |\n",
            "| ROC-AUC Score         | 0.978                   | 0.978                      | 0.999              | 0.999                 |\n",
            "|                       |                         |                            |                    |                       |\n",
            "| True Suicide          | 26057                   | 26069                      | 28753              | 28750                 |\n",
            "| False Suicide         | 1220                    | 1215                       | 143                | 148                   |\n",
            "| True Non-Suicide      | 27931                   | 27936                      | 29008              | 29003                 |\n",
            "| False Non-Suicide     | 2804                    | 2792                       | 108                | 111                   |\n",
            "|                       |                         |                            |                    |                       |\n",
            "| Optimal: C            | 0.1                     | 0.1                        | 10                 | 10                    |\n",
            "+-----------------------+-------------------------+----------------------------+--------------------+-----------------------+\n"
          ]
        }
      ],
      "source": [
        "d = [ [\"Accuracy\", round(accuracy_lrcv, 3), round(accuracy_lrcvi, 3), round(accuracy_lr_tfidf, 3), round(accuracy_lr_tfidfi, 3)], \n",
        "     [\"Precision\", round(precision_lrcv, 3), round(precision_lrcvi, 3), round(precision_lr_tfidf, 3), round(precision_lr_tfidfi, 3)],\n",
        "     [\"Recall\", round(recall_lrcv, 3), round(recall_lrcvi, 3), round(recall_lr_tfidf, 3), round(recall_lr_tfidfi, 3)],\n",
        "     [\"ROC-AUC Score\", round(roc_auc_lrcv, 3), round(roc_auc_lrcvi, 3), round(roc_auc_lr_tfidf, 3), round(roc_auc_lr_tfidfi, 3)],\n",
        "     [\" \", \" \", \" \", \" \"],\n",
        "     [\"True Suicide\", tp_lrcv, tp_lrcvi, tp_lr_tfid, tp_lr_tfidi ], \n",
        "     [\"False Suicide\", fp_lrcv, fp_lrcvi, fp_lr_tfid, fp_lr_tfidi ], \n",
        "     [\"True Non-Suicide\", tn_lrcv, tn_lrcvi, tn_lr_tfid, tn_lr_tfidi ],\n",
        "     [\"False Non-Suicide\", fn_lrcv, fn_lrcvi, fn_lr_tfid, fn_lr_tfidi ],\n",
        "     [\" \", \" \", \" \", \" \"],\n",
        "     [\"Optimal: C \", \"0.1\", \"0.1\", \"10\", \"10.0\"]]\n",
        "\n",
        "print(tabulate(d, headers=[\"Logistic Regression\", \"Count Vect. Text Only\", \"Count Vect. All Features\", \"TF-IDF Text Only\", \"TF-IDF All Features\"], tablefmt='psql',  numalign=\"left\"))"
      ]
    },
    {
      "cell_type": "markdown",
      "metadata": {
        "id": "9b8c8e25"
      },
      "source": [
        "# Step 5:  Compare the models"
      ]
    },
    {
      "cell_type": "code",
      "execution_count": null,
      "metadata": {
        "id": "4bb510d3",
        "outputId": "bd10545a-f909-42f6-e183-cea2ecd1a063"
      },
      "outputs": [
        {
          "name": "stdout",
          "output_type": "stream",
          "text": [
            " \n",
            " \n",
            "+-------------------------------------------------------+------------+-------------+----------+-------+-----------+\n",
            "|    Model                                              | Accuracy   | Precision   | Recall   | F1    | ROC_AUC   |\n",
            "|-------------------------------------------------------+------------+-------------+----------+-------+-----------|\n",
            "| Naive Bayes (Count Vectorizer - Text Only)            | 0.92       | 0.893       | 0.953    | 0.922 | 0.971     |\n",
            "| Naive Bayes (Count Vectorizer - All Features)         | 0.923      | 0.904       | 0.946    | 0.924 | 0.971     |\n",
            "| Naive Bayes (TF-IDF - Text Only)                      | 0.922      | 0.89        | 0.962    | 0.924 | 0.98      |\n",
            "| Naive Bayes (TF-IDF - All Features)                   | 0.925      | 0.9         | 0.956    | 0.927 | 0.98      |\n",
            "|                                                       |            |             |          |       |           |\n",
            "| Random Forest (Count Vectorizer - Text Only)          | 0.881      | 0.909       | 0.847    | 0.877 | 0.952     |\n",
            "| Random Forest (Count Vectorizer - All Features)       | 0.841      | 0.888       | 0.779    | 0.83  | 0.926     |\n",
            "| Random Forest (TF-IDF - Text Only)                    | 0.878      | 0.905       | 0.842    | 0.872 | 0.949     |\n",
            "| Random Forest (TF-IDF - All Features)                 | 0.865      | 0.895       | 0.824    | 0.858 | 0.942     |\n",
            "|                                                       |            |             |          |       |           |\n",
            "| Logistic Regression (Count Vectorizer - Text Only)    | 0.931      | 0.955       | 0.903    | 0.928 | 0.978     |\n",
            "| Logistic Regression (Count Vectorizer - All Features) | 0.931      | 0.955       | 0.903    | 0.929 | 0.978     |\n",
            "| Logistic Regression (TF-IDF - Text Only)              | 0.996      | 0.995       | 0.996    | 0.996 | 0.999     |\n",
            "| Logistic Regression (TF-IDF - All Features)           | 0.996      | 0.995       | 0.996    | 0.996 | 0.999     |\n",
            "|                                                       |            |             |          |       |           |\n",
            "+-------------------------------------------------------+------------+-------------+----------+-------+-----------+\n"
          ]
        }
      ],
      "source": [
        "from tabulate import tabulate\n",
        "d = [ [\"Naive Bayes (Count Vectorizer - Text Only)\",round(accuracy_nbcv, 3), round(precision_nbcv, 3), round(recall_nbcv, 3), round(f1_nbcv, 3), round(roc_auc_nbcv, 3)], \n",
        "     [\"Naive Bayes (Count Vectorizer - All Features)\",round(accuracy_nbcvi, 3), round(precision_nbcvi, 3), round(recall_nbcvi, 3), round(f1_nbcvi, 3), round(roc_auc_nbcvi, 3)], \n",
        "     \n",
        "     [\"Naive Bayes (TF-IDF - Text Only)\",round(accuracy_nb_tfidf, 3), round(precision_nb_tfidf, 3), round(recall_nb_tfidf, 3), round(f1_nb_tfidf, 3), round(roc_auc_nb_tfidf, 3)],\n",
        "    [\"Naive Bayes (TF-IDF - All Features)\",round(accuracy_nb_tfidfi, 3), round(precision_nb_tfidfi, 3), round(recall_nb_tfidfi, 3), round(f1_nb_tfidfi, 3), round(roc_auc_nb_tfidfi, 3)], [\"\", \"\", \"\" ,\"\", \"\", \"\"],\n",
        "    [\"Random Forest (Count Vectorizer - Text Only)\",round(accuracy_rfcv, 3), round(precision_rfcv, 3), round(recall_rfcv, 3), round(f1_rfcv, 3), round(roc_auc_rfcv, 3)], \n",
        "    [\"Random Forest (Count Vectorizer - All Features)\",round(accuracy_rfcvi, 3), round(precision_rfcvi, 3), round(recall_rfcvi, 3), round(f1_rfcvi, 3), round(roc_auc_rfcvi, 3)], \n",
        "    [\"Random Forest (TF-IDF - Text Only)\",round(accuracy_rf_tfidf, 3), round(precision_rf_tfidf, 3), round(recall_rf_tfidf, 3), round(f1_rf_tfidf, 3), round(roc_auc_rf_tfidf, 3)], \n",
        "    [\"Random Forest (TF-IDF - All Features)\",round(accuracy_rf_tfidfi, 3), round(precision_rf_tfidfi, 3), round(recall_rf_tfidfi, 3), round(f1_rf_tfidfi, 3), round(roc_auc_rf_tfidfi, 3)], [\"\", \"\", \"\" ,\"\", \"\", \"\"],\n",
        "    [\"Logistic Regression (Count Vectorizer - Text Only)\",round(accuracy_lrcv, 3), round(precision_lrcv, 3), round(recall_lrcv, 3), round(f1_lrcv, 3), round(roc_auc_lrcv, 3)], \n",
        "    [\"Logistic Regression (Count Vectorizer - All Features)\",round(accuracy_lrcvi, 3), round(precision_lrcvi, 3), round(recall_lrcvi, 3), round(f1_lrcvi, 3), round(roc_auc_lrcvi, 3)], \n",
        "    [\"Logistic Regression (TF-IDF - Text Only)\",round(accuracy_lr_tfidf, 3), round(precision_lr_tfidf, 3), round(recall_lr_tfidf, 3), round(f1_lr_tfidf, 3), round(roc_auc_lr_tfidf, 3)], \n",
        "    [\"Logistic Regression (TF-IDF - All Features)\",round(accuracy_lr_tfidfi, 3), round(precision_lr_tfidfi, 3), round(recall_lr_tfidfi, 3), round(f1_lr_tfidfi, 3), round(roc_auc_lr_tfidfi, 3)], [\"\", \"\", \"\" ,\"\", \"\", \"\"]]\n",
        "print(\" \")\n",
        "print(\" \")\n",
        "datalist2 = tabulate(d, headers=[\"   Model  \", \"Accuracy\", \"Precision\", \"Recall\", \"F1\", \"ROC_AUC\"], tablefmt='psql',  numalign=\"left\")\n",
        "print(datalist2)"
      ]
    },
    {
      "cell_type": "code",
      "execution_count": null,
      "metadata": {
        "id": "fe3b30b9",
        "outputId": "9cb05d19-4fe3-47ce-d031-3a550661ba64"
      },
      "outputs": [
        {
          "data": {
            "image/png": "[encoded data removed]",
            "text/plain": [
              "<Figure size 864x576 with 1 Axes>"
            ]
          },
          "metadata": {
            "needs_background": "light"
          },
          "output_type": "display_data"
        }
      ],
      "source": [
        "plt.figure(figsize=(12,8))\n",
        "\n",
        "plt.plot(fpr1, tpr1, lw=2, label='ROC - Naive Bayes (Count Vectorizer - Text Only)' + ' (area = %0.2f)' % roc_auc_nbcv)\n",
        "plt.plot(fpr2, tpr2, lw=2, label='ROC - Naive Bayes (Count Vectorizer - All Features)' + ' (area = %0.2f)' % roc_auc_nbcvi)\n",
        "plt.plot(fpr3, tpr3, lw=2, label='ROC - Naive Bayes (TF-IDF - Text Only)' + ' (area = %0.2f)' % roc_auc_nb_tfidf)\n",
        "plt.plot(fpr4, tpr4, lw=2, label='ROC - Naive Bayes (TF-IDF - All Features)' + ' (area = %0.2f)' % roc_auc_nb_tfidfi)\n",
        "plt.plot(fpr5, tpr5, lw=2, label='ROC - Random Forest (Count Vectorizer - Text Only)' + ' (area = %0.2f)' % roc_auc_rfcv)\n",
        "plt.plot(fpr6, tpr6, lw=2, label='ROC - Random Forest (Count Vectorizer - All Features)' + ' (area = %0.2f)' % roc_auc_rfcvi)\n",
        "plt.plot(fpr7, tpr7, lw=2, label='ROC - Random Forest (TF-IDF - Text Only)' + ' (area = %0.2f)' % roc_auc_rf_tfidf)\n",
        "plt.plot(fpr8, tpr8, lw=2, label='ROC - Random Forest (TF-IDF - All Features)' + ' (area = %0.2f)' % roc_auc_rf_tfidfi)\n",
        "plt.plot(fpr9, tpr9, lw=2, label='ROC - Logistic Regression (Count Vectorizer - Text Only)' + ' (area = %0.2f)' % roc_auc_lrcv)\n",
        "plt.plot(fpr10, tpr10, lw=2, label='ROC - Logistic Regression (Count Vectorizer - All Features)' + ' (area = %0.2f)' % roc_auc_lrcvi)\n",
        "plt.plot(fpr11, tpr11, lw=2, label='ROC - Logistic Regression (TF-IDF - Text Only)' + ' (area = %0.2f)' % roc_auc_lr_tfidf)\n",
        "plt.plot(fpr12, tpr12, lw=2, label='ROC - Logistic Regression (TF-IDF - All Features)' + ' (area = %0.2f)' % roc_auc_lr_tfidfi)\n",
        "plt.plot([0, 1], [0, 1],'r--')\n",
        "plt.title(\"ROC_AUC CURVE Comparison of Various Models\")\n",
        "plt.ylabel('True Positive Rate')\n",
        "plt.xlabel('False Positive Rate')\n",
        "plt.legend(loc=\"lower right\")\n",
        "plt.tight_layout()\n",
        "plt.savefig('ROC_AUC CURVE Model Comparison.png')"
      ]
    },
    {
      "cell_type": "code",
      "execution_count": null,
      "metadata": {
        "id": "8056b8b2",
        "outputId": "63dcde8b-79cb-4131-d47c-f279c5293a07"
      },
      "outputs": [
        {
          "name": "stdout",
          "output_type": "stream",
          "text": [
            " \n",
            " \n",
            "   Model                                               True Positive    False Positive    True Negative    False Negative\n",
            "-----------------------------------------------------  ---------------  ----------------  ---------------  ----------------\n",
            "Naive Bayes (Count Vectorizer - Text Only)             27518            3295              25856            1343\n",
            "Naive Bayes (Count Vectorizer - All Features)          27290            2902              26249            1571\n",
            "Naive Bayes (TF-IDF - Text Only)                       27751            3433              25718            1110\n",
            "Naive Bayes (TF-IDF - All Features)                    27593            3076              26075            1268\n",
            "\n",
            "Random Forest (Count Vectorizer - Text Only)           24434            2449              26702            4427\n",
            "Random Forest (Count Vectorizer - All Features)        22470            2821              26330            6391\n",
            "Random Forest (TF-IDF - Text Only)                     24301            2544              26607            4560\n",
            "Random Forest (TF-IDF - All Features)                  23790            2779              26372            5071\n",
            "\n",
            "Logistic Regression (Count Vectorizer - Text Only)     26057            1220              27931            2804\n",
            "Logistic Regression (Count Vectorizer - All Features)  26069            1215              27936            2792\n",
            "Logistic Regression (TF-IDF - Text Only)               28753            143               29008            108\n",
            "Logistic Regression (TF-IDF - All Features)            28750            148               29003            111\n",
            "\n"
          ]
        }
      ],
      "source": [
        "d1 = [ [\"Naive Bayes (Count Vectorizer - Text Only)\",tp_nbcv, fp_nbcv, tn_nbcv, fn_nbcv], \n",
        "     [\"Naive Bayes (Count Vectorizer - All Features)\",tp_nbcvi, fp_nbcvi, tn_nbcvi, fn_nbcvi],      \n",
        "     [\"Naive Bayes (TF-IDF - Text Only)\",tp_nb_tfidf, fp_nb_tfidf, tn_nb_tfidf, fn_nb_tfidf],\n",
        "    [\"Naive Bayes (TF-IDF - All Features)\",tp_nb_tfidfi, fp_nb_tfidfi, tn_nb_tfidfi, fn_nb_tfidfi], [\"\", \"\", \"\" ,\"\", \"\", \"\"],\n",
        "    [\"Random Forest (Count Vectorizer - Text Only)\",tp_rfcv, fp_rfcv, tn_rfcv, fn_rfcv], \n",
        "    [\"Random Forest (Count Vectorizer - All Features)\",tp_rfcvi, fp_rfcvi, tn_rfcvi, fn_rfcvi], \n",
        "    [\"Random Forest (TF-IDF - Text Only)\",tp_rf_tfid, fp_rf_tfid, tn_rf_tfid, fn_rf_tfid], \n",
        "    [\"Random Forest (TF-IDF - All Features)\",tp_rf_tfidi, fp_rf_tfidi, tn_rf_tfidi, fn_rf_tfidi], [\"\", \"\", \"\" ,\"\", \"\", \"\"],\n",
        "    [\"Logistic Regression (Count Vectorizer - Text Only)\",tp_lrcv, fp_lrcv, tn_lrcv, fn_lrcv], \n",
        "    [\"Logistic Regression (Count Vectorizer - All Features)\",tp_lrcvi, fp_lrcvi, tn_lrcvi, fn_lrcvi], \n",
        "    [\"Logistic Regression (TF-IDF - Text Only)\",tp_lr_tfid, fp_lr_tfid, tn_lr_tfid, fn_lr_tfid], \n",
        "    [\"Logistic Regression (TF-IDF - All Features)\",tp_lr_tfidi, fp_lr_tfidi, tn_lr_tfidi, fn_lr_tfidi], [\"\", \"\", \"\" ,\"\", \"\", \"\"]]\n",
        "print(\" \")\n",
        "print(\" \")\n",
        "datalist3 = tabulate(d1, headers=[\"   Model  \", \"True Positive\", \"False Positive\", \"True Negative\", \"False Negative\"])\n",
        "print(datalist3)"
      ]
    },
    {
      "cell_type": "markdown",
      "metadata": {
        "id": "7bfbabd1"
      },
      "source": [
        "# Step 6:  Select and review the top performing model"
      ]
    },
    {
      "cell_type": "markdown",
      "metadata": {
        "id": "ee621b34"
      },
      "source": [
        "Two of the twelve models analyzed utilzed a logistic regression with a TF-IDF vectorizer.  These two models performed the best of all of the models.  They were very similar in terms of their Precision, Recall, and F-1 scores.  \n",
        "\n",
        "When analyzing their confusion matrices, these two models produced similar numbers of True Positive and False Negative results. The model incorporating only the text of the posts predicted three more true positve and five more true negative predictions.   Given that this model performs slightly better, it was selected as the best model."
      ]
    },
    {
      "cell_type": "code",
      "execution_count": null,
      "metadata": {
        "id": "82c3ac94",
        "outputId": "9a9d28d5-6d29-4b7d-aa05-25aadd1f7e7d"
      },
      "outputs": [
        {
          "name": "stdout",
          "output_type": "stream",
          "text": [
            "Accuracy: 0.996\n",
            "Balanced accuracy: 0.996\n",
            "Precision score 0.995\n",
            "Recall score 0.996\n",
            "F1 score 0.996\n",
            "ROC_AUC Score 0.999\n"
          ]
        }
      ],
      "source": [
        "print(\"Accuracy:\", round(accuracy_lr_tfidf, 3))\n",
        "print(\"Balanced accuracy:\", round(balanced_accuracy_lr_tfidf, 3))\n",
        "print('Precision score' , round(precision_lr_tfidf, 3))\n",
        "print('Recall score' , round(recall_lr_tfidf, 3))\n",
        "print('F1 score' , round(f1_lr_tfidf, 3))\n",
        "print('ROC_AUC Score' , round(roc_auc_lr_tfidf, 3))"
      ]
    },
    {
      "cell_type": "code",
      "execution_count": null,
      "metadata": {
        "id": "529bd918",
        "outputId": "bca5c9ae-9351-4110-ee29-a9247ee51aef"
      },
      "outputs": [
        {
          "name": "stdout",
          "output_type": "stream",
          "text": [
            "True Suicide: 28753\n",
            "False Suicide: 143\n",
            "True Non-Suicide: 29008\n",
            "False Non-Suicide: 108\n"
          ]
        }
      ],
      "source": [
        "tn_lr_tfid, fp_lr_tfid, fn_lr_tfid, tp_lr_tfid = confusion_matrix(y_test11, y_pred11).ravel()\n",
        "print(f'True Suicide: {tp_lr_tfid}')\n",
        "print(f'False Suicide: {fp_lr_tfid}')\n",
        "print(f'True Non-Suicide: {tn_lr_tfid}')\n",
        "print(f'False Non-Suicide: {fn_lr_tfid}')"
      ]
    },
    {
      "cell_type": "code",
      "execution_count": null,
      "metadata": {
        "id": "d2d8b822",
        "outputId": "a6e49a8c-ba37-42e9-95e4-aef57e1f9dae"
      },
      "outputs": [
        {
          "data": {
            "text/html": [
              "<div>\n",
              "<style scoped>\n",
              "    .dataframe tbody tr th:only-of-type {\n",
              "        vertical-align: middle;\n",
              "    }\n",
              "\n",
              "    .dataframe tbody tr th {\n",
              "        vertical-align: top;\n",
              "    }\n",
              "\n",
              "    .dataframe thead th {\n",
              "        text-align: right;\n",
              "    }\n",
              "</style>\n",
              "<table border=\"1\" class=\"dataframe\">\n",
              "  <thead>\n",
              "    <tr style=\"text-align: right;\">\n",
              "      <th></th>\n",
              "      <th>Predicted Non-Suicide</th>\n",
              "      <th>Predicted Suicide</th>\n",
              "    </tr>\n",
              "  </thead>\n",
              "  <tbody>\n",
              "    <tr>\n",
              "      <th>Actual Non-Suicide</th>\n",
              "      <td>29008</td>\n",
              "      <td>143</td>\n",
              "    </tr>\n",
              "    <tr>\n",
              "      <th>Actual Suicide</th>\n",
              "      <td>108</td>\n",
              "      <td>28753</td>\n",
              "    </tr>\n",
              "  </tbody>\n",
              "</table>\n",
              "</div>"
            ],
            "text/plain": [
              "                    Predicted Non-Suicide  Predicted Suicide\n",
              "Actual Non-Suicide                  29008                143\n",
              "Actual Suicide                        108              28753"
            ]
          },
          "execution_count": 219,
          "metadata": {},
          "output_type": "execute_result"
        }
      ],
      "source": [
        "pd.DataFrame(confusion_matrix(y_test11, y_pred11), columns=['Predicted Non-Suicide', \"Predicted Suicide\"], index=['Actual Non-Suicide', 'Actual Suicide'])"
      ]
    },
    {
      "cell_type": "code",
      "execution_count": null,
      "metadata": {
        "id": "60f443f4",
        "outputId": "f93f2a55-e3b8-4f5a-a481-848938a44e80"
      },
      "outputs": [
        {
          "name": "stdout",
          "output_type": "stream",
          "text": [
            "              precision    recall  f1-score   support\n",
            "\n",
            " Non-Suicide       1.00      1.00      1.00     29151\n",
            "     Suicide       1.00      1.00      1.00     28861\n",
            "\n",
            "    accuracy                           1.00     58012\n",
            "   macro avg       1.00      1.00      1.00     58012\n",
            "weighted avg       1.00      1.00      1.00     58012\n",
            "\n"
          ]
        }
      ],
      "source": [
        "print(metrics.classification_report(y_test11, y_pred11, target_names=['Non-Suicide', 'Suicide']))"
      ]
    },
    {
      "cell_type": "code",
      "execution_count": null,
      "metadata": {
        "id": "9daeb853",
        "outputId": "2cc83300-03c5-4c16-f539-c30808ab2899"
      },
      "outputs": [
        {
          "name": "stdout",
          "output_type": "stream",
          "text": [
            "+----------------------+-----------------------------+\n",
            "| Selected Model       | Logistic Regression:        |\n",
            "|                      | TF-IDF Text Only            |\n",
            "|----------------------+-----------------------------|\n",
            "| Accuracy             | 0.996                       |\n",
            "| Precision            | 0.995                       |\n",
            "| Recall               | 0.996                       |\n",
            "| ROC-AUC Score        | 0.999                       |\n",
            "| -------------------- | --------------------------- |\n",
            "| True Suicide         | 28753                       |\n",
            "| False Suicide        | 143                         |\n",
            "| True Non-Suicide     | 29008                       |\n",
            "| False Non-Suicide    | 108                         |\n",
            "| -------------------- | --------------------------- |\n",
            "| Optimal: C           | 10                          |\n",
            "+----------------------+-----------------------------+\n"
          ]
        }
      ],
      "source": [
        "d = [ [\"Accuracy\", round(accuracy_lr_tfidf, 3)], \n",
        "     [\"Precision\", round(precision_lr_tfidf, 3)],\n",
        "     [\"Recall\", round(recall_lr_tfidf, 3)],\n",
        "     [\"ROC-AUC Score\", round(roc_auc_lr_tfidf, 3)],\n",
        "     [\"--------------------\", \"---------------------------\",],\n",
        "     [\"True Suicide\", tp_lr_tfid], \n",
        "     [\"False Suicide\", fp_lr_tfid], \n",
        "     [\"True Non-Suicide\", tn_lr_tfid],\n",
        "     [\"False Non-Suicide\", fn_lr_tfid],\n",
        "     [\"--------------------\", \"---------------------------\"],\n",
        "     [\"Optimal: C \", \"10\"]]\n",
        "\n",
        "print(tabulate(d, headers=[\"Selected Model\", \"Logistic Regression:\" '\\n' \"TF-IDF Text Only\"], tablefmt='psql',  numalign=\"left\"))"
      ]
    },
    {
      "cell_type": "code",
      "execution_count": null,
      "metadata": {
        "id": "38e999c8",
        "outputId": "2c40f9fb-f0fc-4a75-a4f2-3f8709f1e0bf"
      },
      "outputs": [
        {
          "data": {
            "text/plain": [
              "LogisticRegression(C=10)"
            ]
          },
          "execution_count": 172,
          "metadata": {},
          "output_type": "execute_result"
        }
      ],
      "source": [
        "lr_tfid = LogisticRegression(C = 10)\n",
        "lr_tfid.fit(X_test11, y_test11)"
      ]
    },
    {
      "cell_type": "code",
      "execution_count": null,
      "metadata": {
        "id": "6c4f7641",
        "outputId": "6a7d3046-d52f-438d-b230-66cc53ed5632"
      },
      "outputs": [
        {
          "data": {
            "image/png": "[encoded data removed]",
            "text/plain": [
              "<Figure size 576x432 with 1 Axes>"
            ]
          },
          "metadata": {
            "needs_background": "light"
          },
          "output_type": "display_data"
        }
      ],
      "source": [
        "y_pred_proba11 = lr_tfid.predict_proba(X_test11)[::,1]\n",
        "fpr11, tpr11, _ = metrics.roc_curve(y_test11,  y_pred_proba11)\n",
        "plt.rcParams.update({'figure.figsize': (8, 6.0)})\n",
        "#create ROC curve\n",
        "plt.plot(fpr11,tpr11)\n",
        "plt.plot([0, 1], [0, 1],'r--')\n",
        "plt.title(\"ROC_AUC CURVE Logistic Regression with TF-IDF Vectorizer - Text Only\")\n",
        "plt.ylabel('True Positive Rate')\n",
        "plt.xlabel('False Positive Rate')\n",
        "plt.tight_layout()\n",
        "plt.savefig('ROC_AUC CURVE Logistic Regression with TF-IDF Vectorizer_Text_Only.png')"
      ]
    },
    {
      "cell_type": "markdown",
      "metadata": {
        "id": "9e9573c2"
      },
      "source": [
        "# Step 7:  Look at Mis-Labeled Examples"
      ]
    },
    {
      "cell_type": "code",
      "execution_count": null,
      "metadata": {
        "id": "08f7fce0",
        "outputId": "2d029791-08f7-42c9-f068-d47d9b03b73e"
      },
      "outputs": [
        {
          "data": {
            "text/plain": [
              "LogisticRegression(C=10)"
            ]
          },
          "execution_count": 174,
          "metadata": {},
          "output_type": "execute_result"
        }
      ],
      "source": [
        "lr_tfid = LogisticRegression(C = 10)\n",
        "lr_tfid.fit(X_test11, y_test11)"
      ]
    },
    {
      "cell_type": "code",
      "execution_count": null,
      "metadata": {
        "id": "5e257eda"
      },
      "outputs": [],
      "source": [
        "dict1 = {'predict_proba':lr_tfid.predict_proba(X_test11)[:, 1], 'prediction' : lr_tfid.predict(X_test11), 'actual' :y_test11}"
      ]
    },
    {
      "cell_type": "code",
      "execution_count": null,
      "metadata": {
        "id": "5bcffde4"
      },
      "outputs": [],
      "source": [
        "df_preds = pd.DataFrame(dict1)"
      ]
    },
    {
      "cell_type": "code",
      "execution_count": null,
      "metadata": {
        "id": "1be4f2c7"
      },
      "outputs": [],
      "source": [
        "df_preds['sum'] = df_preds['prediction'] + df_preds['actual']\n",
        "mixed = df_preds[df_preds['sum'] == 1].reset_index()\n"
      ]
    },
    {
      "cell_type": "code",
      "execution_count": null,
      "metadata": {
        "id": "57b63233"
      },
      "outputs": [],
      "source": [
        "mixed['string'] = ''"
      ]
    },
    {
      "cell_type": "code",
      "execution_count": null,
      "metadata": {
        "id": "2be97f3c"
      },
      "outputs": [],
      "source": [
        "for i in range(len(mixed)):\n",
        "    mixed['string'].iloc[i] = df['text'].iloc[mixed['index'].iloc[i]]"
      ]
    },
    {
      "cell_type": "code",
      "execution_count": null,
      "metadata": {
        "id": "9ae44456",
        "outputId": "be955699-3fc5-459b-c123-f51519384ff8"
      },
      "outputs": [
        {
          "data": {
            "text/html": [
              "<div>\n",
              "<style scoped>\n",
              "    .dataframe tbody tr th:only-of-type {\n",
              "        vertical-align: middle;\n",
              "    }\n",
              "\n",
              "    .dataframe tbody tr th {\n",
              "        vertical-align: top;\n",
              "    }\n",
              "\n",
              "    .dataframe thead th {\n",
              "        text-align: right;\n",
              "    }\n",
              "</style>\n",
              "<table border=\"1\" class=\"dataframe\">\n",
              "  <thead>\n",
              "    <tr style=\"text-align: right;\">\n",
              "      <th></th>\n",
              "      <th>index</th>\n",
              "      <th>predict_proba</th>\n",
              "      <th>prediction</th>\n",
              "      <th>actual</th>\n",
              "      <th>sum</th>\n",
              "      <th>string</th>\n",
              "    </tr>\n",
              "  </thead>\n",
              "  <tbody>\n",
              "    <tr>\n",
              "      <th>0</th>\n",
              "      <td>18617</td>\n",
              "      <td>0.528253</td>\n",
              "      <td>1</td>\n",
              "      <td>0</td>\n",
              "      <td>1</td>\n",
              "      <td>how do i mend the wound a little backgrounTong...</td>\n",
              "    </tr>\n",
              "    <tr>\n",
              "      <th>1</th>\n",
              "      <td>154540</td>\n",
              "      <td>0.658145</td>\n",
              "      <td>1</td>\n",
              "      <td>0</td>\n",
              "      <td>1</td>\n",
              "      <td>i hate everything it is my birthday today and ...</td>\n",
              "    </tr>\n",
              "    <tr>\n",
              "      <th>2</th>\n",
              "      <td>156820</td>\n",
              "      <td>0.604636</td>\n",
              "      <td>1</td>\n",
              "      <td>0</td>\n",
              "      <td>1</td>\n",
              "      <td>tell me obe reason not to end it all i have be...</td>\n",
              "    </tr>\n",
              "    <tr>\n",
              "      <th>3</th>\n",
              "      <td>165627</td>\n",
              "      <td>0.993140</td>\n",
              "      <td>1</td>\n",
              "      <td>0</td>\n",
              "      <td>1</td>\n",
              "      <td>just some thoughts i had in my head so her we ...</td>\n",
              "    </tr>\n",
              "  </tbody>\n",
              "</table>\n",
              "</div>"
            ],
            "text/plain": [
              "    index  predict_proba  prediction  actual  sum  \\\n",
              "0   18617       0.528253           1       0    1   \n",
              "1  154540       0.658145           1       0    1   \n",
              "2  156820       0.604636           1       0    1   \n",
              "3  165627       0.993140           1       0    1   \n",
              "\n",
              "                                              string  \n",
              "0  how do i mend the wound a little backgrounTong...  \n",
              "1  i hate everything it is my birthday today and ...  \n",
              "2  tell me obe reason not to end it all i have be...  \n",
              "3  just some thoughts i had in my head so her we ...  "
            ]
          },
          "execution_count": 180,
          "metadata": {},
          "output_type": "execute_result"
        }
      ],
      "source": [
        "mixed.head(4)"
      ]
    },
    {
      "cell_type": "code",
      "execution_count": null,
      "metadata": {
        "id": "d72ec1b8"
      },
      "outputs": [],
      "source": [
        "false_positive = mixed[mixed['prediction'] == 1]\n",
        "false_negative = mixed[mixed['prediction'] == 0]"
      ]
    },
    {
      "cell_type": "markdown",
      "metadata": {
        "id": "df160345"
      },
      "source": [
        "### False Positive Cases:  Predicted Suicide but Actually Teenager"
      ]
    },
    {
      "cell_type": "code",
      "execution_count": null,
      "metadata": {
        "id": "b7af2c5c"
      },
      "outputs": [],
      "source": [
        "top_false_positive = false_positive.sort_values(by = 'predict_proba', ascending = False).head()"
      ]
    },
    {
      "cell_type": "code",
      "execution_count": null,
      "metadata": {
        "id": "ccb91f9d",
        "outputId": "7d09c5a5-e60c-419d-e8ef-f247577eead3"
      },
      "outputs": [
        {
          "name": "stdout",
          "output_type": "stream",
          "text": [
            "iteration   0   i hate my life i want to die           ㅤ            ㅤ\n",
            "\n",
            "iteration   1   what to say and not to say to a suicidal person what to avoidKiss\n",
            "\n",
            "things get better you will be all right \n",
            "\n",
            "suicide is selfish think about your family friends etc\n",
            "\n",
            "only cowards commit suicide \n",
            "\n",
            "the is much more to live \n",
            "\n",
            "the are people who have wors problems \n",
            "\n",
            "come on i am sure you do not really wanna die \n",
            "\n",
            "suicide is not a solution  suicide is a permanent solution to a temporary problem \n",
            "\n",
            "you do not seem depressed\n",
            "\n",
            "just cheer up smile\n",
            "\n",
            "it is just a phase\n",
            "\n",
            "your life is not bad as you think\n",
            "\n",
            "you are just seeking for attention\n",
            "\n",
            "focus on the positves in your life \n",
            "\n",
            "i know how you feel unless you were suicidal too and you explicitly told him \n",
            "\n",
            "you are gong to hell for that \n",
            "\n",
            "\n",
            "what neithe helps or make things worsKiss\n",
            "\n",
            "you need help go to a professional you can say it in a second time only phrasing it like i am worried for you i want you to know that i will always be the for you but in the meantime you could go to a doctor a professional or somebody more competent than me what do you think about it \n",
            "\n",
            "stay strong\n",
            "\n",
            "\n",
            "what to say must be an every day thing or almostKiss\n",
            "\n",
            "how are you dong today keep them busy and make them not to think of their depression and suicidal thoughts \n",
            "\n",
            "is the anything i can do for you \n",
            "\n",
            "i am her if you wanna talk \n",
            "\n",
            "can i ask you why are you depressed  wanna talk about it \n",
            "\n",
            "are you thinking about endng your life if they say yes ask do you have a plan for how you would do it if they say yes again ask have you thought about when you would end your life \n",
            "\n",
            "this makes you understand what type and how inmediate support the person you are talking to needs do not forget to focus on the why more than the how though \n",
            "\n",
            "a few words can save a life\n",
            "\n",
            "iteration   2   i am killing myself bye y’all\n",
            "\n",
            "iteration   3   die die die die i want to die i want to die i want to die \n",
            "\n",
            "please just kill me please just kill me please just kill me \n",
            "\n",
            "no longer want to live no longer want to live no longer want to live \n",
            "\n",
            "this is not a cry for help this is not a cry for help this is not a cry for help \n",
            "\n",
            "i want to die\n",
            "\n",
            "iteration   4   just some thoughts i had in my head so her we are i guess\n",
            "\n",
            "i will brainstorm some things that come into my mind so i can relieve myself even if it is just a little bit\n",
            "\n",
            "i will write whatever comes to mind so these will be my general thoughts warning do not expect anything too happy\n",
            "\n",
            "i do not even know if i will post this lol but i will still keep this sort of like a diary\n",
            "\n",
            "so i basically got a low grade because i did not do some homework i do not want to talk aoubt the futility of some homework because you all know it\n",
            "\n",
            "but because of that low grade my parents of course yelled at me it is been like this since i started highschoolso it is not like i did not get adapted to it\n",
            "\n",
            "it is just that themespecially my mothe and my teachers always tell us that we are lazy that we have something wrong in ourselves for not dong things the\n",
            "\n",
            "way they want to and i am like yes i agree that i am lazy but it is because i am so tired after triying so hard to keep things togethe not try and scream\n",
            "\n",
            "every moment of every day i am tired of trying to not feel suicidal and not hoping to die in my sleep because i do not have the balls to kill myself\n",
            "\n",
            "i know i would not kill myself but i do not want to live in a world that treats me like this but at the same time i do not want to die\n",
            "\n",
            "i do not want to die because i know that the are people that care about me even my parents but i do not know how to let them care about me\n",
            "\n",
            "i do not care and i am afraid that i do not want them to care even if in the end i really want that i want help ireally need help but i can not get myself to \n",
            "\n",
            "ask for it feeling that it might go wrong and send me down spiraling in an even wors case of my already destabilized and broken mental state\n",
            "\n",
            "this is not a suicide letter i do not plan on killing myself do not worry\n",
            "\n",
            "but i hate living just because people need me i do not want to live just because people in my life need me and they do not want me to die\n",
            "\n",
            "i want to live because i want to not to grant some wish to someone that does not want me dead i want to live on my own accord but i am afraid i can not do it\n",
            "\n",
            "one of the reasons i did not tell my parents about how i feel even if i wanted to tell tehm a lot it is because my fathethe one who treats me better out of\n",
            "\n",
            "the two saw me when i was in a really bad state and told me if everything was okay and i finally decided to say no\n",
            "\n",
            "yayfinally some progress after all this time i wonder what could go wrong\n",
            "\n",
            "well he told me that it was because of a girl even if i told him it was not for it i told that it was basically everything i wanted to at least let out\n",
            "\n",
            "a minor part of what i am feeling and he tells me that the important is to remain happy and keep moving on\n",
            "\n",
            "damn\n",
            "\n",
            "that thing did not make me happier at all at that point i was afraid to say anything to my parents because if my fathe reacted like this my mothe\n",
            "\n",
            "who always yells at me for anything i do uses me as her stress toy if she gets a bad day at work and she and my fathe tell me that\n",
            "\n",
            "when you have a kid you will have the opportunity to do the same she always belittles me and gaslights me into thinking i am wrong and every decision i make \n",
            "\n",
            "can not be made without her telling me how bad of a decision i am making\n",
            "\n",
            "i just feel so empty but at the same time filled up with nothing it is a strange thing to describe i can not cope with it\n",
            "\n",
            "and i did not even talk about how i do have friends who i vent to who understand me but that does not stop me from thinking that i am a burden to them\n",
            "\n",
            "that i am not worth their time how much i am worthless the neverendng anxiety that comes out of me at ay point if i am talking to someone or just sharing an opinion\n",
            "\n",
            "or just thinking about future stuff that might happen\n",
            "\n",
            "as a kid i almost never dreamt of wacky and uncharacteristic stff i always dreamt about dying in a way or anothe i was always dying and now i am not having\n",
            "\n",
            "many dreams anymore but i sometimes dream about dying too about the topic of dreams one time i had the best dream i ever had\n",
            "\n",
            "i do not quite remember what i was dong but at some point it went all pitch black i was completely blind or well dead\n",
            "\n",
            "i felt the need to breathe but i could not no matter how hard i tried to breathe in then i ran out of breath and one thought flashed into my mind\n",
            "\n",
            "is this it is it overfinally\n",
            "\n",
            "it worries me that i thought finally even for a moment but while i was saying that i got to experience the thing that i would describe as the most inner peace\n",
            "\n",
            "that anyone could get i was without worry totally realxed and i felt at peace with myself \n",
            "\n",
            "of course it was just a dream but it did not stop me from remembering this peace and thinking about it reminiscing how i would love to feel it again\n",
            "\n",
            "i guess it is all for the currrent existential crisis but at least i am happy that i wrote about this to get some thoughts out of my head\n",
            "\n",
            "i do not even know if i will post this anytime soon but at least i will be happy knowng that someone rad it if i posted that\n",
            "\n",
            " i just want people to talk about what is happening in their lives if this related to someone let me tell you that it is not good\n",
            "\n",
            "and with this i will end this paragraph of what i wrote maybe anothe time i will decide to post something more serious like this othe than memes but sure maybe that time will come\n",
            "\n",
            "if i misspelt something i will see if i can correct it as i am not a native english speaker and i wish the best of luck to all of you who are struggling with the same stuff as me\n",
            "\n",
            "i will not be able to reply to anyone since i will be gong to bed but i will see what i can do in the morning\n",
            "\n"
          ]
        }
      ],
      "source": [
        "for i in range(0, 5):\n",
        "    print('iteration  ' , i , ' ', top_false_positive['string'].iloc[i])\n",
        "    print('')"
      ]
    },
    {
      "cell_type": "markdown",
      "metadata": {
        "id": "8f42e9c1"
      },
      "source": [
        "When looking at mislabeled false positives, it seems that the content of four of the five posts most predicted to be about suicide actually are about suicide.  Based on a review of these posts, it seems that most of them are about suicide or suicide prevention even though they are posted in the 'teenager' forum."
      ]
    },
    {
      "cell_type": "markdown",
      "metadata": {
        "id": "cce78391"
      },
      "source": [
        "### False Negative Cases:  Predicted Teenager but Actually in the Suicide Forum"
      ]
    },
    {
      "cell_type": "code",
      "execution_count": null,
      "metadata": {
        "id": "6f49e560"
      },
      "outputs": [],
      "source": [
        "top_false_negative = false_negative.sort_values(by = 'predict_proba', ascending = True).head(45)"
      ]
    },
    {
      "cell_type": "code",
      "execution_count": null,
      "metadata": {
        "id": "1045bcd0",
        "outputId": "bdf16b22-69e6-4540-cc30-a6c441a2802b"
      },
      "outputs": [
        {
          "name": "stdout",
          "output_type": "stream",
          "text": [
            "iteration   0   i am doneclick this _link_to_site_\n",
            "\n",
            "iteration   1   someone is _link_to_site_\n",
            "\n",
            "iteration   2   bananabananananananananananananananan Happy_face_or_smiley\n",
            "\n",
            "iteration   3   exhaustedcan not take much more\n",
            "\n",
            "iteration   4   enough alreadyenoughenoughenoughenoughenoughenoughenoughenoughenoughenoughenoughenoughenoughenoughenoughenoughenoughenoughenoughenoughenoughenoughenoughenoughenoughenoughenoughenoughenoughenoughenoughenoughenoughenoughenoughenoughenoughenoughenoughenoughenoughenoughenoughenoughenoughenoughenoughenoughenoughenoughenoughenoughenoughenoughenoughenoughnonsensicalnonsensicalnonsensicalenoughenoughenoughenoughenoughenoughenoughenoughenoughenoughenoughenoughenoughenoughenoughenoughenoughenoughenoughenoughenoughenoughenoughenoughenoughenoughenoughenoughenoughenoughenoughenoughenoughenoughenoughenoughenoughenoughenoughenoughenoughenoughenoughenoughenoughenoughenoughenoughenoughenoughenoughenoughenoughenoughenoughenoughenoughenoughenoughenoughenoughenoughenoughenoughenoughenoughenoughenoughenoughenoughenoughenoughenoughenoughenoughenoughenoughenoughenoughenoughenoughenoughenoughenoughenoughenoughenoughenoughenoughenoughenoughenoughenoughenoughenoughenoughenoughenoughenoughenoughenoughenoughenoughenoughenoughenoughenoughenoughenoughenoughenoughenoughenoughenoughenoughenoughenoughenoughenoughenoughenoughenoughenoughenoughenoughenoughenoughenoughenoughenoughenoughenoughenoughenoughenoughenoughenoughenoughenoughenoughenoughenoughenoughenoughenoughenoughenoughenoughenoughenoughenoughenoughenoughenoughenoughenoughenoughenoughenoughenoughenoughenoughenoughenoughenoughenoughenoughenoughenoughenoughenoughenoughenoughenoughenoughenoughenoughenoughenoughenoughenoughenoughenoughenoughenoughenoughenoughenoughenoughenoughenoughenoughenoughenoughenoughenoughenoughenoughenoughenoughenoughenoughenoughenoughenoughenoughenoughenoughenoughenoughenoughenoughenoughenoughenoughenoughenoughenoughenoughenoughenoughenoughenoughenoughenoughenoughenoughenoughenoughenoughenoughenoughenoughenoughenoughenoughenoughenoughenoughenoughenoughenoughenoughenoughenoughenoughenoughenoughenoughenoughenoughenoughenoughenoughenoughenoughenoughenoughenoughenoughenoughenoughenoughenoughenoughenoughenoughenoughnonsensicalnonsensicalnonsensicalenoughenoughenoughenoughenoughenoughenoughenoughenoughenoughenoughenoughenoughenoughenoughenoughenoughenoughenoughenoughenoughenoughenoughenoughenoughenoughenoughenoughenoughenoughenoughenoughenoughenoughenoughenoughenoughenoughenoughenoughenoughenoughenoughenoughenoughenoughenoughenoughenoughenoughenoughenoughenoughenoughenoughenoughenoughenoughenoughenoughenoughenoughenoughenoughenoughenoughenoughenoughenoughenoughenoughenoughenoughenoughenoughenoughenoughenoughenoughenoughenoughenoughenoughenoughenoughenoughenoughenoughenoughenoughenoughenoughenoughenoughenoughenoughenoughenoughenoughenoughenoughenoughenoughenoughenoughenoughenoughenoughenoughenoughenoughenoughenoughenoughenoughenoughenoughenoughenoughenoughenoughenoughenoughenoughenoughenoughenoughenoughenoughenoughenoughenoughenoughenoughenoughenoughenoughenoughenoughenoughenoughenoughenoughenoughenoughenoughenoughenoughenoughenoughenoughenoughenoughenoughenoughenoughenoughenoughenoughenoughenoughenoughenoughenoughenoughenoughenoughenoughenoughenoughenoughenoughenoughenoughenoughenoughenoughenoughenoughenoughenoughenoughenoughenoughenoughenoughenoughenoughenoughenoughenoughenoughenoughenoughenoughenoughenoughenoughenoughenoughenoughenoughenoughenoughenoughenoughenoughenoughenoughenoughenoughenough\n",
            "\n",
            "iteration   5   i am suicidalnuts\n",
            "\n",
            "iteration   6   nopeend\n",
            "\n",
            "iteration   7   helpresolved\n",
            "\n",
            "iteration   8   hiidk\n",
            "\n",
            "iteration   9   liablei do it to myself\n",
            "\n",
            "iteration   10   i am overdosinggoodbye\n",
            "\n",
            "iteration   11   asdgagssadgafds\n",
            "\n",
            "iteration   12   am i asshole_link_to_site_\n",
            "\n",
            "iteration   13   i am about todisappointed_face\n",
            "\n",
            "iteration   14   i have no friendssee_link_to_site_\n",
            "\n",
            "iteration   15   byeψσγχο\n",
            "\n",
            "iteration   16   how do you start_link_to_site_\n",
            "\n",
            "iteration   17   kkbbcancer is my name\n",
            "\n",
            "iteration   18   i am the one to be ignoredoh well\n",
            "\n",
            "iteration   19   i can not do this any morebye\n",
            "\n",
            "iteration   20   i quitm done\n",
            "\n",
            "iteration   21   heymessage me to call me\n",
            "\n",
            "iteration   22   helloanyone out the\n",
            "\n",
            "iteration   23   nowgoodbye\n",
            "\n",
            "iteration   24   hydrocodonehow much is too much\n",
            "\n",
            "iteration   25   tonightقبل أن أموت\n",
            "خنزير الرب القضيب أسود\n",
            "\n",
            "iteration   26   i am really sadanyone out the\n",
            "\n",
            "iteration   27   why do anythingwhy  why do anything\n",
            "\n",
            "iteration   28   wellbye\n",
            "\n",
            "iteration   29   niggernigger\n",
            "\n",
            "iteration   30   deathcome at me\n",
            "\n",
            "iteration   31   it is got to be done soondrowning\n",
            "\n",
            "iteration   32   text me please\n",
            "\n",
            "iteration   33   hi thelol\n",
            "\n",
            "iteration   34   making a choiceforget it\n",
            "\n",
            "iteration   35   good morning suicidewatchnice to see you again\n",
            "\n",
            "iteration   36   Frown_sad_andry_or_poutngFrown_sad_andry_or_poutng\n",
            "    \n",
            "    what is wrong with me\n",
            "\n",
            "iteration   37   can not do this shit anymorepeace out\n",
            "\n",
            "iteration   38   one of those daysyep \n",
            "\n",
            "good luck everyone\n",
            "\n",
            "iteration   39   good byekeep well\n",
            "\n",
            "iteration   40   is it normal for a song to cause traumastupd question i knowbut every time i listen to this song it brings back traumatic memories but i keep listening to it because the song itself is one of my favorites and it is beautiful\n",
            "\n",
            "iteration   41   welpseriously fuck it\n",
            "\n",
            "iteration   42   how old are most of you guysearly s her for me\n",
            "\n",
            "iteration   43   the fuck is up with all the wholesome and excited awardsi will see a post like i i wanna kill myself or i started cutting again and it has one of those awards wtf\n",
            "\n",
            "iteration   44   i vent her and y'all threaten to report my ass to the policereal dick move innit\n",
            "\n"
          ]
        }
      ],
      "source": [
        "for i in range(0, 45):\n",
        "    print('iteration  ' , i , ' ', top_false_negative['string'].iloc[i])\n",
        "    print('')"
      ]
    },
    {
      "cell_type": "markdown",
      "metadata": {
        "id": "faae1126"
      },
      "source": [
        "Looking at the posts in the False Negative section.  In my mind it seems that I would classify at some of these as potentially suicidal but not necessarily explicit in their intent. However many of these posts include misspellings / words with unexpected spelling and so it may not be interpreted properly because of how it was typed into the forum.  Four of the five do not seem to be about suicide at all as two just have dashes and  do not contain any words.  "
      ]
    },
    {
      "cell_type": "code",
      "execution_count": null,
      "metadata": {
        "id": "27019d8a",
        "outputId": "c926105c-8689-45c0-fc36-c4c12a98a141"
      },
      "outputs": [
        {
          "data": {
            "text/html": [
              "<div>\n",
              "<style scoped>\n",
              "    .dataframe tbody tr th:only-of-type {\n",
              "        vertical-align: middle;\n",
              "    }\n",
              "\n",
              "    .dataframe tbody tr th {\n",
              "        vertical-align: top;\n",
              "    }\n",
              "\n",
              "    .dataframe thead th {\n",
              "        text-align: right;\n",
              "    }\n",
              "</style>\n",
              "<table border=\"1\" class=\"dataframe\">\n",
              "  <thead>\n",
              "    <tr style=\"text-align: right;\">\n",
              "      <th></th>\n",
              "      <th>index</th>\n",
              "      <th>predict_proba</th>\n",
              "      <th>prediction</th>\n",
              "      <th>actual</th>\n",
              "      <th>sum</th>\n",
              "      <th>string</th>\n",
              "    </tr>\n",
              "  </thead>\n",
              "  <tbody>\n",
              "    <tr>\n",
              "      <th>229</th>\n",
              "      <td>65909</td>\n",
              "      <td>0.027817</td>\n",
              "      <td>0</td>\n",
              "      <td>1</td>\n",
              "      <td>1</td>\n",
              "      <td>i am doneclick this _link_to_site_</td>\n",
              "    </tr>\n",
              "    <tr>\n",
              "      <th>79</th>\n",
              "      <td>29064</td>\n",
              "      <td>0.027817</td>\n",
              "      <td>0</td>\n",
              "      <td>1</td>\n",
              "      <td>1</td>\n",
              "      <td>someone is _link_to_site_</td>\n",
              "    </tr>\n",
              "    <tr>\n",
              "      <th>8</th>\n",
              "      <td>231777</td>\n",
              "      <td>0.029802</td>\n",
              "      <td>0</td>\n",
              "      <td>1</td>\n",
              "      <td>1</td>\n",
              "      <td>bananabananananananananananananananan Happy_fa...</td>\n",
              "    </tr>\n",
              "    <tr>\n",
              "      <th>4</th>\n",
              "      <td>190375</td>\n",
              "      <td>0.072557</td>\n",
              "      <td>0</td>\n",
              "      <td>1</td>\n",
              "      <td>1</td>\n",
              "      <td>exhaustedcan not take much more</td>\n",
              "    </tr>\n",
              "    <tr>\n",
              "      <th>90</th>\n",
              "      <td>92238</td>\n",
              "      <td>0.072557</td>\n",
              "      <td>0</td>\n",
              "      <td>1</td>\n",
              "      <td>1</td>\n",
              "      <td>enough alreadyenoughenoughenoughenoughenoughen...</td>\n",
              "    </tr>\n",
              "  </tbody>\n",
              "</table>\n",
              "</div>"
            ],
            "text/plain": [
              "      index  predict_proba  prediction  actual  sum  \\\n",
              "229   65909       0.027817           0       1    1   \n",
              "79    29064       0.027817           0       1    1   \n",
              "8    231777       0.029802           0       1    1   \n",
              "4    190375       0.072557           0       1    1   \n",
              "90    92238       0.072557           0       1    1   \n",
              "\n",
              "                                                string  \n",
              "229                 i am doneclick this _link_to_site_  \n",
              "79                           someone is _link_to_site_  \n",
              "8    bananabananananananananananananananan Happy_fa...  \n",
              "4                      exhaustedcan not take much more  \n",
              "90   enough alreadyenoughenoughenoughenoughenoughen...  "
            ]
          },
          "execution_count": 186,
          "metadata": {},
          "output_type": "execute_result"
        }
      ],
      "source": [
        "top_false_negative.head()"
      ]
    },
    {
      "cell_type": "markdown",
      "metadata": {
        "id": "852d9b24"
      },
      "source": [
        "# Step 8:  Thresholding"
      ]
    },
    {
      "cell_type": "code",
      "execution_count": null,
      "metadata": {
        "id": "83669441"
      },
      "outputs": [],
      "source": [
        "# What do we care about?  \n",
        "# Definitions:  1) True Positive:  Predicted as Suicide and Actually were suicide\n",
        "#               2) True Negative:  Predicted as Non-Suicide and were non-suicide\n",
        "#               3)  False Positive:  Predicted as Suicide and were not suicie\n",
        "#               4)  False Negative:  Predicted as non-suicide and WERE ACTUALLY SUICIDE\n",
        "\n",
        "#    precision = tp/(tp+fp)\n",
        "#    recall =  tp/(tp+fn)\n",
        "\n",
        "# F1 = Harmonic mean of precision and recall\n",
        "# Fbeta adjusts the weighting of precision and recall F2 increases importance of recall F0.5 increases weighting of precision\n",
        "\n",
        "#  Ultimately if we are predicting who is suicidal and we predict :\n",
        "#  False Positive...perhaps attention is paid to an individual who is not really suicidal\n",
        "#  False Negative...someone who is really suicidal is ignored\n",
        "\n",
        "#  THEREFORE  we care more about False Negative \n",
        "#  any Fbeta score should weigh RECALL more than precision  "
      ]
    },
    {
      "cell_type": "code",
      "execution_count": null,
      "metadata": {
        "id": "f031f601"
      },
      "outputs": [],
      "source": [
        "from sklearn import tree, metrics\n",
        "from sklearn.metrics import fbeta_score\n",
        "d = []\n",
        "for i in [0, 0.05, 0.1, 0.15, 0.2, 0.25, 0.3, 0.35, 0.4, 0.45, 0.5, 0.55, 0.6, 0.65, 0.7, 0.75, 0.8, 0.85, 0.9, 0.95, 1 ]:\n",
        "    y_pred = (lr_tfid.predict_proba(X_test11)[:,1] >= i).astype(bool)\n",
        "    precision = metrics.precision_score(y_test11,y_pred, pos_label = 1)\n",
        "    recall = metrics.recall_score(y_test11, y_pred, pos_label = 1)\n",
        "    f_beta = fbeta_score(y_test12, y_pred, beta=2)\n",
        "    tn_lr_tfid, fp_lr_tfid, fn_lr_tfid, tp_lr_tfid = confusion_matrix(y_test11, y_pred).ravel()\n",
        "    d.append((i, precision, recall, f_beta, tp_lr_tfid, fp_lr_tfid, tn_lr_tfid, fn_lr_tfid))"
      ]
    },
    {
      "cell_type": "code",
      "execution_count": null,
      "metadata": {
        "id": "0ab119a6",
        "outputId": "c8ec9373-d918-49dc-da9c-adc99e805a10"
      },
      "outputs": [
        {
          "data": {
            "text/plain": [
              "list"
            ]
          },
          "execution_count": 196,
          "metadata": {},
          "output_type": "execute_result"
        }
      ],
      "source": [
        "type(d)"
      ]
    },
    {
      "cell_type": "code",
      "execution_count": null,
      "metadata": {
        "id": "38eb605f"
      },
      "outputs": [],
      "source": [
        "df_threshold = pd.DataFrame(d, columns = ('Threshold', 'Precision', 'Recall', 'F-2 Score', 'True Positive', 'False Positive', 'True_Negative', 'False Negative'))\n"
      ]
    },
    {
      "cell_type": "code",
      "execution_count": null,
      "metadata": {
        "id": "e6e4ef01"
      },
      "outputs": [],
      "source": [
        "x = df_threshold['Threshold']\n",
        "y1 = df_threshold['Precision']"
      ]
    },
    {
      "cell_type": "code",
      "execution_count": null,
      "metadata": {
        "id": "46f6ffe0"
      },
      "outputs": [],
      "source": [
        "#  Now we will optimize based on F-Beta.  We are setting Beta equal to 2 so that we prioritize Recall over Precision.\n"
      ]
    },
    {
      "cell_type": "code",
      "execution_count": null,
      "metadata": {
        "id": "71324b8c",
        "outputId": "fbdc9118-decc-4697-c660-b489b7ba92a7"
      },
      "outputs": [
        {
          "data": {
            "text/html": [
              "<div>\n",
              "<style scoped>\n",
              "    .dataframe tbody tr th:only-of-type {\n",
              "        vertical-align: middle;\n",
              "    }\n",
              "\n",
              "    .dataframe tbody tr th {\n",
              "        vertical-align: top;\n",
              "    }\n",
              "\n",
              "    .dataframe thead th {\n",
              "        text-align: right;\n",
              "    }\n",
              "</style>\n",
              "<table border=\"1\" class=\"dataframe\">\n",
              "  <thead>\n",
              "    <tr style=\"text-align: right;\">\n",
              "      <th></th>\n",
              "      <th>Threshold</th>\n",
              "      <th>Precision</th>\n",
              "      <th>Recall</th>\n",
              "      <th>F-2 Score</th>\n",
              "      <th>True Positive</th>\n",
              "      <th>False Positive</th>\n",
              "      <th>True_Negative</th>\n",
              "      <th>False Negative</th>\n",
              "    </tr>\n",
              "  </thead>\n",
              "  <tbody>\n",
              "    <tr>\n",
              "      <th>9</th>\n",
              "      <td>0.45</td>\n",
              "      <td>0.993032</td>\n",
              "      <td>0.997436</td>\n",
              "      <td>0.996552</td>\n",
              "      <td>28787</td>\n",
              "      <td>202</td>\n",
              "      <td>28949</td>\n",
              "      <td>74</td>\n",
              "    </tr>\n",
              "  </tbody>\n",
              "</table>\n",
              "</div>"
            ],
            "text/plain": [
              "   Threshold  Precision    Recall  F-2 Score  True Positive  False Positive  \\\n",
              "9       0.45   0.993032  0.997436   0.996552          28787             202   \n",
              "\n",
              "   True_Negative  False Negative  \n",
              "9          28949              74  "
            ]
          },
          "execution_count": 199,
          "metadata": {},
          "output_type": "execute_result"
        }
      ],
      "source": [
        "df_threshold[df_threshold['F-2 Score'] == df_threshold['F-2 Score'].max()]"
      ]
    },
    {
      "cell_type": "code",
      "execution_count": null,
      "metadata": {
        "id": "ce0c6f8c",
        "outputId": "c63c3503-0144-4968-f533-10d86ec5b1da"
      },
      "outputs": [
        {
          "data": {
            "image/png": "[encoded data removed]",
            "text/plain": [
              "<Figure size 576x432 with 1 Axes>"
            ]
          },
          "metadata": {
            "needs_background": "light"
          },
          "output_type": "display_data"
        }
      ],
      "source": [
        "plt.plot(x, df_threshold['Precision'])\n",
        "plt.plot(x, df_threshold['Recall'])\n",
        "plt.plot(x, df_threshold['F-2 Score'])\n",
        "plt.xticks(df_threshold['Threshold'], df_threshold['Threshold'].values)\n",
        "plt.axvline(0.4, color='black', alpha=0.3)\n",
        "plt.text(.4,.5,'Optimal Threshold',rotation=90, alpha=0.8, fontsize=16)\n",
        "plt.axvline(0.5, color='black', alpha=0.3)\n",
        "plt.text(.5,.0,'Default Threshold',rotation=90, alpha=0.8, fontsize=16)\n",
        "plt.xlabel('Threshold')\n",
        "plt.legend(df_threshold[['Precision', 'Recall', 'F-2 Score']].columns)\n",
        "plt.title('Precision, Recall and F-2 vs Threshold')\n",
        "plt.xlim(0, 1)\n",
        "\n",
        "plt.tight_layout()\n",
        "plt.savefig('Thresholding: Precision, Recall and F-2 vs Threshold.png')"
      ]
    },
    {
      "cell_type": "code",
      "execution_count": null,
      "metadata": {
        "id": "c76abb28",
        "outputId": "298017f5-8d6b-41bc-a161-ecab05896f00"
      },
      "outputs": [
        {
          "data": {
            "text/html": [
              "<div>\n",
              "<style scoped>\n",
              "    .dataframe tbody tr th:only-of-type {\n",
              "        vertical-align: middle;\n",
              "    }\n",
              "\n",
              "    .dataframe tbody tr th {\n",
              "        vertical-align: top;\n",
              "    }\n",
              "\n",
              "    .dataframe thead th {\n",
              "        text-align: right;\n",
              "    }\n",
              "</style>\n",
              "<table border=\"1\" class=\"dataframe\">\n",
              "  <thead>\n",
              "    <tr style=\"text-align: right;\">\n",
              "      <th></th>\n",
              "      <th>Threshold</th>\n",
              "      <th>Precision</th>\n",
              "      <th>Recall</th>\n",
              "      <th>F-2 Score</th>\n",
              "      <th>True Positive</th>\n",
              "      <th>False Positive</th>\n",
              "      <th>True_Negative</th>\n",
              "      <th>False Negative</th>\n",
              "    </tr>\n",
              "  </thead>\n",
              "  <tbody>\n",
              "    <tr>\n",
              "      <th>9</th>\n",
              "      <td>0.45</td>\n",
              "      <td>0.993032</td>\n",
              "      <td>0.997436</td>\n",
              "      <td>0.996552</td>\n",
              "      <td>28787</td>\n",
              "      <td>202</td>\n",
              "      <td>28949</td>\n",
              "      <td>74</td>\n",
              "    </tr>\n",
              "    <tr>\n",
              "      <th>10</th>\n",
              "      <td>0.50</td>\n",
              "      <td>0.995051</td>\n",
              "      <td>0.996258</td>\n",
              "      <td>0.996016</td>\n",
              "      <td>28753</td>\n",
              "      <td>143</td>\n",
              "      <td>29008</td>\n",
              "      <td>108</td>\n",
              "    </tr>\n",
              "  </tbody>\n",
              "</table>\n",
              "</div>"
            ],
            "text/plain": [
              "    Threshold  Precision    Recall  F-2 Score  True Positive  False Positive  \\\n",
              "9        0.45   0.993032  0.997436   0.996552          28787             202   \n",
              "10       0.50   0.995051  0.996258   0.996016          28753             143   \n",
              "\n",
              "    True_Negative  False Negative  \n",
              "9           28949              74  \n",
              "10          29008             108  "
            ]
          },
          "execution_count": 201,
          "metadata": {},
          "output_type": "execute_result"
        }
      ],
      "source": [
        "df_threshold[df_threshold['Threshold'].isin([0.45, 0.5])]"
      ]
    },
    {
      "cell_type": "markdown",
      "metadata": {
        "id": "e4d474c1"
      },
      "source": [
        "Here we can see that when we optimize the threshold based on the F-2 score, as expected the recall increases slightly, the precision decreases slightly and the number of false negative cases decreases by more than half."
      ]
    },
    {
      "cell_type": "markdown",
      "metadata": {
        "id": "11da0dc3"
      },
      "source": [
        "When we set the threshold to the optimal threshold of 0.4, our precision decreases slightly but the recall and f-score increase.  We observe that the instances of false negative predictions decreases which is exactly what we would expect when setting the beta to 2."
      ]
    },
    {
      "cell_type": "markdown",
      "metadata": {
        "id": "e58e7556"
      },
      "source": [
        "# Step 9:  Evaluate Model with Text From a Different Source - Songs"
      ]
    },
    {
      "cell_type": "markdown",
      "metadata": {
        "id": "1f6a92e2"
      },
      "source": [
        "The model predicts the source of the text very well, however it would be interesting to see how well the model predicts outside of the context of a social media posting.  Therefore, I decided to apply the model to lyrics of songs.  A quick search online identified some songs about suicide and some that were not about suicide.  The top performing model was applied to see how well the model performed with this new material from a different medium.\n"
      ]
    },
    {
      "cell_type": "code",
      "execution_count": null,
      "metadata": {
        "id": "e55746c1"
      },
      "outputs": [],
      "source": [
        "teen_spirit = 'load up on guns bring your friends it is fun to lose and to pretend she is over bored and self assured oh no i know a dirty word hello hello hello how low hello hello hello how low hello hello hello how low hello hello hello with the lights out it is less dangerous here we are now entertain us i feel stupid and contagious here we are now entertain us a mulatto an albino a mosquito my libido yeah hey yay i am worse at what i do best and for this gift i feel blessed our little group has always been and always will until the end hello hello hello how low hello hello hello how low hello hello hello how low hello hello hello with the lights out it is less dangerous here we are now entertain us i feel stupid and contagious here we are now entertain us a mulatto an albino a mosquito my libido yeah hey yay and i forget just why i taste oh yeah i guess it makes me smile i found it hard was hard to find oh well whatever never mind hello hello hello how low hello hello hello how low hello hello hello how low hello hello hello with the lights out it is less dangerous here we are now entertain us i feel stupid and contagious here we are now entertain us a mulatto an albino a mosquito my libido a denial a denial a denial a denial a denial a denial a denial a denial a denial'\n",
        "save_myself ='i gave all my oxygen to people that could breathe i gave away my money and now we do not even speak i drove miles and miles but would you do the same for me oh honestly offered off my shoulder just for you to cry upon gave you constant shelter and a bed to keep you warm they gave me the heartache and in return i gave a song it goes on and on life can get you down so i just numb the way it feelsi drown it with a drink and out of date prescription pills and all the ones that love me they just left me on the shelf my farewell so before i save someone else i have got to save myself i gave you all my energy and i took away your pain because human beings are destined to radiate or dream what line do we stand upon because from here looks the same and only scars remain life can get you down so i just numb the way it feels i drown it with a drink and out of date prescription pills and all the ones that love me they just left me on the shelf my farewell so before i save someone else i have got to save myself but if do not then i will go back to where i am rescuing a stranger just because they needed saving just like that oh i am here again between the devil and the danger but i guess it is just my nature my dad was wrong because i am not like my mum because she would just smile and i am complaining in a song but it helps so before i save someone else i have got to save myself life can get you down so i just numb the way it feels i drown it with a drink and out of date prescription pills and all the ones that love me they just left me on the shelf my farewell so before i save someone else  i have got to save myself '\n",
        "everybody_hurts ='when your day is long and the night the night is yours alone when you are sure you have had enough of this life well hang on do not let yourself go because everybody cries everybody hurts sometimes ometimes everything is wrong now its time to sing along when your day is night alone hold on hold on if you feel like letting go hold on if you think you have had too much of this life well hang on because everybody hurts take comfort in your friends everybody hurts do not throw your hand oh no do not throw your hand if you feel like you are alone no no no you are not alone if you are on your own in this life the days and nights are long when you think you have had too much of this life to hang on well everybody hurts sometimes everybody cries everybody hurts sometimes and everybody hurts sometimes so hold on hold on hold on hold on hold on hold on hold on hold on everybody hurts'\n",
        "happy_know_it = 'if you are happy and you know it clap your hands if you are happy and you know it then your face will surely show it if you are happy and you know if clap your hands'\n",
        "wonderful_world = 'i see trees of green red roses too i see them bloom for me and you and i think to myself what a wonderful world i see skies of blue and clouds of white the bright blessed day the dark sacred night and i think to myself what a wonderful world the colors of the rainbow so pretty in the sky are also on the faces of people going by i see friends shaking hands saying how do you do they are really saying i love you i hear babies crying i watch them grow they willl learn much more than i will ever know and i think to myself what a wonderful world yes i think to myself what a wonderful world ooh yes'\n",
        "r_roll = 'we are no strangers to love you know the rules and so do i a full commitment is what i am thinking of you would not get this from any other guy i just wanna tell you how i am feeling gotta make you understand never gonna give you up never gonna let you down never gonna run around and desert you never gonna make you cry never gonna say goodbye never gonna tell a lie and hurt you we have known each other for so long your heart has been aching but you are too shy to say it inside we both know what has been going on we know the game and we are gonna play it and if you ask me how i am feeling do not tell me you are too blind to see never gonna give you up never gonna let you down  never gonna run around and desert you never gonna make you cry never gonna say goodbye  never gonna tell a lie and hurt you never gonna give you up never gonna let you down never gonna run around and desert you never gonna make you cry never gonna say goodbye never gonna tell a lie and hurt you we have known each other for so long your heart has been aching but you are too shy to say it inside we both know what has been going on we know the game and we are gonna play it i just wanna tell you how i am feeling gotta make you understand never gonna give you up never gonna let you down never gonna run around and desert you never gonna make you cry never gonna say goodbye never gonna tell a lie and hurt you never gonna give you up never gonna let you down never gonna run around and desert you never gonna make you cry never gonna say goodbye never gonna tell a lie and hurt you never gonna give you up never gonna let you down never gonna run around and desert you never gonna make you cry never gonna say goodbye never gonna tell a lie and hurt you '\n",
        "adams_song = 'i never thought i would die alone i laughed the loudest who wouldd have known i trace the cord back to the wall no wonder it was never plugged in at all i took my time i hurried up the choice was mine i did not think enough i am too depressed to go on you will be sorry when i am gone i never conquered rarely came sixteen just held such better days days when i still felt alive we could not wait to get outside the world was wide too late to try the tour was over we had survived i could not wait until i got home to pass the time in my room alone i never thought i would die alone another six months i will be unknown give all my things to all my friends you will never step foot in my room again you will close it off board it up remember the time that i spilled the cup of apple juice in the hall please tell mom this is not her fault i never conquered rarely came sixteen just held such better days days when i still felt alive we could not wait to get outside the world was wide too late to try the tour was over we had survived i could not wait till i got home to pass the time in my room alone i never conquered rarely came tomorrow holds such better days days when i can still feel alive when i ca not wait to get outside the world is wide the time goes by the tour is over i have survived i can not wait until i get home to pass the time in my room alone'\n",
        "cemetary_drive = 'this night walk the dead in a solitary style and crash the cemetery gates in the dress your husband hates way down mark the grave where the search lights find us drinking by the mausoleum door and they found you on the bathroom floor i miss you i miss you so far and the collision of your kiss that made it so hard back home off the run singing songs that make you slit your wrists it is not that much fun staring down a loaded gun so, i will not stop dying will not stop lying if you want i will keep on crying did you get what you deserve is this what you always want me for i miss you i miss you so far and the collision of your kiss that made it so hard way down way down way down, way down i miss you i miss you so far and the collision of your kiss that made it so hard when will i miss you when will i miss you so far and the collision of your kiss that made it so hard made it so hard way down way down '\n",
        "walking_sunshine = 'oh ohhhh yeeeh i used to think maybe you loved me now baby i am sure  and i just cannot wait until the day when you knock on my door now everytime i go for the mailbox gotta hold myself down because i just cannot wait until you write me you are coming around i am walking on sunshine wooah i am walking on sunshine woooah i am walking on sunshine woooah and does it not feel good  hey alright now and dont it feel good hey yeah i used to think maybe you loved me now i know that it is true and i do not want to spend my whole life just waiting for you now i do not want you back for the weekend not back for a day no no no i said baby i just want you back and i want you to stay woah yeah i am walking on sunshine wooah i am walking on sunshine woooah i am walking on sunshine woooah and does it not feel good hey alright now and does it not feel good yeah oh yeah and does it feel good walking on sunshine walking on sunshine i feel alive i feel the love i feel the love that is really real i feel alive i feel the love i feel the love that is really real i am on sunshine baby oh oh yeah i am on sunshine baby oh i am walking on sunshine wooah i am walking on sunshine wooah i am walking on sunshine woooah and does it not feel good hey alright now and does it feel good i will say it say it say it again now and dooes it feel good ohhhh yeahhhh and does it feel good now does it does it does it does it does it does it feel good i will say it say it say it again now and does it feel good now does it does it does it does it does it does it feel good tell me tell me tell me again now and does it feel good oh yeah and does it feel good oh does it feel good does it feel good '\n",
        "haunted = 'louder louder the voices in my head whispers taunting all the things you said faster the days go by and i am still stuck in this moment of wanting you here time in the blink of an eye you held my hand you held me tight now you are gone and i am still crying shocked broken i am dying inside where are you i need you do not leave me here on my own speak to me be near me i can not survive unless i know you are with me shadows linger only to my eye i see you i feel you do not leave my side it is not fair just when i found my world they took you they broke you they tore out your heart i miss you you hurt me you left with a smile mistaken your sadness was hiding inside now all that is left are the pieces to find the mystery you kept the soul behind a guise where are you i need you do not leave me here on my own speak to me be near me i can not survive unless i know you are with me why did you go all these questions run through my mind i wish i could not feel at all let me be numb i am starting to fall where are you i need you do not leave me here on my own speak to me be near me i can not survive unless i know you are with me where are you where are you you were smiling'"
      ]
    },
    {
      "cell_type": "code",
      "execution_count": null,
      "metadata": {
        "id": "dcd17ec3"
      },
      "outputs": [],
      "source": [
        "dict1 = {'title':['Smells Like Teen Spirit', 'Walking on Sunshine', 'Everybody Hurts', 'Happy and You Know It', 'Wonderful World', 'Never Gonna Give You Up', 'Save Myself', 'Adams Song', 'Cemetary Drive', 'Haunted'],\n",
        "        'song':[teen_spirit, walking_sunshine, everybody_hurts, happy_know_it, wonderful_world, r_roll, save_myself, adams_song, cemetary_drive, haunted],\n",
        "        'length':[len(teen_spirit), len(walking_sunshine), len(everybody_hurts), len(happy_know_it), len(wonderful_world), len(r_roll), len(save_myself), len(adams_song), len(cemetary_drive), len(haunted)], \n",
        "         'class': [0, 0, 1 ,0, 0, 0, 1, 1, 1, 1]\n",
        "       }"
      ]
    },
    {
      "cell_type": "code",
      "execution_count": null,
      "metadata": {
        "id": "8c9f306f"
      },
      "outputs": [],
      "source": [
        "df_song = pd.DataFrame(dict1)"
      ]
    },
    {
      "cell_type": "code",
      "execution_count": null,
      "metadata": {
        "id": "a801b7ac",
        "outputId": "60e5a206-4cab-43b0-cb8a-a04613eb04f6"
      },
      "outputs": [
        {
          "data": {
            "text/html": [
              "<div>\n",
              "<style scoped>\n",
              "    .dataframe tbody tr th:only-of-type {\n",
              "        vertical-align: middle;\n",
              "    }\n",
              "\n",
              "    .dataframe tbody tr th {\n",
              "        vertical-align: top;\n",
              "    }\n",
              "\n",
              "    .dataframe thead th {\n",
              "        text-align: right;\n",
              "    }\n",
              "</style>\n",
              "<table border=\"1\" class=\"dataframe\">\n",
              "  <thead>\n",
              "    <tr style=\"text-align: right;\">\n",
              "      <th></th>\n",
              "      <th>title</th>\n",
              "      <th>song</th>\n",
              "      <th>length</th>\n",
              "      <th>class</th>\n",
              "    </tr>\n",
              "  </thead>\n",
              "  <tbody>\n",
              "    <tr>\n",
              "      <th>0</th>\n",
              "      <td>Smells Like Teen Spirit</td>\n",
              "      <td>load up on guns bring your friends it is fun t...</td>\n",
              "      <td>1280</td>\n",
              "      <td>0</td>\n",
              "    </tr>\n",
              "    <tr>\n",
              "      <th>1</th>\n",
              "      <td>Walking on Sunshine</td>\n",
              "      <td>oh ohhhh yeeeh i used to think maybe you loved...</td>\n",
              "      <td>1679</td>\n",
              "      <td>0</td>\n",
              "    </tr>\n",
              "    <tr>\n",
              "      <th>2</th>\n",
              "      <td>Everybody Hurts</td>\n",
              "      <td>when your day is long and the night the night ...</td>\n",
              "      <td>886</td>\n",
              "      <td>1</td>\n",
              "    </tr>\n",
              "    <tr>\n",
              "      <th>3</th>\n",
              "      <td>Happy and You Know It</td>\n",
              "      <td>if you are happy and you know it clap your han...</td>\n",
              "      <td>165</td>\n",
              "      <td>0</td>\n",
              "    </tr>\n",
              "    <tr>\n",
              "      <th>4</th>\n",
              "      <td>Wonderful World</td>\n",
              "      <td>i see trees of green red roses too i see them ...</td>\n",
              "      <td>598</td>\n",
              "      <td>0</td>\n",
              "    </tr>\n",
              "  </tbody>\n",
              "</table>\n",
              "</div>"
            ],
            "text/plain": [
              "                     title                                               song  \\\n",
              "0  Smells Like Teen Spirit  load up on guns bring your friends it is fun t...   \n",
              "1      Walking on Sunshine  oh ohhhh yeeeh i used to think maybe you loved...   \n",
              "2          Everybody Hurts  when your day is long and the night the night ...   \n",
              "3    Happy and You Know It  if you are happy and you know it clap your han...   \n",
              "4          Wonderful World  i see trees of green red roses too i see them ...   \n",
              "\n",
              "   length  class  \n",
              "0    1280      0  \n",
              "1    1679      0  \n",
              "2     886      1  \n",
              "3     165      0  \n",
              "4     598      0  "
            ]
          },
          "execution_count": 205,
          "metadata": {},
          "output_type": "execute_result"
        }
      ],
      "source": [
        "df_song.head()"
      ]
    },
    {
      "cell_type": "code",
      "execution_count": null,
      "metadata": {
        "id": "3fa5786c"
      },
      "outputs": [],
      "source": [
        "df_song['repetition'] = ''"
      ]
    },
    {
      "cell_type": "code",
      "execution_count": null,
      "metadata": {
        "id": "24202776",
        "outputId": "0c18a06d-8c24-442a-838d-b1374d910641"
      },
      "outputs": [
        {
          "data": {
            "text/html": [
              "<div>\n",
              "<style scoped>\n",
              "    .dataframe tbody tr th:only-of-type {\n",
              "        vertical-align: middle;\n",
              "    }\n",
              "\n",
              "    .dataframe tbody tr th {\n",
              "        vertical-align: top;\n",
              "    }\n",
              "\n",
              "    .dataframe thead th {\n",
              "        text-align: right;\n",
              "    }\n",
              "</style>\n",
              "<table border=\"1\" class=\"dataframe\">\n",
              "  <thead>\n",
              "    <tr style=\"text-align: right;\">\n",
              "      <th></th>\n",
              "      <th>title</th>\n",
              "      <th>song</th>\n",
              "      <th>length</th>\n",
              "      <th>class</th>\n",
              "      <th>repetition</th>\n",
              "    </tr>\n",
              "  </thead>\n",
              "  <tbody>\n",
              "    <tr>\n",
              "      <th>0</th>\n",
              "      <td>Smells Like Teen Spirit</td>\n",
              "      <td>load up on guns bring your friends it is fun t...</td>\n",
              "      <td>1280</td>\n",
              "      <td>0</td>\n",
              "      <td></td>\n",
              "    </tr>\n",
              "    <tr>\n",
              "      <th>1</th>\n",
              "      <td>Walking on Sunshine</td>\n",
              "      <td>oh ohhhh yeeeh i used to think maybe you loved...</td>\n",
              "      <td>1679</td>\n",
              "      <td>0</td>\n",
              "      <td></td>\n",
              "    </tr>\n",
              "    <tr>\n",
              "      <th>2</th>\n",
              "      <td>Everybody Hurts</td>\n",
              "      <td>when your day is long and the night the night ...</td>\n",
              "      <td>886</td>\n",
              "      <td>1</td>\n",
              "      <td></td>\n",
              "    </tr>\n",
              "    <tr>\n",
              "      <th>3</th>\n",
              "      <td>Happy and You Know It</td>\n",
              "      <td>if you are happy and you know it clap your han...</td>\n",
              "      <td>165</td>\n",
              "      <td>0</td>\n",
              "      <td></td>\n",
              "    </tr>\n",
              "    <tr>\n",
              "      <th>4</th>\n",
              "      <td>Wonderful World</td>\n",
              "      <td>i see trees of green red roses too i see them ...</td>\n",
              "      <td>598</td>\n",
              "      <td>0</td>\n",
              "      <td></td>\n",
              "    </tr>\n",
              "  </tbody>\n",
              "</table>\n",
              "</div>"
            ],
            "text/plain": [
              "                     title                                               song  \\\n",
              "0  Smells Like Teen Spirit  load up on guns bring your friends it is fun t...   \n",
              "1      Walking on Sunshine  oh ohhhh yeeeh i used to think maybe you loved...   \n",
              "2          Everybody Hurts  when your day is long and the night the night ...   \n",
              "3    Happy and You Know It  if you are happy and you know it clap your han...   \n",
              "4          Wonderful World  i see trees of green red roses too i see them ...   \n",
              "\n",
              "   length  class repetition  \n",
              "0    1280      0             \n",
              "1    1679      0             \n",
              "2     886      1             \n",
              "3     165      0             \n",
              "4     598      0             "
            ]
          },
          "execution_count": 207,
          "metadata": {},
          "output_type": "execute_result"
        }
      ],
      "source": [
        "df_song.head()"
      ]
    },
    {
      "cell_type": "code",
      "execution_count": null,
      "metadata": {
        "id": "02935c7d"
      },
      "outputs": [],
      "source": [
        "for j in range(len(df_song)):\n",
        "    words = df_song['song'].iloc[j].split(\" \")  \n",
        "    count = 0; \n",
        "    for i in range(len(words)-1):  \n",
        "        if words[i] == words[i+1]:\n",
        "            count = count + 1\n",
        "\n",
        "        df_song['repetition'].iloc[j] = count"
      ]
    },
    {
      "cell_type": "code",
      "execution_count": null,
      "metadata": {
        "id": "6325a5e5",
        "outputId": "4be7c0d1-b90c-482b-a74c-929885fc505f"
      },
      "outputs": [
        {
          "data": {
            "text/html": [
              "<div>\n",
              "<style scoped>\n",
              "    .dataframe tbody tr th:only-of-type {\n",
              "        vertical-align: middle;\n",
              "    }\n",
              "\n",
              "    .dataframe tbody tr th {\n",
              "        vertical-align: top;\n",
              "    }\n",
              "\n",
              "    .dataframe thead th {\n",
              "        text-align: right;\n",
              "    }\n",
              "</style>\n",
              "<table border=\"1\" class=\"dataframe\">\n",
              "  <thead>\n",
              "    <tr style=\"text-align: right;\">\n",
              "      <th></th>\n",
              "      <th>title</th>\n",
              "      <th>song</th>\n",
              "      <th>length</th>\n",
              "      <th>class</th>\n",
              "      <th>repetition</th>\n",
              "    </tr>\n",
              "  </thead>\n",
              "  <tbody>\n",
              "    <tr>\n",
              "      <th>0</th>\n",
              "      <td>Smells Like Teen Spirit</td>\n",
              "      <td>load up on guns bring your friends it is fun t...</td>\n",
              "      <td>1280</td>\n",
              "      <td>0</td>\n",
              "      <td>24</td>\n",
              "    </tr>\n",
              "    <tr>\n",
              "      <th>1</th>\n",
              "      <td>Walking on Sunshine</td>\n",
              "      <td>oh ohhhh yeeeh i used to think maybe you loved...</td>\n",
              "      <td>1679</td>\n",
              "      <td>0</td>\n",
              "      <td>3</td>\n",
              "    </tr>\n",
              "    <tr>\n",
              "      <th>2</th>\n",
              "      <td>Everybody Hurts</td>\n",
              "      <td>when your day is long and the night the night ...</td>\n",
              "      <td>886</td>\n",
              "      <td>1</td>\n",
              "      <td>2</td>\n",
              "    </tr>\n",
              "    <tr>\n",
              "      <th>3</th>\n",
              "      <td>Happy and You Know It</td>\n",
              "      <td>if you are happy and you know it clap your han...</td>\n",
              "      <td>165</td>\n",
              "      <td>0</td>\n",
              "      <td>0</td>\n",
              "    </tr>\n",
              "    <tr>\n",
              "      <th>4</th>\n",
              "      <td>Wonderful World</td>\n",
              "      <td>i see trees of green red roses too i see them ...</td>\n",
              "      <td>598</td>\n",
              "      <td>0</td>\n",
              "      <td>0</td>\n",
              "    </tr>\n",
              "  </tbody>\n",
              "</table>\n",
              "</div>"
            ],
            "text/plain": [
              "                     title                                               song  \\\n",
              "0  Smells Like Teen Spirit  load up on guns bring your friends it is fun t...   \n",
              "1      Walking on Sunshine  oh ohhhh yeeeh i used to think maybe you loved...   \n",
              "2          Everybody Hurts  when your day is long and the night the night ...   \n",
              "3    Happy and You Know It  if you are happy and you know it clap your han...   \n",
              "4          Wonderful World  i see trees of green red roses too i see them ...   \n",
              "\n",
              "   length  class repetition  \n",
              "0    1280      0         24  \n",
              "1    1679      0          3  \n",
              "2     886      1          2  \n",
              "3     165      0          0  \n",
              "4     598      0          0  "
            ]
          },
          "execution_count": 209,
          "metadata": {},
          "output_type": "execute_result"
        }
      ],
      "source": [
        "df_song.head()"
      ]
    },
    {
      "cell_type": "code",
      "execution_count": null,
      "metadata": {
        "id": "e81324ed"
      },
      "outputs": [],
      "source": [
        "df_song['sentiment'] = ''\n",
        "df_song['length'] = ''\n",
        "df_song['flesch_kincaid'] = ''"
      ]
    },
    {
      "cell_type": "code",
      "execution_count": null,
      "metadata": {
        "id": "5b56b74d"
      },
      "outputs": [],
      "source": [
        "from textblob import TextBlob\n",
        "import textstat\n",
        "for i in range(len(df_song)):\n",
        "    df_song['length'].iloc[i] = len(df_song['song'].iloc[i])\n",
        "    df_song['sentiment'].iloc[i] = TextBlob(df_song['song'].iloc[i]).polarity\n",
        "    df_song['flesch_kincaid'].iloc[i] = textstat.flesch_kincaid_grade(df_song['song'].iloc[i])"
      ]
    },
    {
      "cell_type": "code",
      "execution_count": null,
      "metadata": {
        "id": "2df6ee98",
        "outputId": "f308c110-e1cd-41a4-c7a3-c7af69786aa7"
      },
      "outputs": [
        {
          "data": {
            "text/html": [
              "<div>\n",
              "<style scoped>\n",
              "    .dataframe tbody tr th:only-of-type {\n",
              "        vertical-align: middle;\n",
              "    }\n",
              "\n",
              "    .dataframe tbody tr th {\n",
              "        vertical-align: top;\n",
              "    }\n",
              "\n",
              "    .dataframe thead th {\n",
              "        text-align: right;\n",
              "    }\n",
              "</style>\n",
              "<table border=\"1\" class=\"dataframe\">\n",
              "  <thead>\n",
              "    <tr style=\"text-align: right;\">\n",
              "      <th></th>\n",
              "      <th>title</th>\n",
              "      <th>song</th>\n",
              "      <th>length</th>\n",
              "      <th>class</th>\n",
              "      <th>repetition</th>\n",
              "      <th>sentiment</th>\n",
              "      <th>flesch_kincaid</th>\n",
              "    </tr>\n",
              "  </thead>\n",
              "  <tbody>\n",
              "    <tr>\n",
              "      <th>0</th>\n",
              "      <td>Smells Like Teen Spirit</td>\n",
              "      <td>load up on guns bring your friends it is fun t...</td>\n",
              "      <td>1280</td>\n",
              "      <td>0</td>\n",
              "      <td>24</td>\n",
              "      <td>-0.19892</td>\n",
              "      <td>102.7</td>\n",
              "    </tr>\n",
              "    <tr>\n",
              "      <th>1</th>\n",
              "      <td>Walking on Sunshine</td>\n",
              "      <td>oh ohhhh yeeeh i used to think maybe you loved...</td>\n",
              "      <td>1679</td>\n",
              "      <td>0</td>\n",
              "      <td>3</td>\n",
              "      <td>0.48771</td>\n",
              "      <td>141.7</td>\n",
              "    </tr>\n",
              "    <tr>\n",
              "      <th>2</th>\n",
              "      <td>Everybody Hurts</td>\n",
              "      <td>when your day is long and the night the night ...</td>\n",
              "      <td>886</td>\n",
              "      <td>1</td>\n",
              "      <td>2</td>\n",
              "      <td>0.1125</td>\n",
              "      <td>67.6</td>\n",
              "    </tr>\n",
              "    <tr>\n",
              "      <th>3</th>\n",
              "      <td>Happy and You Know It</td>\n",
              "      <td>if you are happy and you know it clap your han...</td>\n",
              "      <td>165</td>\n",
              "      <td>0</td>\n",
              "      <td>0</td>\n",
              "      <td>0.725</td>\n",
              "      <td>11.8</td>\n",
              "    </tr>\n",
              "    <tr>\n",
              "      <th>4</th>\n",
              "      <td>Wonderful World</td>\n",
              "      <td>i see trees of green red roses too i see them ...</td>\n",
              "      <td>598</td>\n",
              "      <td>0</td>\n",
              "      <td>0</td>\n",
              "      <td>0.373333</td>\n",
              "      <td>47.3</td>\n",
              "    </tr>\n",
              "    <tr>\n",
              "      <th>5</th>\n",
              "      <td>Never Gonna Give You Up</td>\n",
              "      <td>we are no strangers to love you know the rules...</td>\n",
              "      <td>1741</td>\n",
              "      <td>0</td>\n",
              "      <td>0</td>\n",
              "      <td>-0.158796</td>\n",
              "      <td>139.4</td>\n",
              "    </tr>\n",
              "    <tr>\n",
              "      <th>6</th>\n",
              "      <td>Save Myself</td>\n",
              "      <td>i gave all my oxygen to people that could brea...</td>\n",
              "      <td>1632</td>\n",
              "      <td>1</td>\n",
              "      <td>0</td>\n",
              "      <td>0.010606</td>\n",
              "      <td>135.5</td>\n",
              "    </tr>\n",
              "    <tr>\n",
              "      <th>7</th>\n",
              "      <td>Adams Song</td>\n",
              "      <td>i never thought i would die alone i laughed th...</td>\n",
              "      <td>1364</td>\n",
              "      <td>1</td>\n",
              "      <td>3</td>\n",
              "      <td>0.076</td>\n",
              "      <td>110.5</td>\n",
              "    </tr>\n",
              "    <tr>\n",
              "      <th>8</th>\n",
              "      <td>Cemetary Drive</td>\n",
              "      <td>this night walk the dead in a solitary style a...</td>\n",
              "      <td>911</td>\n",
              "      <td>1</td>\n",
              "      <td>0</td>\n",
              "      <td>-0.114418</td>\n",
              "      <td>73.8</td>\n",
              "    </tr>\n",
              "    <tr>\n",
              "      <th>9</th>\n",
              "      <td>Haunted</td>\n",
              "      <td>louder louder the voices in my head whispers t...</td>\n",
              "      <td>1181</td>\n",
              "      <td>1</td>\n",
              "      <td>3</td>\n",
              "      <td>-0.02381</td>\n",
              "      <td>100.7</td>\n",
              "    </tr>\n",
              "  </tbody>\n",
              "</table>\n",
              "</div>"
            ],
            "text/plain": [
              "                     title                                               song  \\\n",
              "0  Smells Like Teen Spirit  load up on guns bring your friends it is fun t...   \n",
              "1      Walking on Sunshine  oh ohhhh yeeeh i used to think maybe you loved...   \n",
              "2          Everybody Hurts  when your day is long and the night the night ...   \n",
              "3    Happy and You Know It  if you are happy and you know it clap your han...   \n",
              "4          Wonderful World  i see trees of green red roses too i see them ...   \n",
              "5  Never Gonna Give You Up  we are no strangers to love you know the rules...   \n",
              "6              Save Myself  i gave all my oxygen to people that could brea...   \n",
              "7               Adams Song  i never thought i would die alone i laughed th...   \n",
              "8           Cemetary Drive  this night walk the dead in a solitary style a...   \n",
              "9                  Haunted  louder louder the voices in my head whispers t...   \n",
              "\n",
              "  length  class repetition sentiment flesch_kincaid  \n",
              "0   1280      0         24  -0.19892          102.7  \n",
              "1   1679      0          3   0.48771          141.7  \n",
              "2    886      1          2    0.1125           67.6  \n",
              "3    165      0          0     0.725           11.8  \n",
              "4    598      0          0  0.373333           47.3  \n",
              "5   1741      0          0 -0.158796          139.4  \n",
              "6   1632      1          0  0.010606          135.5  \n",
              "7   1364      1          3     0.076          110.5  \n",
              "8    911      1          0 -0.114418           73.8  \n",
              "9   1181      1          3  -0.02381          100.7  "
            ]
          },
          "execution_count": 212,
          "metadata": {},
          "output_type": "execute_result"
        }
      ],
      "source": [
        "df_song"
      ]
    },
    {
      "cell_type": "code",
      "execution_count": null,
      "metadata": {
        "id": "eac8e94e"
      },
      "outputs": [],
      "source": [
        "text_matrix =  vectorizor_tfid.transform(df_song['song'])\n",
        "X_song = text_matrix.tocsc()\n",
        "y_song = df_song['class']"
      ]
    },
    {
      "cell_type": "code",
      "execution_count": null,
      "metadata": {
        "id": "df4e23bf",
        "outputId": "66565e51-329b-4a68-df29-c5c7792b2cf1"
      },
      "outputs": [
        {
          "data": {
            "text/plain": [
              "array([0, 0, 1, 0, 0, 0, 1, 1, 1, 1])"
            ]
          },
          "execution_count": 214,
          "metadata": {},
          "output_type": "execute_result"
        }
      ],
      "source": [
        "lr_tfid.predict(X_song)\n"
      ]
    },
    {
      "cell_type": "code",
      "execution_count": null,
      "metadata": {
        "id": "a9e4c029"
      },
      "outputs": [],
      "source": [
        "song_pred = lr_tfid.predict(X_song)"
      ]
    },
    {
      "cell_type": "code",
      "execution_count": null,
      "metadata": {
        "id": "e02e8f90",
        "outputId": "9df47c09-d76a-45a2-a198-78bf30f578d7"
      },
      "outputs": [
        {
          "data": {
            "text/html": [
              "<div>\n",
              "<style scoped>\n",
              "    .dataframe tbody tr th:only-of-type {\n",
              "        vertical-align: middle;\n",
              "    }\n",
              "\n",
              "    .dataframe tbody tr th {\n",
              "        vertical-align: top;\n",
              "    }\n",
              "\n",
              "    .dataframe thead th {\n",
              "        text-align: right;\n",
              "    }\n",
              "</style>\n",
              "<table border=\"1\" class=\"dataframe\">\n",
              "  <thead>\n",
              "    <tr style=\"text-align: right;\">\n",
              "      <th></th>\n",
              "      <th>Predicted Non-Suicide</th>\n",
              "      <th>Predicted Suicide</th>\n",
              "    </tr>\n",
              "  </thead>\n",
              "  <tbody>\n",
              "    <tr>\n",
              "      <th>Actual Non-Suicide</th>\n",
              "      <td>5</td>\n",
              "      <td>0</td>\n",
              "    </tr>\n",
              "    <tr>\n",
              "      <th>Actual Suicide</th>\n",
              "      <td>0</td>\n",
              "      <td>5</td>\n",
              "    </tr>\n",
              "  </tbody>\n",
              "</table>\n",
              "</div>"
            ],
            "text/plain": [
              "                    Predicted Non-Suicide  Predicted Suicide\n",
              "Actual Non-Suicide                      5                  0\n",
              "Actual Suicide                          0                  5"
            ]
          },
          "execution_count": 216,
          "metadata": {},
          "output_type": "execute_result"
        }
      ],
      "source": [
        "pd.DataFrame(confusion_matrix(y_song, song_pred), columns=['Predicted Non-Suicide', \"Predicted Suicide\"], index=['Actual Non-Suicide', 'Actual Suicide'])"
      ]
    },
    {
      "cell_type": "code",
      "execution_count": null,
      "metadata": {
        "id": "a8769522",
        "outputId": "f742526b-2517-47f8-8262-600d57fcef1d"
      },
      "outputs": [
        {
          "name": "stdout",
          "output_type": "stream",
          "text": [
            "Accuracy: 1.0\n",
            "Balanced accuracy: 1.0\n",
            "Precision score 1.0\n",
            "Recall score 1.0\n",
            "F1 score 1.0\n",
            "ROC_AUC Score 1.0\n"
          ]
        }
      ],
      "source": [
        "accuracy_song = metrics.accuracy_score(y_song,song_pred)\n",
        "balanced_accuracy_song = metrics.balanced_accuracy_score(y_song,song_pred)\n",
        "precision_song = metrics.precision_score(y_song,song_pred, pos_label = 1)\n",
        "recall_song = metrics.recall_score(y_song,song_pred, pos_label = 1)\n",
        "f1_song = metrics.f1_score(y_song,song_pred, pos_label = 1)\n",
        "roc_auc_song = metrics.roc_auc_score(y_song,song_pred)\n",
        "print(\"Accuracy:\", accuracy_song)\n",
        "print(\"Balanced accuracy:\", balanced_accuracy_song)\n",
        "print('Precision score' , precision_song)\n",
        "print('Recall score' , recall_song)\n",
        "print('F1 score' , f1_song)\n",
        "print('ROC_AUC Score' , roc_auc_song)"
      ]
    },
    {
      "cell_type": "markdown",
      "metadata": {
        "id": "42706a94"
      },
      "source": [
        "# Step 10:  Summary"
      ]
    },
    {
      "cell_type": "markdown",
      "metadata": {
        "id": "a08f30f3"
      },
      "source": [
        "The goal of this project was to build a model that would use natural language processing to determine whether social media postings were from a suicide forum or from a teenager forum.  The idea was to develop a tool that would be able to detect suicidal tendencies in the person posting on social media.  In the end, the tuned model was able to predict the source of posted text very well.  The ROC-AUC score of our final model was 0.995.  \n",
        "\n",
        "This seems accurate enough to be useful although further conversations with potential stakeholders could shed light on their needs for improved accuracy.\n",
        "\n",
        "Such stakeholders may include:\n",
        "\n",
        "* Schools or parents who wish to monitor children's social media activities.\n",
        "\n",
        "* Social media companies who may want to monitor social media postings for suicial tendencies .\n",
        "\n",
        "Additionally, a number of private firms including Betterhelp, Talkspace and 7 Cups offer online counseling including chat functions through an app.  The  ability to screen written communication through counseling apps could help therapy providers more easily identify patients who begin using language consitent with suicidal patients.  With appropriate permissions, these apps could even monitor outgoing text messages or other written communications of patients to flag language consistent with suicidal tendencies even if it is not directed at the therapist.\n"
      ]
    },
    {
      "cell_type": "markdown",
      "metadata": {
        "id": "eee59086"
      },
      "source": [
        "#  Step 11:  Next Steps"
      ]
    },
    {
      "cell_type": "markdown",
      "metadata": {
        "id": "c630203a"
      },
      "source": [
        "The model did a very good job of predicting the source of the text.  However, the language used in the teenager forum was markedly different from the language used in the suicide forum.  The differences in the group were fairly obvious.  It may be beneficial to conduct a similar analysis between to more similar groups ie depressed group and suicidal group in order to see how well this model or another model performs in the case of more subtle differences in the language between groups.  \n",
        "\n",
        "In addition, while a few features were engineered such as length of the posting, grade level, sentiment, and repetition, in the end the inclusion of these engineered features did not improve the performance of the model.  Conversations with potential stakeholders or experts in the field may yield additional feature engineering that could be performed to improve the performance of the model. \n",
        "\n",
        "Finally, a significant amount of time was spent optimizing the hyperparameters and each of our models included either one or two hyperparameters to tune. However, it is likely that including additional parameters in a future analysis could result in a more robust model."
      ]
    }
  ]
}