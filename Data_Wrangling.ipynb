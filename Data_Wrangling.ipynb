{
  "nbformat": 4,
  "nbformat_minor": 0,
  "metadata": {
    "colab": {
      "provenance": [],
      "mount_file_id": "164rumiFM6DMmL9E-sea5yBIxLFKNQP-x",
      "authorship_tag": "ABX9TyOmw8sanIS6aKs0dmJMKgqI",
      "include_colab_link": true
    },
    "kernelspec": {
      "name": "python3",
      "display_name": "Python 3"
    },
    "language_info": {
      "name": "python"
    }
  },
  "cells": [
    {
      "cell_type": "markdown",
      "metadata": {
        "id": "view-in-github",
        "colab_type": "text"
      },
      "source": [
        "<a href=\"https://colab.research.google.com/github/devarshi167/Suicide-detection111/blob/main/Data_Wrangling.ipynb\" target=\"_parent\"><img src=\"https://colab.research.google.com/assets/colab-badge.svg\" alt=\"Open In Colab\"/></a>"
      ]
    },
    {
      "cell_type": "markdown",
      "metadata": {
        "id": "95c1111f"
      },
      "source": [
        "# **Data Wrangling**"
      ]
    },
    {
      "cell_type": "markdown",
      "metadata": {
        "id": "3901d8cc"
      },
      "source": [
        "\n",
        "\n",
        "```\n",
        "\n",
        "# Step 1:  Importing headerfiles"
      ]
    },
    {
      "cell_type": "code",
      "execution_count": null,
      "metadata": {
        "id": "c298676e",
        "colab": {
          "base_uri": "https://localhost:8080/"
        },
        "outputId": "86e5ac4d-03f0-4293-896c-e078b6edc8ba"
      },
      "outputs": [
        {
          "output_type": "stream",
          "name": "stdout",
          "text": [
            "Looking in indexes: https://pypi.org/simple, https://us-python.pkg.dev/colab-wheels/public/simple/\n",
            "Requirement already satisfied: watermark in /usr/local/lib/python3.9/dist-packages (2.3.1)\n",
            "Requirement already satisfied: ipython in /usr/local/lib/python3.9/dist-packages (from watermark) (7.34.0)\n",
            "Requirement already satisfied: jedi>=0.16 in /usr/local/lib/python3.9/dist-packages (from ipython->watermark) (0.18.2)\n",
            "Requirement already satisfied: prompt-toolkit!=3.0.0,!=3.0.1,<3.1.0,>=2.0.0 in /usr/local/lib/python3.9/dist-packages (from ipython->watermark) (3.0.38)\n",
            "Requirement already satisfied: pickleshare in /usr/local/lib/python3.9/dist-packages (from ipython->watermark) (0.7.5)\n",
            "Requirement already satisfied: traitlets>=4.2 in /usr/local/lib/python3.9/dist-packages (from ipython->watermark) (5.7.1)\n",
            "Requirement already satisfied: backcall in /usr/local/lib/python3.9/dist-packages (from ipython->watermark) (0.2.0)\n",
            "Requirement already satisfied: pygments in /usr/local/lib/python3.9/dist-packages (from ipython->watermark) (2.14.0)\n",
            "Requirement already satisfied: pexpect>4.3 in /usr/local/lib/python3.9/dist-packages (from ipython->watermark) (4.8.0)\n",
            "Requirement already satisfied: decorator in /usr/local/lib/python3.9/dist-packages (from ipython->watermark) (4.4.2)\n",
            "Requirement already satisfied: setuptools>=18.5 in /usr/local/lib/python3.9/dist-packages (from ipython->watermark) (67.6.1)\n",
            "Requirement already satisfied: matplotlib-inline in /usr/local/lib/python3.9/dist-packages (from ipython->watermark) (0.1.6)\n",
            "Requirement already satisfied: parso<0.9.0,>=0.8.0 in /usr/local/lib/python3.9/dist-packages (from jedi>=0.16->ipython->watermark) (0.8.3)\n",
            "Requirement already satisfied: ptyprocess>=0.5 in /usr/local/lib/python3.9/dist-packages (from pexpect>4.3->ipython->watermark) (0.7.0)\n",
            "Requirement already satisfied: wcwidth in /usr/local/lib/python3.9/dist-packages (from prompt-toolkit!=3.0.0,!=3.0.1,<3.1.0,>=2.0.0->ipython->watermark) (0.2.6)\n",
            "Looking in indexes: https://pypi.org/simple, https://us-python.pkg.dev/colab-wheels/public/simple/\n",
            "Requirement already satisfied: textstat in /usr/local/lib/python3.9/dist-packages (0.7.3)\n",
            "Requirement already satisfied: pyphen in /usr/local/lib/python3.9/dist-packages (from textstat) (0.14.0)\n"
          ]
        }
      ],
      "source": [
        "import numpy as np\n",
        "import scipy as sp\n",
        "import matplotlib as mpl\n",
        "import matplotlib.cm as cm\n",
        "import matplotlib.pyplot as plt\n",
        "import pandas as pd\n",
        "import seaborn as sns\n",
        "from six.moves import range\n",
        "from sklearn.feature_extraction.text import CountVectorizer\n",
        "from tqdm import tqdm \n",
        "from nltk.tokenize import word_tokenize\n",
        "from nltk.stem import WordNetLemmatizer\n",
        "from collections import Counter\n",
        "!pip install watermark\n",
        "!pip install textstat\n",
        "import textstat\n",
        "import re\n",
        "import string\n",
        "\n",
        "#%load_ext watermark\n",
        "from spacy.lang.en.stop_words import STOP_WORDS\n",
        "\n",
        "import warnings\n",
        "warnings.filterwarnings(\"ignore\")\n",
        "\n"
      ]
    },
    {
      "cell_type": "markdown",
      "metadata": {
        "id": "b124feb1"
      },
      "source": [
        "# Step 2:  Load the Data"
      ]
    },
    {
      "cell_type": "code",
      "execution_count": null,
      "metadata": {
        "id": "8fc4a5f1"
      },
      "outputs": [],
      "source": [
        "df = pd.read_csv('/content/drive/MyDrive/SUICIDE DETECTION/Suicide_Detection.csv')"
      ]
    },
    {
      "cell_type": "markdown",
      "metadata": {
        "id": "3b748d03"
      },
      "source": [
        "# Step 3:  Look at Summary of Data"
      ]
    },
    {
      "cell_type": "code",
      "execution_count": null,
      "metadata": {
        "id": "7100dfc4",
        "outputId": "665744f1-eb54-4c9c-bed6-8d155f0cc712",
        "colab": {
          "base_uri": "https://localhost:8080/"
        }
      },
      "outputs": [
        {
          "output_type": "stream",
          "name": "stdout",
          "text": [
            "<class 'pandas.core.frame.DataFrame'>\n",
            "RangeIndex: 232074 entries, 0 to 232073\n",
            "Data columns (total 3 columns):\n",
            " #   Column      Non-Null Count   Dtype \n",
            "---  ------      --------------   ----- \n",
            " 0   Unnamed: 0  232074 non-null  int64 \n",
            " 1   text        232074 non-null  object\n",
            " 2   class       232074 non-null  object\n",
            "dtypes: int64(1), object(2)\n",
            "memory usage: 5.3+ MB\n"
          ]
        }
      ],
      "source": [
        "df.info()"
      ]
    },
    {
      "cell_type": "code",
      "execution_count": null,
      "metadata": {
        "id": "099b0676",
        "outputId": "76ef105c-db76-4917-db8c-e30fd2cb500e",
        "colab": {
          "base_uri": "https://localhost:8080/",
          "height": 206
        }
      },
      "outputs": [
        {
          "output_type": "execute_result",
          "data": {
            "text/plain": [
              "   Unnamed: 0                                               text        class\n",
              "0           2  Ex Wife Threatening SuicideRecently I left my ...      suicide\n",
              "1           3  Am I weird I don't get affected by compliments...  non-suicide\n",
              "2           4  Finally 2020 is almost over... So I can never ...  non-suicide\n",
              "3           8          i need helpjust help me im crying so hard      suicide\n",
              "4           9  I’m so lostHello, my name is Adam (16) and I’v...      suicide"
            ],
            "text/html": [
              "\n",
              "  <div id=\"df-04e0d63d-221a-4bb7-b83d-79ae95ef589d\">\n",
              "    <div class=\"colab-df-container\">\n",
              "      <div>\n",
              "<style scoped>\n",
              "    .dataframe tbody tr th:only-of-type {\n",
              "        vertical-align: middle;\n",
              "    }\n",
              "\n",
              "    .dataframe tbody tr th {\n",
              "        vertical-align: top;\n",
              "    }\n",
              "\n",
              "    .dataframe thead th {\n",
              "        text-align: right;\n",
              "    }\n",
              "</style>\n",
              "<table border=\"1\" class=\"dataframe\">\n",
              "  <thead>\n",
              "    <tr style=\"text-align: right;\">\n",
              "      <th></th>\n",
              "      <th>Unnamed: 0</th>\n",
              "      <th>text</th>\n",
              "      <th>class</th>\n",
              "    </tr>\n",
              "  </thead>\n",
              "  <tbody>\n",
              "    <tr>\n",
              "      <th>0</th>\n",
              "      <td>2</td>\n",
              "      <td>Ex Wife Threatening SuicideRecently I left my ...</td>\n",
              "      <td>suicide</td>\n",
              "    </tr>\n",
              "    <tr>\n",
              "      <th>1</th>\n",
              "      <td>3</td>\n",
              "      <td>Am I weird I don't get affected by compliments...</td>\n",
              "      <td>non-suicide</td>\n",
              "    </tr>\n",
              "    <tr>\n",
              "      <th>2</th>\n",
              "      <td>4</td>\n",
              "      <td>Finally 2020 is almost over... So I can never ...</td>\n",
              "      <td>non-suicide</td>\n",
              "    </tr>\n",
              "    <tr>\n",
              "      <th>3</th>\n",
              "      <td>8</td>\n",
              "      <td>i need helpjust help me im crying so hard</td>\n",
              "      <td>suicide</td>\n",
              "    </tr>\n",
              "    <tr>\n",
              "      <th>4</th>\n",
              "      <td>9</td>\n",
              "      <td>I’m so lostHello, my name is Adam (16) and I’v...</td>\n",
              "      <td>suicide</td>\n",
              "    </tr>\n",
              "  </tbody>\n",
              "</table>\n",
              "</div>\n",
              "      <button class=\"colab-df-convert\" onclick=\"convertToInteractive('df-04e0d63d-221a-4bb7-b83d-79ae95ef589d')\"\n",
              "              title=\"Convert this dataframe to an interactive table.\"\n",
              "              style=\"display:none;\">\n",
              "        \n",
              "  <svg xmlns=\"http://www.w3.org/2000/svg\" height=\"24px\"viewBox=\"0 0 24 24\"\n",
              "       width=\"24px\">\n",
              "    <path d=\"M0 0h24v24H0V0z\" fill=\"none\"/>\n",
              "    <path d=\"M18.56 5.44l.94 2.06.94-2.06 2.06-.94-2.06-.94-.94-2.06-.94 2.06-2.06.94zm-11 1L8.5 8.5l.94-2.06 2.06-.94-2.06-.94L8.5 2.5l-.94 2.06-2.06.94zm10 10l.94 2.06.94-2.06 2.06-.94-2.06-.94-.94-2.06-.94 2.06-2.06.94z\"/><path d=\"M17.41 7.96l-1.37-1.37c-.4-.4-.92-.59-1.43-.59-.52 0-1.04.2-1.43.59L10.3 9.45l-7.72 7.72c-.78.78-.78 2.05 0 2.83L4 21.41c.39.39.9.59 1.41.59.51 0 1.02-.2 1.41-.59l7.78-7.78 2.81-2.81c.8-.78.8-2.07 0-2.86zM5.41 20L4 18.59l7.72-7.72 1.47 1.35L5.41 20z\"/>\n",
              "  </svg>\n",
              "      </button>\n",
              "      \n",
              "  <style>\n",
              "    .colab-df-container {\n",
              "      display:flex;\n",
              "      flex-wrap:wrap;\n",
              "      gap: 12px;\n",
              "    }\n",
              "\n",
              "    .colab-df-convert {\n",
              "      background-color: #E8F0FE;\n",
              "      border: none;\n",
              "      border-radius: 50%;\n",
              "      cursor: pointer;\n",
              "      display: none;\n",
              "      fill: #1967D2;\n",
              "      height: 32px;\n",
              "      padding: 0 0 0 0;\n",
              "      width: 32px;\n",
              "    }\n",
              "\n",
              "    .colab-df-convert:hover {\n",
              "      background-color: #E2EBFA;\n",
              "      box-shadow: 0px 1px 2px rgba(60, 64, 67, 0.3), 0px 1px 3px 1px rgba(60, 64, 67, 0.15);\n",
              "      fill: #174EA6;\n",
              "    }\n",
              "\n",
              "    [theme=dark] .colab-df-convert {\n",
              "      background-color: #3B4455;\n",
              "      fill: #D2E3FC;\n",
              "    }\n",
              "\n",
              "    [theme=dark] .colab-df-convert:hover {\n",
              "      background-color: #434B5C;\n",
              "      box-shadow: 0px 1px 3px 1px rgba(0, 0, 0, 0.15);\n",
              "      filter: drop-shadow(0px 1px 2px rgba(0, 0, 0, 0.3));\n",
              "      fill: #FFFFFF;\n",
              "    }\n",
              "  </style>\n",
              "\n",
              "      <script>\n",
              "        const buttonEl =\n",
              "          document.querySelector('#df-04e0d63d-221a-4bb7-b83d-79ae95ef589d button.colab-df-convert');\n",
              "        buttonEl.style.display =\n",
              "          google.colab.kernel.accessAllowed ? 'block' : 'none';\n",
              "\n",
              "        async function convertToInteractive(key) {\n",
              "          const element = document.querySelector('#df-04e0d63d-221a-4bb7-b83d-79ae95ef589d');\n",
              "          const dataTable =\n",
              "            await google.colab.kernel.invokeFunction('convertToInteractive',\n",
              "                                                     [key], {});\n",
              "          if (!dataTable) return;\n",
              "\n",
              "          const docLinkHtml = 'Like what you see? Visit the ' +\n",
              "            '<a target=\"_blank\" href=https://colab.research.google.com/notebooks/data_table.ipynb>data table notebook</a>'\n",
              "            + ' to learn more about interactive tables.';\n",
              "          element.innerHTML = '';\n",
              "          dataTable['output_type'] = 'display_data';\n",
              "          await google.colab.output.renderOutput(dataTable, element);\n",
              "          const docLink = document.createElement('div');\n",
              "          docLink.innerHTML = docLinkHtml;\n",
              "          element.appendChild(docLink);\n",
              "        }\n",
              "      </script>\n",
              "    </div>\n",
              "  </div>\n",
              "  "
            ]
          },
          "metadata": {},
          "execution_count": 39
        }
      ],
      "source": [
        "df.head()"
      ]
    },
    {
      "cell_type": "markdown",
      "metadata": {
        "id": "7655a2f9"
      },
      "source": [
        "# Step 4:  Identify duplicates and missing data"
      ]
    },
    {
      "cell_type": "code",
      "execution_count": null,
      "metadata": {
        "id": "13a2f97e",
        "outputId": "92de313a-1bbf-4fe3-824d-e1e3b5cc4cae",
        "colab": {
          "base_uri": "https://localhost:8080/"
        }
      },
      "outputs": [
        {
          "output_type": "execute_result",
          "data": {
            "text/plain": [
              "232074"
            ]
          },
          "metadata": {},
          "execution_count": 40
        }
      ],
      "source": [
        "df['text'].value_counts().sum()"
      ]
    },
    {
      "cell_type": "markdown",
      "metadata": {
        "id": "9ab24146"
      },
      "source": [
        "This basically tells us that each entry  in the 'text' column is unique"
      ]
    },
    {
      "cell_type": "code",
      "execution_count": null,
      "metadata": {
        "id": "6b8a54c0",
        "outputId": "ff0ddcf3-27be-423a-cedf-6eed2afc3feb",
        "colab": {
          "base_uri": "https://localhost:8080/"
        }
      },
      "outputs": [
        {
          "output_type": "execute_result",
          "data": {
            "text/plain": [
              "False    232074\n",
              "Name: text, dtype: int64"
            ]
          },
          "metadata": {},
          "execution_count": 41
        }
      ],
      "source": [
        "df['text'].isnull().value_counts()"
      ]
    },
    {
      "cell_type": "code",
      "execution_count": null,
      "metadata": {
        "id": "50c2a647",
        "outputId": "13a78e9c-7839-438a-cd0a-57ab51ff8217",
        "colab": {
          "base_uri": "https://localhost:8080/"
        }
      },
      "outputs": [
        {
          "output_type": "execute_result",
          "data": {
            "text/plain": [
              "False    232074\n",
              "Name: class, dtype: int64"
            ]
          },
          "metadata": {},
          "execution_count": 42
        }
      ],
      "source": [
        "df['class'].isnull().value_counts()"
      ]
    },
    {
      "cell_type": "markdown",
      "metadata": {
        "id": "2f99e282"
      },
      "source": [
        "Great we do not appear to have any duplicates or missing data.  In this regard the data is very clean."
      ]
    },
    {
      "cell_type": "markdown",
      "metadata": {
        "id": "9998e142"
      },
      "source": [
        "# Step 5:  Text Normalization"
      ]
    },
    {
      "cell_type": "markdown",
      "metadata": {
        "id": "f2253493"
      },
      "source": [
        "#### Step 6a:  Convert all letters to lowercase."
      ]
    },
    {
      "cell_type": "code",
      "execution_count": null,
      "metadata": {
        "id": "d8b0a184"
      },
      "outputs": [],
      "source": [
        "df['text'] = df['text'].str.lower()"
      ]
    },
    {
      "cell_type": "markdown",
      "metadata": {
        "id": "1eb68b4d"
      },
      "source": [
        "#### Step 6b:  Convert urls and links to standardized text"
      ]
    },
    {
      "cell_type": "code",
      "execution_count": null,
      "metadata": {
        "id": "bd4bf4e8"
      },
      "outputs": [],
      "source": [
        "def standardize_url(text):\n",
        "    return re.sub(r'\\w+:\\/{2}[\\d\\w-]+(\\.[\\d\\w-]+)*(?:(?:\\/[^\\s/]*))*', '_link_to_site_', text)"
      ]
    },
    {
      "cell_type": "code",
      "execution_count": null,
      "metadata": {
        "id": "22844fc2"
      },
      "outputs": [],
      "source": [
        "# removing url\n",
        "\n",
        "for i in range(len(df)):\n",
        "    df['text'].iloc[i] = standardize_url(df['text'].iloc[i])"
      ]
    },
    {
      "cell_type": "markdown",
      "metadata": {
        "id": "b602baf2"
      },
      "source": [
        "#### Step 6c: Convert emojis and emoticons to text"
      ]
    },
    {
      "cell_type": "markdown",
      "metadata": {
        "id": "bed02e7f"
      },
      "source": [
        "First we will convert emojis to text."
      ]
    },
    {
      "cell_type": "code",
      "execution_count": null,
      "metadata": {
        "id": "c594df67",
        "outputId": "7025d622-466e-4554-dbd8-1ecccac140f4",
        "colab": {
          "base_uri": "https://localhost:8080/",
          "height": 206
        }
      },
      "outputs": [
        {
          "output_type": "execute_result",
          "data": {
            "text/plain": [
              "   Unnamed: 0                                               text        class\n",
              "0           2  ex wife threatening suiciderecently i left my ...      suicide\n",
              "1           3  am i weird i don't get affected by compliments...  non-suicide\n",
              "2           4  finally 2020 is almost over... so i can never ...  non-suicide\n",
              "3           8          i need helpjust help me im crying so hard      suicide\n",
              "4           9  i’m so losthello, my name is adam (16) and i’v...      suicide"
            ],
            "text/html": [
              "\n",
              "  <div id=\"df-c5642234-aa52-4f63-a905-58af0d38e0ea\">\n",
              "    <div class=\"colab-df-container\">\n",
              "      <div>\n",
              "<style scoped>\n",
              "    .dataframe tbody tr th:only-of-type {\n",
              "        vertical-align: middle;\n",
              "    }\n",
              "\n",
              "    .dataframe tbody tr th {\n",
              "        vertical-align: top;\n",
              "    }\n",
              "\n",
              "    .dataframe thead th {\n",
              "        text-align: right;\n",
              "    }\n",
              "</style>\n",
              "<table border=\"1\" class=\"dataframe\">\n",
              "  <thead>\n",
              "    <tr style=\"text-align: right;\">\n",
              "      <th></th>\n",
              "      <th>Unnamed: 0</th>\n",
              "      <th>text</th>\n",
              "      <th>class</th>\n",
              "    </tr>\n",
              "  </thead>\n",
              "  <tbody>\n",
              "    <tr>\n",
              "      <th>0</th>\n",
              "      <td>2</td>\n",
              "      <td>ex wife threatening suiciderecently i left my ...</td>\n",
              "      <td>suicide</td>\n",
              "    </tr>\n",
              "    <tr>\n",
              "      <th>1</th>\n",
              "      <td>3</td>\n",
              "      <td>am i weird i don't get affected by compliments...</td>\n",
              "      <td>non-suicide</td>\n",
              "    </tr>\n",
              "    <tr>\n",
              "      <th>2</th>\n",
              "      <td>4</td>\n",
              "      <td>finally 2020 is almost over... so i can never ...</td>\n",
              "      <td>non-suicide</td>\n",
              "    </tr>\n",
              "    <tr>\n",
              "      <th>3</th>\n",
              "      <td>8</td>\n",
              "      <td>i need helpjust help me im crying so hard</td>\n",
              "      <td>suicide</td>\n",
              "    </tr>\n",
              "    <tr>\n",
              "      <th>4</th>\n",
              "      <td>9</td>\n",
              "      <td>i’m so losthello, my name is adam (16) and i’v...</td>\n",
              "      <td>suicide</td>\n",
              "    </tr>\n",
              "  </tbody>\n",
              "</table>\n",
              "</div>\n",
              "      <button class=\"colab-df-convert\" onclick=\"convertToInteractive('df-c5642234-aa52-4f63-a905-58af0d38e0ea')\"\n",
              "              title=\"Convert this dataframe to an interactive table.\"\n",
              "              style=\"display:none;\">\n",
              "        \n",
              "  <svg xmlns=\"http://www.w3.org/2000/svg\" height=\"24px\"viewBox=\"0 0 24 24\"\n",
              "       width=\"24px\">\n",
              "    <path d=\"M0 0h24v24H0V0z\" fill=\"none\"/>\n",
              "    <path d=\"M18.56 5.44l.94 2.06.94-2.06 2.06-.94-2.06-.94-.94-2.06-.94 2.06-2.06.94zm-11 1L8.5 8.5l.94-2.06 2.06-.94-2.06-.94L8.5 2.5l-.94 2.06-2.06.94zm10 10l.94 2.06.94-2.06 2.06-.94-2.06-.94-.94-2.06-.94 2.06-2.06.94z\"/><path d=\"M17.41 7.96l-1.37-1.37c-.4-.4-.92-.59-1.43-.59-.52 0-1.04.2-1.43.59L10.3 9.45l-7.72 7.72c-.78.78-.78 2.05 0 2.83L4 21.41c.39.39.9.59 1.41.59.51 0 1.02-.2 1.41-.59l7.78-7.78 2.81-2.81c.8-.78.8-2.07 0-2.86zM5.41 20L4 18.59l7.72-7.72 1.47 1.35L5.41 20z\"/>\n",
              "  </svg>\n",
              "      </button>\n",
              "      \n",
              "  <style>\n",
              "    .colab-df-container {\n",
              "      display:flex;\n",
              "      flex-wrap:wrap;\n",
              "      gap: 12px;\n",
              "    }\n",
              "\n",
              "    .colab-df-convert {\n",
              "      background-color: #E8F0FE;\n",
              "      border: none;\n",
              "      border-radius: 50%;\n",
              "      cursor: pointer;\n",
              "      display: none;\n",
              "      fill: #1967D2;\n",
              "      height: 32px;\n",
              "      padding: 0 0 0 0;\n",
              "      width: 32px;\n",
              "    }\n",
              "\n",
              "    .colab-df-convert:hover {\n",
              "      background-color: #E2EBFA;\n",
              "      box-shadow: 0px 1px 2px rgba(60, 64, 67, 0.3), 0px 1px 3px 1px rgba(60, 64, 67, 0.15);\n",
              "      fill: #174EA6;\n",
              "    }\n",
              "\n",
              "    [theme=dark] .colab-df-convert {\n",
              "      background-color: #3B4455;\n",
              "      fill: #D2E3FC;\n",
              "    }\n",
              "\n",
              "    [theme=dark] .colab-df-convert:hover {\n",
              "      background-color: #434B5C;\n",
              "      box-shadow: 0px 1px 3px 1px rgba(0, 0, 0, 0.15);\n",
              "      filter: drop-shadow(0px 1px 2px rgba(0, 0, 0, 0.3));\n",
              "      fill: #FFFFFF;\n",
              "    }\n",
              "  </style>\n",
              "\n",
              "      <script>\n",
              "        const buttonEl =\n",
              "          document.querySelector('#df-c5642234-aa52-4f63-a905-58af0d38e0ea button.colab-df-convert');\n",
              "        buttonEl.style.display =\n",
              "          google.colab.kernel.accessAllowed ? 'block' : 'none';\n",
              "\n",
              "        async function convertToInteractive(key) {\n",
              "          const element = document.querySelector('#df-c5642234-aa52-4f63-a905-58af0d38e0ea');\n",
              "          const dataTable =\n",
              "            await google.colab.kernel.invokeFunction('convertToInteractive',\n",
              "                                                     [key], {});\n",
              "          if (!dataTable) return;\n",
              "\n",
              "          const docLinkHtml = 'Like what you see? Visit the ' +\n",
              "            '<a target=\"_blank\" href=https://colab.research.google.com/notebooks/data_table.ipynb>data table notebook</a>'\n",
              "            + ' to learn more about interactive tables.';\n",
              "          element.innerHTML = '';\n",
              "          dataTable['output_type'] = 'display_data';\n",
              "          await google.colab.output.renderOutput(dataTable, element);\n",
              "          const docLink = document.createElement('div');\n",
              "          docLink.innerHTML = docLinkHtml;\n",
              "          element.appendChild(docLink);\n",
              "        }\n",
              "      </script>\n",
              "    </div>\n",
              "  </div>\n",
              "  "
            ]
          },
          "metadata": {},
          "execution_count": 46
        }
      ],
      "source": [
        "df.head()"
      ]
    },
    {
      "cell_type": "code",
      "source": [
        "!pip install emoji"
      ],
      "metadata": {
        "colab": {
          "base_uri": "https://localhost:8080/"
        },
        "id": "1gsz-Qf70pwC",
        "outputId": "54b0d3d4-abdb-4b10-d806-3d3862000292"
      },
      "execution_count": null,
      "outputs": [
        {
          "output_type": "stream",
          "name": "stdout",
          "text": [
            "Looking in indexes: https://pypi.org/simple, https://us-python.pkg.dev/colab-wheels/public/simple/\n",
            "Requirement already satisfied: emoji in /usr/local/lib/python3.9/dist-packages (2.2.0)\n"
          ]
        }
      ]
    },
    {
      "cell_type": "code",
      "execution_count": null,
      "metadata": {
        "id": "0b951736"
      },
      "outputs": [],
      "source": [
        "import emoji"
      ]
    },
    {
      "cell_type": "code",
      "execution_count": null,
      "metadata": {
        "id": "def5e335"
      },
      "outputs": [],
      "source": [
        "def no_emoji(text):\n",
        "    return emoji.demojize(text)"
      ]
    },
    {
      "cell_type": "code",
      "execution_count": null,
      "metadata": {
        "id": "b6ffcbcf"
      },
      "outputs": [],
      "source": [
        "for i in range(len(df)):\n",
        "    df['text'].iloc[i] = no_emoji(df['text'].iloc[i])"
      ]
    },
    {
      "cell_type": "markdown",
      "metadata": {
        "id": "5bd71546"
      },
      "source": [
        "Next we will convert emoticons to text."
      ]
    },
    {
      "cell_type": "code",
      "source": [
        "!pip install emot\n"
      ],
      "metadata": {
        "colab": {
          "base_uri": "https://localhost:8080/"
        },
        "id": "xea_C6-C1um6",
        "outputId": "44bf486a-7b20-4984-ad92-b83cca575c0e"
      },
      "execution_count": null,
      "outputs": [
        {
          "output_type": "stream",
          "name": "stdout",
          "text": [
            "Looking in indexes: https://pypi.org/simple, https://us-python.pkg.dev/colab-wheels/public/simple/\n",
            "Requirement already satisfied: emot in /usr/local/lib/python3.9/dist-packages (3.1)\n"
          ]
        }
      ]
    },
    {
      "cell_type": "code",
      "execution_count": null,
      "metadata": {
        "id": "6243f4e5"
      },
      "outputs": [],
      "source": [
        "from emot.emo_unicode import UNICODE_EMOJI # For emojis\n",
        "from emot.emo_unicode import EMOTICONS_EMO# For EMOTICONS"
      ]
    },
    {
      "cell_type": "code",
      "execution_count": null,
      "metadata": {
        "id": "f532ff05"
      },
      "outputs": [],
      "source": [
        "def convert_emoticons(text):\n",
        "    for emot in EMOTICONS_EMO:\n",
        "        text = text.replace(emot, EMOTICONS_EMO[emot].replace(\" \",\"_\"))\n",
        "    return text"
      ]
    },
    {
      "cell_type": "code",
      "execution_count": null,
      "metadata": {
        "id": "2b328fc3",
        "outputId": "116bbbe2-91d3-4ae8-9b13-95e307a232f6",
        "colab": {
          "base_uri": "https://localhost:8080/",
          "height": 36
        }
      },
      "outputs": [
        {
          "output_type": "execute_result",
          "data": {
            "text/plain": [
              "'Hello Happy_face_smiley Happy_face_smiley'"
            ],
            "application/vnd.google.colaboratory.intrinsic+json": {
              "type": "string"
            }
          },
          "metadata": {},
          "execution_count": 54
        }
      ],
      "source": [
        "text = \"Hello :-) :-)\"\n",
        "convert_emoticons(text)"
      ]
    },
    {
      "cell_type": "code",
      "execution_count": null,
      "metadata": {
        "id": "66d5e90d"
      },
      "outputs": [],
      "source": [
        "for item in range(len(df)):\n",
        "    df['text'].iloc[item] = convert_emoticons(df['text'].iloc[item])"
      ]
    },
    {
      "cell_type": "code",
      "execution_count": null,
      "metadata": {
        "id": "490a1f32",
        "outputId": "6f220f44-5a64-4a25-90de-49954c01f4cb",
        "colab": {
          "base_uri": "https://localhost:8080/",
          "height": 206
        }
      },
      "outputs": [
        {
          "output_type": "execute_result",
          "data": {
            "text/plain": [
              "   Unnamed: 0                                               text        class\n",
              "0           2  ex wife threatening suiciderecently i left my ...      suicide\n",
              "1           3  am i weird i don't get affected by compliments...  non-suicide\n",
              "2           4  finally 2020 is almost over... so i can never ...  non-suicide\n",
              "3           8          i need helpjust help me im crying so hard      suicide\n",
              "4           9  i’m so losthello, my name is adam (16) and i’v...      suicide"
            ],
            "text/html": [
              "\n",
              "  <div id=\"df-77eae4d8-c670-4812-a52a-025eb76e88a5\">\n",
              "    <div class=\"colab-df-container\">\n",
              "      <div>\n",
              "<style scoped>\n",
              "    .dataframe tbody tr th:only-of-type {\n",
              "        vertical-align: middle;\n",
              "    }\n",
              "\n",
              "    .dataframe tbody tr th {\n",
              "        vertical-align: top;\n",
              "    }\n",
              "\n",
              "    .dataframe thead th {\n",
              "        text-align: right;\n",
              "    }\n",
              "</style>\n",
              "<table border=\"1\" class=\"dataframe\">\n",
              "  <thead>\n",
              "    <tr style=\"text-align: right;\">\n",
              "      <th></th>\n",
              "      <th>Unnamed: 0</th>\n",
              "      <th>text</th>\n",
              "      <th>class</th>\n",
              "    </tr>\n",
              "  </thead>\n",
              "  <tbody>\n",
              "    <tr>\n",
              "      <th>0</th>\n",
              "      <td>2</td>\n",
              "      <td>ex wife threatening suiciderecently i left my ...</td>\n",
              "      <td>suicide</td>\n",
              "    </tr>\n",
              "    <tr>\n",
              "      <th>1</th>\n",
              "      <td>3</td>\n",
              "      <td>am i weird i don't get affected by compliments...</td>\n",
              "      <td>non-suicide</td>\n",
              "    </tr>\n",
              "    <tr>\n",
              "      <th>2</th>\n",
              "      <td>4</td>\n",
              "      <td>finally 2020 is almost over... so i can never ...</td>\n",
              "      <td>non-suicide</td>\n",
              "    </tr>\n",
              "    <tr>\n",
              "      <th>3</th>\n",
              "      <td>8</td>\n",
              "      <td>i need helpjust help me im crying so hard</td>\n",
              "      <td>suicide</td>\n",
              "    </tr>\n",
              "    <tr>\n",
              "      <th>4</th>\n",
              "      <td>9</td>\n",
              "      <td>i’m so losthello, my name is adam (16) and i’v...</td>\n",
              "      <td>suicide</td>\n",
              "    </tr>\n",
              "  </tbody>\n",
              "</table>\n",
              "</div>\n",
              "      <button class=\"colab-df-convert\" onclick=\"convertToInteractive('df-77eae4d8-c670-4812-a52a-025eb76e88a5')\"\n",
              "              title=\"Convert this dataframe to an interactive table.\"\n",
              "              style=\"display:none;\">\n",
              "        \n",
              "  <svg xmlns=\"http://www.w3.org/2000/svg\" height=\"24px\"viewBox=\"0 0 24 24\"\n",
              "       width=\"24px\">\n",
              "    <path d=\"M0 0h24v24H0V0z\" fill=\"none\"/>\n",
              "    <path d=\"M18.56 5.44l.94 2.06.94-2.06 2.06-.94-2.06-.94-.94-2.06-.94 2.06-2.06.94zm-11 1L8.5 8.5l.94-2.06 2.06-.94-2.06-.94L8.5 2.5l-.94 2.06-2.06.94zm10 10l.94 2.06.94-2.06 2.06-.94-2.06-.94-.94-2.06-.94 2.06-2.06.94z\"/><path d=\"M17.41 7.96l-1.37-1.37c-.4-.4-.92-.59-1.43-.59-.52 0-1.04.2-1.43.59L10.3 9.45l-7.72 7.72c-.78.78-.78 2.05 0 2.83L4 21.41c.39.39.9.59 1.41.59.51 0 1.02-.2 1.41-.59l7.78-7.78 2.81-2.81c.8-.78.8-2.07 0-2.86zM5.41 20L4 18.59l7.72-7.72 1.47 1.35L5.41 20z\"/>\n",
              "  </svg>\n",
              "      </button>\n",
              "      \n",
              "  <style>\n",
              "    .colab-df-container {\n",
              "      display:flex;\n",
              "      flex-wrap:wrap;\n",
              "      gap: 12px;\n",
              "    }\n",
              "\n",
              "    .colab-df-convert {\n",
              "      background-color: #E8F0FE;\n",
              "      border: none;\n",
              "      border-radius: 50%;\n",
              "      cursor: pointer;\n",
              "      display: none;\n",
              "      fill: #1967D2;\n",
              "      height: 32px;\n",
              "      padding: 0 0 0 0;\n",
              "      width: 32px;\n",
              "    }\n",
              "\n",
              "    .colab-df-convert:hover {\n",
              "      background-color: #E2EBFA;\n",
              "      box-shadow: 0px 1px 2px rgba(60, 64, 67, 0.3), 0px 1px 3px 1px rgba(60, 64, 67, 0.15);\n",
              "      fill: #174EA6;\n",
              "    }\n",
              "\n",
              "    [theme=dark] .colab-df-convert {\n",
              "      background-color: #3B4455;\n",
              "      fill: #D2E3FC;\n",
              "    }\n",
              "\n",
              "    [theme=dark] .colab-df-convert:hover {\n",
              "      background-color: #434B5C;\n",
              "      box-shadow: 0px 1px 3px 1px rgba(0, 0, 0, 0.15);\n",
              "      filter: drop-shadow(0px 1px 2px rgba(0, 0, 0, 0.3));\n",
              "      fill: #FFFFFF;\n",
              "    }\n",
              "  </style>\n",
              "\n",
              "      <script>\n",
              "        const buttonEl =\n",
              "          document.querySelector('#df-77eae4d8-c670-4812-a52a-025eb76e88a5 button.colab-df-convert');\n",
              "        buttonEl.style.display =\n",
              "          google.colab.kernel.accessAllowed ? 'block' : 'none';\n",
              "\n",
              "        async function convertToInteractive(key) {\n",
              "          const element = document.querySelector('#df-77eae4d8-c670-4812-a52a-025eb76e88a5');\n",
              "          const dataTable =\n",
              "            await google.colab.kernel.invokeFunction('convertToInteractive',\n",
              "                                                     [key], {});\n",
              "          if (!dataTable) return;\n",
              "\n",
              "          const docLinkHtml = 'Like what you see? Visit the ' +\n",
              "            '<a target=\"_blank\" href=https://colab.research.google.com/notebooks/data_table.ipynb>data table notebook</a>'\n",
              "            + ' to learn more about interactive tables.';\n",
              "          element.innerHTML = '';\n",
              "          dataTable['output_type'] = 'display_data';\n",
              "          await google.colab.output.renderOutput(dataTable, element);\n",
              "          const docLink = document.createElement('div');\n",
              "          docLink.innerHTML = docLinkHtml;\n",
              "          element.appendChild(docLink);\n",
              "        }\n",
              "      </script>\n",
              "    </div>\n",
              "  </div>\n",
              "  "
            ]
          },
          "metadata": {},
          "execution_count": 56
        }
      ],
      "source": [
        "df.head()"
      ]
    },
    {
      "cell_type": "markdown",
      "metadata": {
        "id": "6a7a4610"
      },
      "source": [
        "#### Step 6d: Remove punctuation and numerals"
      ]
    },
    {
      "cell_type": "code",
      "execution_count": null,
      "metadata": {
        "id": "e0a875fd",
        "outputId": "63544913-ab9d-445f-cc03-d41c354209f8",
        "colab": {
          "base_uri": "https://localhost:8080/"
        }
      },
      "outputs": [
        {
          "output_type": "execute_result",
          "data": {
            "text/plain": [
              "True"
            ]
          },
          "metadata": {},
          "execution_count": 57
        }
      ],
      "source": [
        "df['text'].str.contains('2').any()"
      ]
    },
    {
      "cell_type": "code",
      "execution_count": null,
      "metadata": {
        "id": "3a81be45",
        "outputId": "e5f272fb-3ac7-4998-9afe-59c85d3cc567",
        "colab": {
          "base_uri": "https://localhost:8080/"
        }
      },
      "outputs": [
        {
          "output_type": "stream",
          "name": "stdout",
          "text": [
            "i need helpjust help me im crying so hard\n"
          ]
        }
      ],
      "source": [
        "\n",
        "punctuation = ['-', '-', '⠿','ᒷ','⣵ ⣿','┘','┌','ℸ','⢿ ⣷','⣁','⣵','⣳','⡉ ⡉','¿','↸','⡇', '!', '@', '?', '.', '#', '▀ ▀', '▀', '⢠', '$', '· -·-·-', '⠁' , '%', '^', '&', '€', '*', '(', ')', ':', ';', '<', '>', '\"',  '/', ',', '?', '.', '0', '1', '2', '3', '4', '5', '6', '7', '8', '9', '[', ']', '{', '}', '|', '⣿ ⢸', '⣶ ⣶', '⣿ ⣶', '⡉ ⡉', '⣿', '⠄', '⣦', '⣷', '⢉', '⠙', '⠟', '▓', '⠉', '⠋', '⠛', '⡟', 'ㅤ ㅤ', '·', '⣧']\n",
        "\n",
        "for item in punctuation:\n",
        "    df['text'] = df['text'].str.replace(item, '')\n",
        "    \n",
        "print(df['text'].iloc[3])"
      ]
    },
    {
      "cell_type": "code",
      "execution_count": null,
      "metadata": {
        "id": "6e3eacf6",
        "outputId": "c0799516-bc70-4fba-9cd3-dd02acf1c15b",
        "colab": {
          "base_uri": "https://localhost:8080/"
        }
      },
      "outputs": [
        {
          "output_type": "execute_result",
          "data": {
            "text/plain": [
              "False"
            ]
          },
          "metadata": {},
          "execution_count": 59
        }
      ],
      "source": [
        "df['text'].str.contains('2').any()"
      ]
    },
    {
      "cell_type": "markdown",
      "metadata": {
        "id": "d856fc1d"
      },
      "source": [
        "#### Step 6e: Remove White Spaces"
      ]
    },
    {
      "cell_type": "code",
      "execution_count": null,
      "metadata": {
        "id": "051b4f84"
      },
      "outputs": [],
      "source": [
        "df['text'] = df['text'].str.strip()"
      ]
    },
    {
      "cell_type": "markdown",
      "metadata": {
        "id": "aaf975be"
      },
      "source": [
        "#### Step 6f: Language Detection"
      ]
    },
    {
      "cell_type": "code",
      "source": [
        "!pip install langdetect\n"
      ],
      "metadata": {
        "colab": {
          "base_uri": "https://localhost:8080/"
        },
        "id": "GlXVtuIt4EUT",
        "outputId": "b4cfed90-9908-48f6-8de8-8e47cb243b42"
      },
      "execution_count": null,
      "outputs": [
        {
          "output_type": "stream",
          "name": "stdout",
          "text": [
            "Looking in indexes: https://pypi.org/simple, https://us-python.pkg.dev/colab-wheels/public/simple/\n",
            "Requirement already satisfied: langdetect in /usr/local/lib/python3.9/dist-packages (1.0.9)\n",
            "Requirement already satisfied: six in /usr/local/lib/python3.9/dist-packages (from langdetect) (1.16.0)\n"
          ]
        }
      ]
    },
    {
      "cell_type": "code",
      "execution_count": null,
      "metadata": {
        "id": "499ce225"
      },
      "outputs": [],
      "source": [
        "from langdetect import detect\n",
        "\n",
        "for iter in range(len(df)):\n",
        "    if detect(str(df['text'].iloc[1])) != 'en':\n",
        "        df.drop(i, inplace = True)"
      ]
    },
    {
      "cell_type": "code",
      "execution_count": null,
      "metadata": {
        "id": "2fdb6822",
        "colab": {
          "base_uri": "https://localhost:8080/"
        },
        "outputId": "d3b8ee9f-40bd-4c75-ff3f-053ec5fa097b"
      },
      "outputs": [
        {
          "output_type": "execute_result",
          "data": {
            "text/plain": [
              "(232074, 3)"
            ]
          },
          "metadata": {},
          "execution_count": 63
        }
      ],
      "source": [
        "df.shape"
      ]
    },
    {
      "cell_type": "markdown",
      "metadata": {
        "id": "3ae84f12"
      },
      "source": [
        "#### Step 6g:  Expand Contractions"
      ]
    },
    {
      "cell_type": "code",
      "execution_count": null,
      "metadata": {
        "id": "f34de38d"
      },
      "outputs": [],
      "source": [
        "def decontracted(phrase):\n",
        "  \"\"\"decontracted takes text and convert contractions into natural form.\n",
        "     ref: https://stackoverflow.com/questions/19790188/expanding-english-language-contractions-in-python/47091490#47091490\"\"\"\n",
        "\n",
        "  # specific\n",
        "  phrase = re.sub(r\"won\\'t\", \"will not\", phrase)\n",
        "  phrase = re.sub(r\"can\\'t\", \"can not\", phrase)\n",
        "  phrase = re.sub(r\"won\\’t\", \"will not\", phrase)\n",
        "  phrase = re.sub(r\"can\\’t\", \"can not\", phrase)\n",
        "\n",
        "  # general\n",
        "  phrase = re.sub(r\"n\\'t\", \" not\", phrase)\n",
        "  phrase = re.sub(r\"\\'re\", \" are\", phrase)\n",
        "  phrase = re.sub(r\"\\'s\", \" is\", phrase)\n",
        "  phrase = re.sub(r\"\\'d\", \" would\", phrase)\n",
        "  phrase = re.sub(r\"\\'ll\", \" will\", phrase)\n",
        "  phrase = re.sub(r\"\\'t\", \" not\", phrase)\n",
        "  phrase = re.sub(r\"\\'ve\", \" have\", phrase)\n",
        "  phrase = re.sub(r\"\\'m\", \" am\", phrase)\n",
        "\n",
        "  phrase = re.sub(r\"n\\’t\", \" not\", phrase)\n",
        "  phrase = re.sub(r\"\\’re\", \" are\", phrase)\n",
        "  phrase = re.sub(r\"\\’s\", \" is\", phrase)\n",
        "  phrase = re.sub(r\"\\’d\", \" would\", phrase)\n",
        "  phrase = re.sub(r\"\\’ll\", \" will\", phrase)\n",
        "  phrase = re.sub(r\"\\’t\", \" not\", phrase)\n",
        "  phrase = re.sub(r\"\\’ve\", \" have\", phrase)\n",
        "  phrase = re.sub(r\"\\’m\", \" am\", phrase)\n",
        "\n",
        "  return phrase"
      ]
    },
    {
      "cell_type": "code",
      "execution_count": null,
      "metadata": {
        "id": "0944c4e6"
      },
      "outputs": [],
      "source": [
        "for i in range(len(df)):\n",
        "    df['text'].iloc[i] = decontracted(df['text'].iloc[i])"
      ]
    },
    {
      "cell_type": "code",
      "execution_count": null,
      "metadata": {
        "id": "c57229f9"
      },
      "outputs": [],
      "source": [
        "df.to_csv(\"Suicide_Detection_Interim_Clean8622.csv\", index = False)"
      ]
    },
    {
      "cell_type": "markdown",
      "metadata": {
        "id": "7944015a"
      },
      "source": [
        "#### Step 6h:  Spell Check"
      ]
    },
    {
      "cell_type": "code",
      "execution_count": null,
      "metadata": {
        "id": "eb81d1a1",
        "colab": {
          "base_uri": "https://localhost:8080/"
        },
        "outputId": "2726624c-2f87-4353-cc4e-d842a10f3fd2"
      },
      "outputs": [
        {
          "output_type": "stream",
          "name": "stdout",
          "text": [
            "Looking in indexes: https://pypi.org/simple, https://us-python.pkg.dev/colab-wheels/public/simple/\n",
            "Requirement already satisfied: textblob in /usr/local/lib/python3.9/dist-packages (0.17.1)\n",
            "Requirement already satisfied: nltk>=3.1 in /usr/local/lib/python3.9/dist-packages (from textblob) (3.8.1)\n",
            "Requirement already satisfied: joblib in /usr/local/lib/python3.9/dist-packages (from nltk>=3.1->textblob) (1.2.0)\n",
            "Requirement already satisfied: tqdm in /usr/local/lib/python3.9/dist-packages (from nltk>=3.1->textblob) (4.65.0)\n",
            "Requirement already satisfied: regex>=2021.8.3 in /usr/local/lib/python3.9/dist-packages (from nltk>=3.1->textblob) (2022.10.31)\n",
            "Requirement already satisfied: click in /usr/local/lib/python3.9/dist-packages (from nltk>=3.1->textblob) (8.1.3)\n"
          ]
        }
      ],
      "source": [
        "pip install textblob"
      ]
    },
    {
      "cell_type": "code",
      "execution_count": null,
      "metadata": {
        "id": "dd4eb987"
      },
      "outputs": [],
      "source": [
        "from textblob import TextBlob"
      ]
    },
    {
      "cell_type": "code",
      "execution_count": null,
      "metadata": {
        "id": "5c7ae4aa"
      },
      "outputs": [],
      "source": [
        "def spell_check(text):\n",
        "    return str((TextBlob(text)).correct())"
      ]
    },
    {
      "cell_type": "code",
      "execution_count": null,
      "metadata": {
        "id": "e4d40f60",
        "colab": {
          "base_uri": "https://localhost:8080/"
        },
        "outputId": "406d179b-2015-41b1-a2a9-1f1080131ac5"
      },
      "outputs": [
        {
          "output_type": "stream",
          "name": "stdout",
          "text": [
            "ex wife threatening suiciderecently i left my wife for good because she has cheated on me twice and lied to me so much that i have decided to refuse to go back to her as of a few days ago she began threatening suicide i have tirelessly spent these paat few days talking her out of it and she keeps hesitating because she wants to believe i will come back i know a lot of people will threaten this in order to get their way but what happens if she really does what do i do and how am i supposed to handle her death on my hands i still love my wife but i cannot deal with getting cheated on again and constantly feeling insecure i am worried today may be the day she does it and i hope so much it does not happen\n",
            "\n",
            "ex wife threatening suiciderecently i left my wife for good because she has created on me twice and lied to me so much that i have decided to refuse to go back to her as of a few days ago she began threatening suicide i have carelessly spent these part few days talking her out of it and she keeps hesitating because she wants to believe i will come back i know a lot of people will threaten this in order to get their way but what happens if she really does what do i do and how am i supposed to handle her death on my hands i still love my wife but i cannot deal with getting created on again and constantly feeling insecure i am worried today may be the day she does it and i hope so much it does not happen\n"
          ]
        }
      ],
      "source": [
        "print(df['text'].iloc[0])\n",
        "print('')\n",
        "print(spell_check(df['text'].iloc[0]))"
      ]
    },
    {
      "cell_type": "markdown",
      "metadata": {
        "id": "606874c2"
      },
      "source": [
        "##### Note\n",
        "The spell check function does not seem perfect for these purposes.  In the above example it changed a word from 'cheated' to 'created' which really changes the meaning of the sentence.  Since I was reluctant to change the meaning of the text, I opted not to run a spell check function on the entire data set.  \n",
        "\n",
        "However, there were a number of issues with the dataset particularly in joining the word i with the word prior to it.  So I have developed a list of these examples and decided to resolve these spelling mistakes.  These may have been original to the postings or may have been joined while scraping the text."
      ]
    },
    {
      "cell_type": "code",
      "execution_count": null,
      "metadata": {
        "id": "2d640b9a"
      },
      "outputs": [],
      "source": [
        "my_list = ['anymoremy','myselfmy', 'meit', 'diemy', 'domy', 'myselfso', 'helphi', 'helpmy', 'lifemy']"
      ]
    },
    {
      "cell_type": "code",
      "execution_count": null,
      "metadata": {
        "id": "7c2750c1"
      },
      "outputs": [],
      "source": [
        "i_list = ['diei','suicidei', 'tiredi', 'tonighti', 'anymorei', 'thoughtsi', 'myselfi', 'endi', 'betteri', 'alonei', 'helpi', 'alivei',\n",
        "'sooni', 'livingi', 'pleasei', 'suicidali', 'losti', 'pointi', 'hopei', 'tomorrowi', 'advicei', 'stopi', 'goingi', \n",
        "'hopelessi', 'livei', 'deathi', 'paini', 'personi', 'weeki', 'lifei', 'carei', 'donei', 'depressedi', 'lonelyi', 'attempti',\n",
        "'everythingi', 'scaredi', 'worse', 'everyonei', 'optioni', 'readyi', 'longeri', 'plani', 'headi', 'here', 'goi',\n",
        "'emptyi', 'worthlessi', 'dyingi', 'doi', 'failurei', 'worsei', 'herei', 'worldi', 'anyonei', 'thisi', 'goodbyei', 'notei', \n",
        "'backi', 'someonei', 'iti', 'lefti', 'whyi', 'outi', 'myselft', 'upi', 'nighti', 'todayi', 'yearsi', 'toi', 'mindi', 'anymoret', 'happyi',\n",
        "         'depressioni', 'wayi', 'ssri', 'downi', 'overi', 'nowi', 'sorryi', 'enoughi', 'hospitali', 'optionsi', 'pillsi', 'titlei', 'trappedi', \n",
        "         'edgei', 'yourselfi', 'uselessi', 'ranti', 'okayi', 'tryingi', 'caresi', 'existi']\n"
      ]
    },
    {
      "cell_type": "code",
      "execution_count": null,
      "metadata": {
        "id": "0f4e0e9f"
      },
      "outputs": [],
      "source": [
        "def remove_i_my(text):\n",
        "    for i in i_list:\n",
        "        text = text.replace(i, i[:-1])\n",
        "        for j in my_list:\n",
        "            text = text.replace(j, j[:-2])\n",
        "    return text"
      ]
    },
    {
      "cell_type": "code",
      "execution_count": null,
      "metadata": {
        "id": "40e4e0f1"
      },
      "outputs": [],
      "source": [
        "for i in range(len(df)):\n",
        "    df['text'].iloc[i] = remove_i_my(df['text'].iloc[i])"
      ]
    },
    {
      "cell_type": "code",
      "execution_count": null,
      "metadata": {
        "id": "7225c2e2"
      },
      "outputs": [],
      "source": [
        "df['text'] = df['text'].str.replace('worsi', 'worst')\n",
        "df['text'] = df['text'].str.replace('helpso', 'help so')\n",
        "df['text'] = df['text'].str.replace('ther', 'the')\n",
        "df['text'] = df['text'].str.replace('fuck fuck', 'fuck')\n",
        "df['text'] = df['text'].str.replace('gtpoplt gtpoplt', 'gtpoplt')\n",
        "df['text'] = df['text'].str.replace('cheese cheese', 'cheese')\n",
        "df['text'] = df['text'].str.replace('cecil cecil', 'cecil')\n",
        "df['text'] = df['text'].str.replace('sus sus', 'sus')\n",
        "df['text'] = df['text'].str.replace('cum cum', 'cum')\n",
        "df['text'] = df['text'].str.replace('ni ni', 'ni')"
      ]
    },
    {
      "cell_type": "markdown",
      "metadata": {
        "id": "39800f64"
      },
      "source": [
        "#### Step: 6i:  Filler Words"
      ]
    },
    {
      "cell_type": "markdown",
      "metadata": {
        "id": "94f68595"
      },
      "source": [
        "For whatever reason there are many iterations of the word 'filler' throughout the data.  See below for an example of scraped postings with this word repeated many times.  Since this word does not provide any insight into the intention of the author, I am going to remove the word from the data set."
      ]
    },
    {
      "cell_type": "code",
      "execution_count": null,
      "metadata": {
        "id": "86a09e9c",
        "colab": {
          "base_uri": "https://localhost:8080/"
        },
        "outputId": "4ff2ee42-ea0d-47f6-844f-0a75b9a0d317"
      },
      "outputs": [
        {
          "output_type": "stream",
          "name": "stdout",
          "text": [
            "iteration 253 can constant masturbation lead to disinterest in girls asking for a friend \n",
            "filler filler filler filler filler filler filler filler filler filler filler filler filler filler filler filler filler filler filler filler filler filler filler filler\n",
            "iteration 414 what are some good halloween movies filler filler filler filler filler filler filler filler filler filler filler filler filler filler filler filler filler filler filler filler filler filler filler filler filler filler filler filler filler filler\n"
          ]
        }
      ],
      "source": [
        "for i in range(0, 600):\n",
        "    if 'filler filler' in df['text'].iloc[i]:\n",
        "        print('iteration' , i , df['text'].iloc[i])"
      ]
    },
    {
      "cell_type": "code",
      "execution_count": null,
      "metadata": {
        "id": "2ac9bcd2"
      },
      "outputs": [],
      "source": [
        "df['text'] = df['text'].str.replace('filler', '')"
      ]
    },
    {
      "cell_type": "code",
      "execution_count": null,
      "metadata": {
        "id": "d130ff58"
      },
      "outputs": [],
      "source": [
        "df.to_csv('Suicide_Detection_Normalized.csv')"
      ]
    },
    {
      "cell_type": "markdown",
      "metadata": {
        "id": "a5031d46"
      },
      "source": [
        "#### Step 6j: Stop Words and Tokenization"
      ]
    },
    {
      "cell_type": "code",
      "execution_count": null,
      "metadata": {
        "id": "78c803b2"
      },
      "outputs": [],
      "source": [
        "# df = pd.read_csv('Suicide_Detection_Normalized.csv')"
      ]
    },
    {
      "cell_type": "code",
      "execution_count": null,
      "metadata": {
        "id": "6c6a71fb"
      },
      "outputs": [],
      "source": [
        "df.dropna(inplace = True)"
      ]
    },
    {
      "cell_type": "code",
      "execution_count": null,
      "metadata": {
        "id": "7788c4eb"
      },
      "outputs": [],
      "source": [
        "df['word'] = ''"
      ]
    },
    {
      "cell_type": "code",
      "execution_count": null,
      "metadata": {
        "id": "4d47b4d9"
      },
      "outputs": [],
      "source": [
        "def tokenize(text):\n",
        "    token = word_tokenize(text)\n",
        "    result = []\n",
        "    for item in token:\n",
        "        if item in STOP_WORDS:\n",
        "            pass\n",
        "        else:\n",
        "            result.append(item)\n",
        "    return result        "
      ]
    },
    {
      "cell_type": "code",
      "source": [
        "import nltk\n",
        "nltk.download('punkt')"
      ],
      "metadata": {
        "colab": {
          "base_uri": "https://localhost:8080/"
        },
        "id": "Ymyt2k-0JD_t",
        "outputId": "959c6534-a70b-4feb-a7e6-361dd2efa026"
      },
      "execution_count": null,
      "outputs": [
        {
          "output_type": "stream",
          "name": "stderr",
          "text": [
            "[nltk_data] Downloading package punkt to /root/nltk_data...\n",
            "[nltk_data]   Package punkt is already up-to-date!\n"
          ]
        },
        {
          "output_type": "execute_result",
          "data": {
            "text/plain": [
              "True"
            ]
          },
          "metadata": {},
          "execution_count": 87
        }
      ]
    },
    {
      "cell_type": "code",
      "execution_count": null,
      "metadata": {
        "id": "57196ea7"
      },
      "outputs": [],
      "source": [
        "for i in range(len(df)):\n",
        "    df['word'].iloc[i] = tokenize(df['text'].iloc[i])"
      ]
    },
    {
      "cell_type": "code",
      "execution_count": null,
      "metadata": {
        "id": "782f6410",
        "colab": {
          "base_uri": "https://localhost:8080/",
          "height": 206
        },
        "outputId": "bf31e8d7-2e2a-4941-b96f-58f1f3d4a746"
      },
      "outputs": [
        {
          "output_type": "execute_result",
          "data": {
            "text/plain": [
              "   Unnamed: 0                                               text        class  \\\n",
              "0           2  ex wife threatening suiciderecently i left my ...      suicide   \n",
              "1           3  am i weird i do not get affected by compliment...  non-suicide   \n",
              "2           4  finally  is almost over so i can never hear  h...  non-suicide   \n",
              "3           8          i need helpjust help me im crying so hard      suicide   \n",
              "4           9  i am so losthello my name is adam  and i have ...      suicide   \n",
              "\n",
              "                                                word  \n",
              "0  [ex, wife, threatening, suiciderecently, left,...  \n",
              "1  [weird, affected, compliments, coming, know, i...  \n",
              "2  [finally, hear, bad, year, swear, fucking, god...  \n",
              "3           [need, helpjust, help, im, crying, hard]  \n",
              "4  [losthello, adam, struggling, years, afraid, p...  "
            ],
            "text/html": [
              "\n",
              "  <div id=\"df-ef2dd3da-ad62-4c0c-ad76-ec52a0ec35f0\">\n",
              "    <div class=\"colab-df-container\">\n",
              "      <div>\n",
              "<style scoped>\n",
              "    .dataframe tbody tr th:only-of-type {\n",
              "        vertical-align: middle;\n",
              "    }\n",
              "\n",
              "    .dataframe tbody tr th {\n",
              "        vertical-align: top;\n",
              "    }\n",
              "\n",
              "    .dataframe thead th {\n",
              "        text-align: right;\n",
              "    }\n",
              "</style>\n",
              "<table border=\"1\" class=\"dataframe\">\n",
              "  <thead>\n",
              "    <tr style=\"text-align: right;\">\n",
              "      <th></th>\n",
              "      <th>Unnamed: 0</th>\n",
              "      <th>text</th>\n",
              "      <th>class</th>\n",
              "      <th>word</th>\n",
              "    </tr>\n",
              "  </thead>\n",
              "  <tbody>\n",
              "    <tr>\n",
              "      <th>0</th>\n",
              "      <td>2</td>\n",
              "      <td>ex wife threatening suiciderecently i left my ...</td>\n",
              "      <td>suicide</td>\n",
              "      <td>[ex, wife, threatening, suiciderecently, left,...</td>\n",
              "    </tr>\n",
              "    <tr>\n",
              "      <th>1</th>\n",
              "      <td>3</td>\n",
              "      <td>am i weird i do not get affected by compliment...</td>\n",
              "      <td>non-suicide</td>\n",
              "      <td>[weird, affected, compliments, coming, know, i...</td>\n",
              "    </tr>\n",
              "    <tr>\n",
              "      <th>2</th>\n",
              "      <td>4</td>\n",
              "      <td>finally  is almost over so i can never hear  h...</td>\n",
              "      <td>non-suicide</td>\n",
              "      <td>[finally, hear, bad, year, swear, fucking, god...</td>\n",
              "    </tr>\n",
              "    <tr>\n",
              "      <th>3</th>\n",
              "      <td>8</td>\n",
              "      <td>i need helpjust help me im crying so hard</td>\n",
              "      <td>suicide</td>\n",
              "      <td>[need, helpjust, help, im, crying, hard]</td>\n",
              "    </tr>\n",
              "    <tr>\n",
              "      <th>4</th>\n",
              "      <td>9</td>\n",
              "      <td>i am so losthello my name is adam  and i have ...</td>\n",
              "      <td>suicide</td>\n",
              "      <td>[losthello, adam, struggling, years, afraid, p...</td>\n",
              "    </tr>\n",
              "  </tbody>\n",
              "</table>\n",
              "</div>\n",
              "      <button class=\"colab-df-convert\" onclick=\"convertToInteractive('df-ef2dd3da-ad62-4c0c-ad76-ec52a0ec35f0')\"\n",
              "              title=\"Convert this dataframe to an interactive table.\"\n",
              "              style=\"display:none;\">\n",
              "        \n",
              "  <svg xmlns=\"http://www.w3.org/2000/svg\" height=\"24px\"viewBox=\"0 0 24 24\"\n",
              "       width=\"24px\">\n",
              "    <path d=\"M0 0h24v24H0V0z\" fill=\"none\"/>\n",
              "    <path d=\"M18.56 5.44l.94 2.06.94-2.06 2.06-.94-2.06-.94-.94-2.06-.94 2.06-2.06.94zm-11 1L8.5 8.5l.94-2.06 2.06-.94-2.06-.94L8.5 2.5l-.94 2.06-2.06.94zm10 10l.94 2.06.94-2.06 2.06-.94-2.06-.94-.94-2.06-.94 2.06-2.06.94z\"/><path d=\"M17.41 7.96l-1.37-1.37c-.4-.4-.92-.59-1.43-.59-.52 0-1.04.2-1.43.59L10.3 9.45l-7.72 7.72c-.78.78-.78 2.05 0 2.83L4 21.41c.39.39.9.59 1.41.59.51 0 1.02-.2 1.41-.59l7.78-7.78 2.81-2.81c.8-.78.8-2.07 0-2.86zM5.41 20L4 18.59l7.72-7.72 1.47 1.35L5.41 20z\"/>\n",
              "  </svg>\n",
              "      </button>\n",
              "      \n",
              "  <style>\n",
              "    .colab-df-container {\n",
              "      display:flex;\n",
              "      flex-wrap:wrap;\n",
              "      gap: 12px;\n",
              "    }\n",
              "\n",
              "    .colab-df-convert {\n",
              "      background-color: #E8F0FE;\n",
              "      border: none;\n",
              "      border-radius: 50%;\n",
              "      cursor: pointer;\n",
              "      display: none;\n",
              "      fill: #1967D2;\n",
              "      height: 32px;\n",
              "      padding: 0 0 0 0;\n",
              "      width: 32px;\n",
              "    }\n",
              "\n",
              "    .colab-df-convert:hover {\n",
              "      background-color: #E2EBFA;\n",
              "      box-shadow: 0px 1px 2px rgba(60, 64, 67, 0.3), 0px 1px 3px 1px rgba(60, 64, 67, 0.15);\n",
              "      fill: #174EA6;\n",
              "    }\n",
              "\n",
              "    [theme=dark] .colab-df-convert {\n",
              "      background-color: #3B4455;\n",
              "      fill: #D2E3FC;\n",
              "    }\n",
              "\n",
              "    [theme=dark] .colab-df-convert:hover {\n",
              "      background-color: #434B5C;\n",
              "      box-shadow: 0px 1px 3px 1px rgba(0, 0, 0, 0.15);\n",
              "      filter: drop-shadow(0px 1px 2px rgba(0, 0, 0, 0.3));\n",
              "      fill: #FFFFFF;\n",
              "    }\n",
              "  </style>\n",
              "\n",
              "      <script>\n",
              "        const buttonEl =\n",
              "          document.querySelector('#df-ef2dd3da-ad62-4c0c-ad76-ec52a0ec35f0 button.colab-df-convert');\n",
              "        buttonEl.style.display =\n",
              "          google.colab.kernel.accessAllowed ? 'block' : 'none';\n",
              "\n",
              "        async function convertToInteractive(key) {\n",
              "          const element = document.querySelector('#df-ef2dd3da-ad62-4c0c-ad76-ec52a0ec35f0');\n",
              "          const dataTable =\n",
              "            await google.colab.kernel.invokeFunction('convertToInteractive',\n",
              "                                                     [key], {});\n",
              "          if (!dataTable) return;\n",
              "\n",
              "          const docLinkHtml = 'Like what you see? Visit the ' +\n",
              "            '<a target=\"_blank\" href=https://colab.research.google.com/notebooks/data_table.ipynb>data table notebook</a>'\n",
              "            + ' to learn more about interactive tables.';\n",
              "          element.innerHTML = '';\n",
              "          dataTable['output_type'] = 'display_data';\n",
              "          await google.colab.output.renderOutput(dataTable, element);\n",
              "          const docLink = document.createElement('div');\n",
              "          docLink.innerHTML = docLinkHtml;\n",
              "          element.appendChild(docLink);\n",
              "        }\n",
              "      </script>\n",
              "    </div>\n",
              "  </div>\n",
              "  "
            ]
          },
          "metadata": {},
          "execution_count": 88
        }
      ],
      "source": [
        "df.head()"
      ]
    },
    {
      "cell_type": "markdown",
      "metadata": {
        "id": "440b5864"
      },
      "source": [
        "#### Step 6k: Lemmatization"
      ]
    },
    {
      "cell_type": "code",
      "source": [
        "import nltk\n",
        "nltk.download('wordnet')"
      ],
      "metadata": {
        "colab": {
          "base_uri": "https://localhost:8080/"
        },
        "id": "uhn-IKdKKkKE",
        "outputId": "d4c59ded-408d-401c-9a93-14b89cac38ed"
      },
      "execution_count": null,
      "outputs": [
        {
          "output_type": "stream",
          "name": "stderr",
          "text": [
            "[nltk_data] Downloading package wordnet to /root/nltk_data...\n",
            "[nltk_data]   Package wordnet is already up-to-date!\n"
          ]
        },
        {
          "output_type": "execute_result",
          "data": {
            "text/plain": [
              "True"
            ]
          },
          "metadata": {},
          "execution_count": 91
        }
      ]
    },
    {
      "cell_type": "code",
      "execution_count": null,
      "metadata": {
        "id": "3880c3b9"
      },
      "outputs": [],
      "source": [
        "from nltk.stem import WordNetLemmatizer\n",
        "lemmatizer=WordNetLemmatizer()\n",
        "\n",
        "for iter in range(len(df)):\n",
        "    result = []\n",
        "    for word in df['word'].iloc[iter]:\n",
        "        result.append(lemmatizer.lemmatize(word))\n",
        "    df['word'].iloc[iter] = result"
      ]
    },
    {
      "cell_type": "code",
      "execution_count": null,
      "metadata": {
        "id": "ccb7b1c8",
        "colab": {
          "base_uri": "https://localhost:8080/"
        },
        "outputId": "7a6a8429-aef8-4fc2-f784-d0dba36256a4"
      },
      "outputs": [
        {
          "output_type": "stream",
          "name": "stdout",
          "text": [
            "struggling\n"
          ]
        }
      ],
      "source": [
        "print(lemmatizer.lemmatize('struggling'))"
      ]
    },
    {
      "cell_type": "code",
      "execution_count": null,
      "metadata": {
        "id": "d708f619",
        "colab": {
          "base_uri": "https://localhost:8080/",
          "height": 206
        },
        "outputId": "2bfa7a72-b7e1-430b-91d1-4e42e13c0a75"
      },
      "outputs": [
        {
          "output_type": "execute_result",
          "data": {
            "text/plain": [
              "   Unnamed: 0                                               text        class  \\\n",
              "0           2  ex wife threatening suiciderecently i left my ...      suicide   \n",
              "1           3  am i weird i do not get affected by compliment...  non-suicide   \n",
              "2           4  finally  is almost over so i can never hear  h...  non-suicide   \n",
              "3           8          i need helpjust help me im crying so hard      suicide   \n",
              "4           9  i am so losthello my name is adam  and i have ...      suicide   \n",
              "\n",
              "                                                word  \n",
              "0  [ex, wife, threatening, suiciderecently, left,...  \n",
              "1  [weird, affected, compliment, coming, know, ir...  \n",
              "2  [finally, hear, bad, year, swear, fucking, god...  \n",
              "3              [need, helpjust, help, im, cry, hard]  \n",
              "4  [losthello, adam, struggling, year, afraid, pa...  "
            ],
            "text/html": [
              "\n",
              "  <div id=\"df-533a3e01-2834-4a2e-a8f2-4af8622a21e3\">\n",
              "    <div class=\"colab-df-container\">\n",
              "      <div>\n",
              "<style scoped>\n",
              "    .dataframe tbody tr th:only-of-type {\n",
              "        vertical-align: middle;\n",
              "    }\n",
              "\n",
              "    .dataframe tbody tr th {\n",
              "        vertical-align: top;\n",
              "    }\n",
              "\n",
              "    .dataframe thead th {\n",
              "        text-align: right;\n",
              "    }\n",
              "</style>\n",
              "<table border=\"1\" class=\"dataframe\">\n",
              "  <thead>\n",
              "    <tr style=\"text-align: right;\">\n",
              "      <th></th>\n",
              "      <th>Unnamed: 0</th>\n",
              "      <th>text</th>\n",
              "      <th>class</th>\n",
              "      <th>word</th>\n",
              "    </tr>\n",
              "  </thead>\n",
              "  <tbody>\n",
              "    <tr>\n",
              "      <th>0</th>\n",
              "      <td>2</td>\n",
              "      <td>ex wife threatening suiciderecently i left my ...</td>\n",
              "      <td>suicide</td>\n",
              "      <td>[ex, wife, threatening, suiciderecently, left,...</td>\n",
              "    </tr>\n",
              "    <tr>\n",
              "      <th>1</th>\n",
              "      <td>3</td>\n",
              "      <td>am i weird i do not get affected by compliment...</td>\n",
              "      <td>non-suicide</td>\n",
              "      <td>[weird, affected, compliment, coming, know, ir...</td>\n",
              "    </tr>\n",
              "    <tr>\n",
              "      <th>2</th>\n",
              "      <td>4</td>\n",
              "      <td>finally  is almost over so i can never hear  h...</td>\n",
              "      <td>non-suicide</td>\n",
              "      <td>[finally, hear, bad, year, swear, fucking, god...</td>\n",
              "    </tr>\n",
              "    <tr>\n",
              "      <th>3</th>\n",
              "      <td>8</td>\n",
              "      <td>i need helpjust help me im crying so hard</td>\n",
              "      <td>suicide</td>\n",
              "      <td>[need, helpjust, help, im, cry, hard]</td>\n",
              "    </tr>\n",
              "    <tr>\n",
              "      <th>4</th>\n",
              "      <td>9</td>\n",
              "      <td>i am so losthello my name is adam  and i have ...</td>\n",
              "      <td>suicide</td>\n",
              "      <td>[losthello, adam, struggling, year, afraid, pa...</td>\n",
              "    </tr>\n",
              "  </tbody>\n",
              "</table>\n",
              "</div>\n",
              "      <button class=\"colab-df-convert\" onclick=\"convertToInteractive('df-533a3e01-2834-4a2e-a8f2-4af8622a21e3')\"\n",
              "              title=\"Convert this dataframe to an interactive table.\"\n",
              "              style=\"display:none;\">\n",
              "        \n",
              "  <svg xmlns=\"http://www.w3.org/2000/svg\" height=\"24px\"viewBox=\"0 0 24 24\"\n",
              "       width=\"24px\">\n",
              "    <path d=\"M0 0h24v24H0V0z\" fill=\"none\"/>\n",
              "    <path d=\"M18.56 5.44l.94 2.06.94-2.06 2.06-.94-2.06-.94-.94-2.06-.94 2.06-2.06.94zm-11 1L8.5 8.5l.94-2.06 2.06-.94-2.06-.94L8.5 2.5l-.94 2.06-2.06.94zm10 10l.94 2.06.94-2.06 2.06-.94-2.06-.94-.94-2.06-.94 2.06-2.06.94z\"/><path d=\"M17.41 7.96l-1.37-1.37c-.4-.4-.92-.59-1.43-.59-.52 0-1.04.2-1.43.59L10.3 9.45l-7.72 7.72c-.78.78-.78 2.05 0 2.83L4 21.41c.39.39.9.59 1.41.59.51 0 1.02-.2 1.41-.59l7.78-7.78 2.81-2.81c.8-.78.8-2.07 0-2.86zM5.41 20L4 18.59l7.72-7.72 1.47 1.35L5.41 20z\"/>\n",
              "  </svg>\n",
              "      </button>\n",
              "      \n",
              "  <style>\n",
              "    .colab-df-container {\n",
              "      display:flex;\n",
              "      flex-wrap:wrap;\n",
              "      gap: 12px;\n",
              "    }\n",
              "\n",
              "    .colab-df-convert {\n",
              "      background-color: #E8F0FE;\n",
              "      border: none;\n",
              "      border-radius: 50%;\n",
              "      cursor: pointer;\n",
              "      display: none;\n",
              "      fill: #1967D2;\n",
              "      height: 32px;\n",
              "      padding: 0 0 0 0;\n",
              "      width: 32px;\n",
              "    }\n",
              "\n",
              "    .colab-df-convert:hover {\n",
              "      background-color: #E2EBFA;\n",
              "      box-shadow: 0px 1px 2px rgba(60, 64, 67, 0.3), 0px 1px 3px 1px rgba(60, 64, 67, 0.15);\n",
              "      fill: #174EA6;\n",
              "    }\n",
              "\n",
              "    [theme=dark] .colab-df-convert {\n",
              "      background-color: #3B4455;\n",
              "      fill: #D2E3FC;\n",
              "    }\n",
              "\n",
              "    [theme=dark] .colab-df-convert:hover {\n",
              "      background-color: #434B5C;\n",
              "      box-shadow: 0px 1px 3px 1px rgba(0, 0, 0, 0.15);\n",
              "      filter: drop-shadow(0px 1px 2px rgba(0, 0, 0, 0.3));\n",
              "      fill: #FFFFFF;\n",
              "    }\n",
              "  </style>\n",
              "\n",
              "      <script>\n",
              "        const buttonEl =\n",
              "          document.querySelector('#df-533a3e01-2834-4a2e-a8f2-4af8622a21e3 button.colab-df-convert');\n",
              "        buttonEl.style.display =\n",
              "          google.colab.kernel.accessAllowed ? 'block' : 'none';\n",
              "\n",
              "        async function convertToInteractive(key) {\n",
              "          const element = document.querySelector('#df-533a3e01-2834-4a2e-a8f2-4af8622a21e3');\n",
              "          const dataTable =\n",
              "            await google.colab.kernel.invokeFunction('convertToInteractive',\n",
              "                                                     [key], {});\n",
              "          if (!dataTable) return;\n",
              "\n",
              "          const docLinkHtml = 'Like what you see? Visit the ' +\n",
              "            '<a target=\"_blank\" href=https://colab.research.google.com/notebooks/data_table.ipynb>data table notebook</a>'\n",
              "            + ' to learn more about interactive tables.';\n",
              "          element.innerHTML = '';\n",
              "          dataTable['output_type'] = 'display_data';\n",
              "          await google.colab.output.renderOutput(dataTable, element);\n",
              "          const docLink = document.createElement('div');\n",
              "          docLink.innerHTML = docLinkHtml;\n",
              "          element.appendChild(docLink);\n",
              "        }\n",
              "      </script>\n",
              "    </div>\n",
              "  </div>\n",
              "  "
            ]
          },
          "metadata": {},
          "execution_count": 94
        }
      ],
      "source": [
        "df.head()"
      ]
    },
    {
      "cell_type": "code",
      "execution_count": null,
      "metadata": {
        "id": "6baa5a76"
      },
      "outputs": [],
      "source": [
        "df['clean_text'] = ''"
      ]
    },
    {
      "cell_type": "code",
      "execution_count": null,
      "metadata": {
        "id": "6c12e627"
      },
      "outputs": [],
      "source": [
        "for iter in range(len(df)):\n",
        "    words = df['word'].iloc[iter]\n",
        "    words = ' '.join(words)\n",
        "    df['clean_text'].iloc[iter] = words"
      ]
    },
    {
      "cell_type": "code",
      "execution_count": null,
      "metadata": {
        "id": "49340b5e"
      },
      "outputs": [],
      "source": [
        "# one last replace of repeated or misspelled items found in the clean text"
      ]
    },
    {
      "cell_type": "code",
      "execution_count": null,
      "metadata": {
        "id": "b6288647"
      },
      "outputs": [],
      "source": [
        "df['clean_text'] = df['clean_text'].str.replace('ther', 'the')\n",
        "df['clean_text'] = df['clean_text'].str.replace('fuck fuck', 'fuck')\n",
        "df['clean_text'] = df['clean_text'].str.replace('sus sus', 'sus')\n",
        "df['clean_text'] = df['clean_text'].str.replace('cheese cheese', 'cheese')\n"
      ]
    },
    {
      "cell_type": "code",
      "execution_count": null,
      "metadata": {
        "id": "92793ab4",
        "colab": {
          "base_uri": "https://localhost:8080/",
          "height": 332
        },
        "outputId": "d058b904-ccc4-47aa-d90a-215509eb200c"
      },
      "outputs": [
        {
          "output_type": "execute_result",
          "data": {
            "text/plain": [
              "   Unnamed: 0                                               text        class  \\\n",
              "0           2  ex wife threatening suiciderecently i left my ...      suicide   \n",
              "1           3  am i weird i do not get affected by compliment...  non-suicide   \n",
              "2           4  finally  is almost over so i can never hear  h...  non-suicide   \n",
              "3           8          i need helpjust help me im crying so hard      suicide   \n",
              "4           9  i am so losthello my name is adam  and i have ...      suicide   \n",
              "5          11  honetly idki dont know what im even dong her i...      suicide   \n",
              "6          12  trigger warning excuse for self inflicted burn...      suicide   \n",
              "7          13     it ends tonight can not do it anymore \\ni quit      suicide   \n",
              "8          16  everyone wants to be edgy and it is making me ...  non-suicide   \n",
              "\n",
              "                                                word  \\\n",
              "0  [ex, wife, threatening, suiciderecently, left,...   \n",
              "1  [weird, affected, compliment, coming, know, ir...   \n",
              "2  [finally, hear, bad, year, swear, fucking, god...   \n",
              "3              [need, helpjust, help, im, cry, hard]   \n",
              "4  [losthello, adam, struggling, year, afraid, pa...   \n",
              "5  [honetly, idki, dont, know, im, dong, feel, li...   \n",
              "6  [trigger, warning, excuse, self, inflicted, bu...   \n",
              "7                      [end, tonight, anymore, quit]   \n",
              "8  [want, edgy, making, self, conscious, feel, li...   \n",
              "\n",
              "                                          clean_text  \n",
              "0  ex wife threatening suiciderecently left wife ...  \n",
              "1  weird affected compliment coming know irl feel...  \n",
              "2   finally hear bad year swear fucking god annoying  \n",
              "3                     need helpjust help im cry hard  \n",
              "4  losthello adam struggling year afraid past yea...  \n",
              "5  honetly idki dont know im dong feel like nowhe...  \n",
              "6  trigger warning excuse self inflicted burnsi k...  \n",
              "7                           end tonight anymore quit  \n",
              "8  want edgy making self conscious feel like stan...  "
            ],
            "text/html": [
              "\n",
              "  <div id=\"df-9c256f25-7ab9-4487-933d-a53924377635\">\n",
              "    <div class=\"colab-df-container\">\n",
              "      <div>\n",
              "<style scoped>\n",
              "    .dataframe tbody tr th:only-of-type {\n",
              "        vertical-align: middle;\n",
              "    }\n",
              "\n",
              "    .dataframe tbody tr th {\n",
              "        vertical-align: top;\n",
              "    }\n",
              "\n",
              "    .dataframe thead th {\n",
              "        text-align: right;\n",
              "    }\n",
              "</style>\n",
              "<table border=\"1\" class=\"dataframe\">\n",
              "  <thead>\n",
              "    <tr style=\"text-align: right;\">\n",
              "      <th></th>\n",
              "      <th>Unnamed: 0</th>\n",
              "      <th>text</th>\n",
              "      <th>class</th>\n",
              "      <th>word</th>\n",
              "      <th>clean_text</th>\n",
              "    </tr>\n",
              "  </thead>\n",
              "  <tbody>\n",
              "    <tr>\n",
              "      <th>0</th>\n",
              "      <td>2</td>\n",
              "      <td>ex wife threatening suiciderecently i left my ...</td>\n",
              "      <td>suicide</td>\n",
              "      <td>[ex, wife, threatening, suiciderecently, left,...</td>\n",
              "      <td>ex wife threatening suiciderecently left wife ...</td>\n",
              "    </tr>\n",
              "    <tr>\n",
              "      <th>1</th>\n",
              "      <td>3</td>\n",
              "      <td>am i weird i do not get affected by compliment...</td>\n",
              "      <td>non-suicide</td>\n",
              "      <td>[weird, affected, compliment, coming, know, ir...</td>\n",
              "      <td>weird affected compliment coming know irl feel...</td>\n",
              "    </tr>\n",
              "    <tr>\n",
              "      <th>2</th>\n",
              "      <td>4</td>\n",
              "      <td>finally  is almost over so i can never hear  h...</td>\n",
              "      <td>non-suicide</td>\n",
              "      <td>[finally, hear, bad, year, swear, fucking, god...</td>\n",
              "      <td>finally hear bad year swear fucking god annoying</td>\n",
              "    </tr>\n",
              "    <tr>\n",
              "      <th>3</th>\n",
              "      <td>8</td>\n",
              "      <td>i need helpjust help me im crying so hard</td>\n",
              "      <td>suicide</td>\n",
              "      <td>[need, helpjust, help, im, cry, hard]</td>\n",
              "      <td>need helpjust help im cry hard</td>\n",
              "    </tr>\n",
              "    <tr>\n",
              "      <th>4</th>\n",
              "      <td>9</td>\n",
              "      <td>i am so losthello my name is adam  and i have ...</td>\n",
              "      <td>suicide</td>\n",
              "      <td>[losthello, adam, struggling, year, afraid, pa...</td>\n",
              "      <td>losthello adam struggling year afraid past yea...</td>\n",
              "    </tr>\n",
              "    <tr>\n",
              "      <th>5</th>\n",
              "      <td>11</td>\n",
              "      <td>honetly idki dont know what im even dong her i...</td>\n",
              "      <td>suicide</td>\n",
              "      <td>[honetly, idki, dont, know, im, dong, feel, li...</td>\n",
              "      <td>honetly idki dont know im dong feel like nowhe...</td>\n",
              "    </tr>\n",
              "    <tr>\n",
              "      <th>6</th>\n",
              "      <td>12</td>\n",
              "      <td>trigger warning excuse for self inflicted burn...</td>\n",
              "      <td>suicide</td>\n",
              "      <td>[trigger, warning, excuse, self, inflicted, bu...</td>\n",
              "      <td>trigger warning excuse self inflicted burnsi k...</td>\n",
              "    </tr>\n",
              "    <tr>\n",
              "      <th>7</th>\n",
              "      <td>13</td>\n",
              "      <td>it ends tonight can not do it anymore \\ni quit</td>\n",
              "      <td>suicide</td>\n",
              "      <td>[end, tonight, anymore, quit]</td>\n",
              "      <td>end tonight anymore quit</td>\n",
              "    </tr>\n",
              "    <tr>\n",
              "      <th>8</th>\n",
              "      <td>16</td>\n",
              "      <td>everyone wants to be edgy and it is making me ...</td>\n",
              "      <td>non-suicide</td>\n",
              "      <td>[want, edgy, making, self, conscious, feel, li...</td>\n",
              "      <td>want edgy making self conscious feel like stan...</td>\n",
              "    </tr>\n",
              "  </tbody>\n",
              "</table>\n",
              "</div>\n",
              "      <button class=\"colab-df-convert\" onclick=\"convertToInteractive('df-9c256f25-7ab9-4487-933d-a53924377635')\"\n",
              "              title=\"Convert this dataframe to an interactive table.\"\n",
              "              style=\"display:none;\">\n",
              "        \n",
              "  <svg xmlns=\"http://www.w3.org/2000/svg\" height=\"24px\"viewBox=\"0 0 24 24\"\n",
              "       width=\"24px\">\n",
              "    <path d=\"M0 0h24v24H0V0z\" fill=\"none\"/>\n",
              "    <path d=\"M18.56 5.44l.94 2.06.94-2.06 2.06-.94-2.06-.94-.94-2.06-.94 2.06-2.06.94zm-11 1L8.5 8.5l.94-2.06 2.06-.94-2.06-.94L8.5 2.5l-.94 2.06-2.06.94zm10 10l.94 2.06.94-2.06 2.06-.94-2.06-.94-.94-2.06-.94 2.06-2.06.94z\"/><path d=\"M17.41 7.96l-1.37-1.37c-.4-.4-.92-.59-1.43-.59-.52 0-1.04.2-1.43.59L10.3 9.45l-7.72 7.72c-.78.78-.78 2.05 0 2.83L4 21.41c.39.39.9.59 1.41.59.51 0 1.02-.2 1.41-.59l7.78-7.78 2.81-2.81c.8-.78.8-2.07 0-2.86zM5.41 20L4 18.59l7.72-7.72 1.47 1.35L5.41 20z\"/>\n",
              "  </svg>\n",
              "      </button>\n",
              "      \n",
              "  <style>\n",
              "    .colab-df-container {\n",
              "      display:flex;\n",
              "      flex-wrap:wrap;\n",
              "      gap: 12px;\n",
              "    }\n",
              "\n",
              "    .colab-df-convert {\n",
              "      background-color: #E8F0FE;\n",
              "      border: none;\n",
              "      border-radius: 50%;\n",
              "      cursor: pointer;\n",
              "      display: none;\n",
              "      fill: #1967D2;\n",
              "      height: 32px;\n",
              "      padding: 0 0 0 0;\n",
              "      width: 32px;\n",
              "    }\n",
              "\n",
              "    .colab-df-convert:hover {\n",
              "      background-color: #E2EBFA;\n",
              "      box-shadow: 0px 1px 2px rgba(60, 64, 67, 0.3), 0px 1px 3px 1px rgba(60, 64, 67, 0.15);\n",
              "      fill: #174EA6;\n",
              "    }\n",
              "\n",
              "    [theme=dark] .colab-df-convert {\n",
              "      background-color: #3B4455;\n",
              "      fill: #D2E3FC;\n",
              "    }\n",
              "\n",
              "    [theme=dark] .colab-df-convert:hover {\n",
              "      background-color: #434B5C;\n",
              "      box-shadow: 0px 1px 3px 1px rgba(0, 0, 0, 0.15);\n",
              "      filter: drop-shadow(0px 1px 2px rgba(0, 0, 0, 0.3));\n",
              "      fill: #FFFFFF;\n",
              "    }\n",
              "  </style>\n",
              "\n",
              "      <script>\n",
              "        const buttonEl =\n",
              "          document.querySelector('#df-9c256f25-7ab9-4487-933d-a53924377635 button.colab-df-convert');\n",
              "        buttonEl.style.display =\n",
              "          google.colab.kernel.accessAllowed ? 'block' : 'none';\n",
              "\n",
              "        async function convertToInteractive(key) {\n",
              "          const element = document.querySelector('#df-9c256f25-7ab9-4487-933d-a53924377635');\n",
              "          const dataTable =\n",
              "            await google.colab.kernel.invokeFunction('convertToInteractive',\n",
              "                                                     [key], {});\n",
              "          if (!dataTable) return;\n",
              "\n",
              "          const docLinkHtml = 'Like what you see? Visit the ' +\n",
              "            '<a target=\"_blank\" href=https://colab.research.google.com/notebooks/data_table.ipynb>data table notebook</a>'\n",
              "            + ' to learn more about interactive tables.';\n",
              "          element.innerHTML = '';\n",
              "          dataTable['output_type'] = 'display_data';\n",
              "          await google.colab.output.renderOutput(dataTable, element);\n",
              "          const docLink = document.createElement('div');\n",
              "          docLink.innerHTML = docLinkHtml;\n",
              "          element.appendChild(docLink);\n",
              "        }\n",
              "      </script>\n",
              "    </div>\n",
              "  </div>\n",
              "  "
            ]
          },
          "metadata": {},
          "execution_count": 99
        }
      ],
      "source": [
        "df.head(9)"
      ]
    },
    {
      "cell_type": "markdown",
      "metadata": {
        "id": "2f498ec7"
      },
      "source": [
        "# Step 7:  Save Cleaned File"
      ]
    },
    {
      "cell_type": "code",
      "execution_count": null,
      "metadata": {
        "id": "12fc6d0d"
      },
      "outputs": [],
      "source": [
        "df.to_csv('Suicide_Detection_DataWrangling.csv')"
      ]
    }
  ]
}